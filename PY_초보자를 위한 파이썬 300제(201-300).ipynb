{
 "cells": [
  {
   "cell_type": "markdown",
   "id": "bee2faea",
   "metadata": {},
   "source": [
    "# 파이썬 함수"
   ]
  },
  {
   "cell_type": "markdown",
   "id": "1f499acf",
   "metadata": {},
   "source": [
    "**201~240**"
   ]
  },
  {
   "cell_type": "code",
   "execution_count": 4,
   "id": "3796171f",
   "metadata": {
    "scrolled": true
   },
   "outputs": [
    {
     "data": {
      "text/plain": [
       "'비트코인'"
      ]
     },
     "execution_count": 4,
     "metadata": {},
     "output_type": "execute_result"
    }
   ],
   "source": [
    "#201,202번def는 함수를 만들 때 사용하는 예약어 함수 이름은 임의로 생성\n",
    "#함수 이름 뒤 괄호 안의 매개변수는 이 함수에 입력으로 전달되는 값을 받는 변수\n",
    "#def 함수_이름(매개변수): 수행할_문장1\n",
    "def print_coin():\n",
    "    return '비트코인'\n",
    "print_coin()"
   ]
  },
  {
   "cell_type": "code",
   "execution_count": 13,
   "id": "c766b34c",
   "metadata": {},
   "outputs": [
    {
     "name": "stdout",
     "output_type": "stream",
     "text": [
      "비트코인비트코인비트코인비트코인비트코인비트코인비트코인비트코인비트코인비트코인\n",
      "비트코인\n",
      "비트코인\n",
      "비트코인\n",
      "비트코인\n",
      "비트코인\n",
      "비트코인\n",
      "비트코인\n",
      "비트코인\n",
      "비트코인\n",
      "비트코인\n"
     ]
    }
   ],
   "source": [
    "print(print_coin()*10)\n",
    "\n",
    "for i in range(10):\n",
    "    print(print_coin())"
   ]
  },
  {
   "cell_type": "code",
   "execution_count": 23,
   "id": "df436127",
   "metadata": {},
   "outputs": [
    {
     "name": "stdout",
     "output_type": "stream",
     "text": [
      "비트코인\n",
      "비트코인\n",
      "비트코인\n",
      "비트코인\n",
      "비트코인\n",
      "비트코인\n",
      "비트코인\n",
      "비트코인\n",
      "비트코인\n",
      "비트코인\n"
     ]
    }
   ],
   "source": [
    "def print_coins():\n",
    "    for i in range(10):\n",
    "        print(\"비트코인\")\n",
    "print_coins()"
   ]
  },
  {
   "cell_type": "code",
   "execution_count": 34,
   "id": "4f5febf6",
   "metadata": {},
   "outputs": [
    {
     "ename": "NameError",
     "evalue": "name 'hello' is not defined",
     "output_type": "error",
     "traceback": [
      "\u001b[1;31m---------------------------------------------------------------------------\u001b[0m",
      "\u001b[1;31mNameError\u001b[0m                                 Traceback (most recent call last)",
      "Cell \u001b[1;32mIn[34], line 2\u001b[0m\n\u001b[0;32m      1\u001b[0m \u001b[38;5;66;03m#205 아래 에러가 발생하는 이유\u001b[39;00m\n\u001b[1;32m----> 2\u001b[0m hello()\n\u001b[0;32m      3\u001b[0m \u001b[38;5;28;01mdef\u001b[39;00m \u001b[38;5;21mhello\u001b[39m():\n\u001b[0;32m      4\u001b[0m     \u001b[38;5;28mprint\u001b[39m(\u001b[38;5;124m\"\u001b[39m\u001b[38;5;124mHi\u001b[39m\u001b[38;5;124m\"\u001b[39m)\n",
      "\u001b[1;31mNameError\u001b[0m: name 'hello' is not defined"
     ]
    }
   ],
   "source": [
    "#205 아래 에러가 발생하는 이유\n",
    "hello()\n",
    "def hello():\n",
    "    print(\"Hi\")\n",
    "#hello 함수가 정의되기 전에 호출됨 "
   ]
  },
  {
   "cell_type": "code",
   "execution_count": 35,
   "id": "e0da084f",
   "metadata": {},
   "outputs": [
    {
     "name": "stdout",
     "output_type": "stream",
     "text": [
      "Hi\n"
     ]
    }
   ],
   "source": [
    "#hello 함수 정의를 먼저하고 호출하면 됨 \n",
    "def hello():\n",
    "    print(\"Hi\")\n",
    "hello()"
   ]
  },
  {
   "cell_type": "code",
   "execution_count": 40,
   "id": "177590f2",
   "metadata": {},
   "outputs": [
    {
     "name": "stdout",
     "output_type": "stream",
     "text": [
      "A\n",
      "B\n",
      "C\n",
      "A\n",
      "B\n"
     ]
    }
   ],
   "source": [
    "#206 실행결과 예측 A B / C / A B\n",
    "def message() :\n",
    "    print(\"A\")\n",
    "    print(\"B\")\n",
    "\n",
    "message()\n",
    "print(\"C\")\n",
    "message()"
   ]
  },
  {
   "cell_type": "code",
   "execution_count": 43,
   "id": "1a6419ae",
   "metadata": {},
   "outputs": [
    {
     "name": "stdout",
     "output_type": "stream",
     "text": [
      "A\n",
      "C\n",
      "B\n"
     ]
    }
   ],
   "source": [
    "#207 A / C / B\n",
    "print(\"A\")\n",
    "\n",
    "def message() :\n",
    "    print(\"B\")\n",
    "\n",
    "print(\"C\")\n",
    "message()"
   ]
  },
  {
   "cell_type": "code",
   "execution_count": 1,
   "id": "50c51adf",
   "metadata": {},
   "outputs": [
    {
     "name": "stdout",
     "output_type": "stream",
     "text": [
      "A\n",
      "C\n",
      "B\n",
      "E\n",
      "D\n"
     ]
    }
   ],
   "source": [
    "#208 A/ C/ B/ E/ D\n",
    "\n",
    "print(\"A\")\n",
    "def message1() :\n",
    "    print(\"B\")\n",
    "print(\"C\")\n",
    "def message2() :\n",
    "    print(\"D\")\n",
    "message1()\n",
    "print(\"E\")\n",
    "message2()"
   ]
  },
  {
   "cell_type": "code",
   "execution_count": 4,
   "id": "04e2f605",
   "metadata": {},
   "outputs": [
    {
     "name": "stdout",
     "output_type": "stream",
     "text": [
      "B\n",
      "A\n"
     ]
    }
   ],
   "source": [
    "#209 B / A\n",
    "#message2()에 대한 출력 순서 > print(\"B\") message1() \n",
    "def message1():\n",
    "    print(\"A\")\n",
    "\n",
    "def message2():\n",
    "    print(\"B\")\n",
    "    message1()\n",
    "\n",
    "message2()"
   ]
  },
  {
   "cell_type": "code",
   "execution_count": 7,
   "id": "fa93c24d",
   "metadata": {},
   "outputs": [
    {
     "name": "stdout",
     "output_type": "stream",
     "text": [
      "B\n",
      "C\n",
      "B\n",
      "C\n",
      "B\n",
      "C\n",
      "A\n"
     ]
    }
   ],
   "source": [
    "#210 #3번 텀까지 B,C출력 / B C B C B C A\n",
    "def message1():\n",
    "    print(\"A\")\n",
    "\n",
    "def message2():\n",
    "    print(\"B\")\n",
    "\n",
    "def message3():\n",
    "    for i in range (3) :\n",
    "        message2()\n",
    "        print(\"C\")\n",
    "    message1()\n",
    "\n",
    "message3()"
   ]
  },
  {
   "cell_type": "code",
   "execution_count": 8,
   "id": "3a60bd0e",
   "metadata": {},
   "outputs": [
    {
     "name": "stdout",
     "output_type": "stream",
     "text": [
      "안녕\n",
      "Hi\n"
     ]
    }
   ],
   "source": [
    "#211 함수가 호출될때마다 매개변수 (문자열) 의 입력값이 출력\n",
    "def 함수(문자열) :\n",
    "    print(문자열)\n",
    "\n",
    "함수(\"안녕\")\n",
    "함수(\"Hi\")"
   ]
  },
  {
   "cell_type": "code",
   "execution_count": 10,
   "id": "7ea5696f",
   "metadata": {},
   "outputs": [
    {
     "name": "stdout",
     "output_type": "stream",
     "text": [
      "7\n",
      "15\n"
     ]
    }
   ],
   "source": [
    "#212 7 / 15 출력 \n",
    "def 함수(a, b) :\n",
    "    print(a + b)\n",
    "\n",
    "함수(3, 4)\n",
    "함수(7, 8)"
   ]
  },
  {
   "cell_type": "code",
   "execution_count": 12,
   "id": "bd881e05",
   "metadata": {},
   "outputs": [
    {
     "ename": "TypeError",
     "evalue": "함수() missing 1 required positional argument: '문자열'",
     "output_type": "error",
     "traceback": [
      "\u001b[1;31m---------------------------------------------------------------------------\u001b[0m",
      "\u001b[1;31mTypeError\u001b[0m                                 Traceback (most recent call last)",
      "Cell \u001b[1;32mIn[12], line 5\u001b[0m\n\u001b[0;32m      3\u001b[0m \u001b[38;5;28;01mdef\u001b[39;00m \u001b[38;5;21m함수\u001b[39m(문자열) : \n\u001b[0;32m      4\u001b[0m     \u001b[38;5;28mprint\u001b[39m(문자열)\n\u001b[1;32m----> 5\u001b[0m 함수()\n",
      "\u001b[1;31mTypeError\u001b[0m: 함수() missing 1 required positional argument: '문자열'"
     ]
    }
   ],
   "source": [
    "#213 현재 함수(문자열)로 정의하고 있기 때문에 하나의 값이라도 입력해야 함\n",
    "\n",
    "def 함수(문자열) : \n",
    "    print(문자열)\n",
    "함수()"
   ]
  },
  {
   "cell_type": "code",
   "execution_count": 34,
   "id": "4c8c1668",
   "metadata": {},
   "outputs": [
    {
     "ename": "TypeError",
     "evalue": "can only concatenate str (not \"int\") to str",
     "output_type": "error",
     "traceback": [
      "\u001b[1;31m---------------------------------------------------------------------------\u001b[0m",
      "\u001b[1;31mTypeError\u001b[0m                                 Traceback (most recent call last)",
      "Cell \u001b[1;32mIn[34], line 6\u001b[0m\n\u001b[0;32m      4\u001b[0m \u001b[38;5;28;01mdef\u001b[39;00m \u001b[38;5;21m함수\u001b[39m(a, b) :\n\u001b[0;32m      5\u001b[0m     \u001b[38;5;28mprint\u001b[39m(a \u001b[38;5;241m+\u001b[39m b)\n\u001b[1;32m----> 6\u001b[0m 함수(\u001b[38;5;124m'\u001b[39m\u001b[38;5;124m안녕\u001b[39m\u001b[38;5;124m'\u001b[39m,\u001b[38;5;241m3\u001b[39m)\n",
      "Cell \u001b[1;32mIn[34], line 5\u001b[0m, in \u001b[0;36m함수\u001b[1;34m(a, b)\u001b[0m\n\u001b[0;32m      4\u001b[0m \u001b[38;5;28;01mdef\u001b[39;00m \u001b[38;5;21m함수\u001b[39m(a, b) :\n\u001b[1;32m----> 5\u001b[0m     \u001b[38;5;28mprint\u001b[39m(a \u001b[38;5;241m+\u001b[39m b)\n",
      "\u001b[1;31mTypeError\u001b[0m: can only concatenate str (not \"int\") to str"
     ]
    }
   ],
   "source": [
    "#214\n",
    "#파이썬에서는 두 피연산자가 같은 자료형이어야 하는데, \n",
    "#서로 다른 자료형(문자열과 정수)이기 때문에 type error가 발생함\n",
    "def 함수(a, b) :\n",
    "    print(a + b)\n",
    "함수('안녕',3)"
   ]
  },
  {
   "cell_type": "code",
   "execution_count": 35,
   "id": "a52301a3",
   "metadata": {},
   "outputs": [
    {
     "name": "stdout",
     "output_type": "stream",
     "text": [
      "안녕3\n"
     ]
    }
   ],
   "source": [
    "#위 문제에서 안녕3을 출력하고 싶으면 \n",
    "def 함수(a, b) :\n",
    "    print(str(a)+str(b))\n",
    "\n",
    "함수('안녕',3)"
   ]
  },
  {
   "cell_type": "code",
   "execution_count": 37,
   "id": "ac765da9",
   "metadata": {},
   "outputs": [
    {
     "name": "stdout",
     "output_type": "stream",
     "text": [
      "안녕안녕안녕\n"
     ]
    }
   ],
   "source": [
    "#위 문제에서 문자열과 정수의 곱셈은 가능함\n",
    "def 함수(a, b) :\n",
    "    print(a * b)\n",
    "\n",
    "함수('안녕',3)"
   ]
  },
  {
   "cell_type": "code",
   "execution_count": 19,
   "id": "83826935",
   "metadata": {},
   "outputs": [
    {
     "name": "stdout",
     "output_type": "stream",
     "text": [
      "안녕:D\n",
      "혼자어때 둘이어때 여기어때:D\n"
     ]
    }
   ],
   "source": [
    "#215-216 하나의 문자를 입력받아 문자열 끝에 \":D\" 스마일 문자열을 이어 붙여 출력하는 print_with_smile 함수를 정의하라.\n",
    "def print_with_smile(a) :\n",
    "    print(a+':D')\n",
    "print_with_smile('안녕')\n",
    "print_with_smile('혼자어때 둘이어때 여기어때')"
   ]
  },
  {
   "cell_type": "code",
   "execution_count": 22,
   "id": "f7b2a582",
   "metadata": {},
   "outputs": [
    {
     "name": "stdout",
     "output_type": "stream",
     "text": [
      "84890.0\n"
     ]
    }
   ],
   "source": [
    "#217 현재 가격을 입력 받아 상한가 (30%)를 출력\n",
    "def print_upper_price(a) :\n",
    "    print(a*1.3)\n",
    "print_upper_price(65300)"
   ]
  },
  {
   "cell_type": "code",
   "execution_count": 40,
   "id": "0f175879",
   "metadata": {},
   "outputs": [
    {
     "name": "stdout",
     "output_type": "stream",
     "text": [
      "10\n"
     ]
    }
   ],
   "source": [
    "#218. 두 개의 숫자를 입력받아 두 수의 합을 출력하는 print_sum 함수를 정의하라.\n",
    "def print_sum(a, b) :\n",
    "    print(a+b)\n",
    "print_sum(2,8)"
   ]
  },
  {
   "cell_type": "code",
   "execution_count": 39,
   "id": "845cb8c9",
   "metadata": {},
   "outputs": [
    {
     "name": "stdout",
     "output_type": "stream",
     "text": [
      "10\n"
     ]
    }
   ],
   "source": [
    "#218. 다른 풀이 \n",
    "#sum() 함수를 사용하려면, 숫자를 담고 있는 iterable(리스트, 튜플)을 만들어서 sum() 함수에 전달해야 함\n",
    "def print_sum(a, b):\n",
    "    result = sum([a, b])\n",
    "    print(result)\n",
    "\n",
    "print_sum(2,8)"
   ]
  },
  {
   "cell_type": "code",
   "execution_count": 27,
   "id": "b68c6736",
   "metadata": {},
   "outputs": [
    {
     "name": "stdout",
     "output_type": "stream",
     "text": [
      "3 + 4 = 7\n",
      "3 - 4 = -1\n",
      "3 * 4 = 12\n",
      "3 / 4 = 0.75\n"
     ]
    }
   ],
   "source": [
    "#219 두 개의 숫자를 입력받아 합/차/곱/나눗셈을 출력하는 print_arithmetic_operation 함수를 작성\n",
    "def print_arithmetic_operation(a, b):\n",
    "    print('{} + {} = {}'.format(a,b,a+b))\n",
    "    print('{} - {} = {}'.format(a,b,a-b))\n",
    "    print('{} * {} = {}'.format(a,b,a*b))\n",
    "    print('{} / {} = {}'.format(a,b,a/b))\n",
    "print_arithmetic_operation(3,4)"
   ]
  },
  {
   "cell_type": "code",
   "execution_count": 32,
   "id": "556742e3",
   "metadata": {},
   "outputs": [
    {
     "name": "stdout",
     "output_type": "stream",
     "text": [
      "15\n"
     ]
    }
   ],
   "source": [
    "#220 세 개의 숫자를 입력받아 가장 큰수를 출력하는 print_max 함수를 정의하라. 단 if 문을 사용해서 수를 비교하라\n",
    "def print_max(a,b,c):\n",
    "    if a >= b and a >=c:\n",
    "        print(a)\n",
    "    elif b>=a and b>=c:\n",
    "        print(b)\n",
    "    else:\n",
    "        print(c)\n",
    "print_max(10,10,15)"
   ]
  },
  {
   "cell_type": "code",
   "execution_count": 36,
   "id": "35588284",
   "metadata": {},
   "outputs": [
    {
     "name": "stdout",
     "output_type": "stream",
     "text": [
      "7\n"
     ]
    }
   ],
   "source": [
    "# 220 좀 더 간단하게 \n",
    "def print_max(a, b, c):\n",
    "    m = 0\n",
    "    if a > m:\n",
    "        m = a\n",
    "    if b > m:\n",
    "        m = b\n",
    "    if c > m:\n",
    "        m = c\n",
    "    print(m)\n",
    "print_max(4,5,7)"
   ]
  },
  {
   "cell_type": "code",
   "execution_count": 38,
   "id": "7c7e238a",
   "metadata": {},
   "outputs": [
    {
     "name": "stdout",
     "output_type": "stream",
     "text": [
      "nohtyp\n"
     ]
    }
   ],
   "source": [
    "#221 문자열 역순 출력\n",
    "def print_reverse(a):\n",
    "    print(a[::-1])\n",
    "print_reverse(\"python\")"
   ]
  },
  {
   "cell_type": "code",
   "execution_count": 40,
   "id": "15bb7532",
   "metadata": {},
   "outputs": [
    {
     "name": "stdout",
     "output_type": "stream",
     "text": [
      "2.0\n"
     ]
    }
   ],
   "source": [
    "#222. 성적리스트를 입력받아 평균 출력\n",
    "def print_score (avg_score) :\n",
    "    print(sum(avg_score)/len(avg_score))\n",
    "print_score ([1, 2, 3])"
   ]
  },
  {
   "cell_type": "code",
   "execution_count": 51,
   "id": "18d29324",
   "metadata": {},
   "outputs": [
    {
     "name": "stdout",
     "output_type": "stream",
     "text": [
      "평균 성적: 2.0\n"
     ]
    }
   ],
   "source": [
    "#222. 성적리스트를 입력받아 평균 출력 다른 풀이 \n",
    "def print_score(scores):\n",
    "    if not scores:\n",
    "        print(\"성적 리스트가 비어 있습니다.\")\n",
    "        return\n",
    "\n",
    "    average = sum(scores) / len(scores)\n",
    "    print(f\"평균 성적: {average}\")\n",
    "\n",
    "scores = [1,2,3]\n",
    "print_score(scores)"
   ]
  },
  {
   "cell_type": "code",
   "execution_count": 48,
   "id": "54826287",
   "metadata": {},
   "outputs": [
    {
     "name": "stdout",
     "output_type": "stream",
     "text": [
      "2\n",
      "10\n",
      "12\n"
     ]
    }
   ],
   "source": [
    "#223. 하나의 리스트를 입력받아 짝수만 화면에 출력하는 print_even 함수를 정의\n",
    "def print_even (num) :\n",
    "    for i in num:\n",
    "        if i % 2 == 0:\n",
    "            print(i)\n",
    "print_even ([1, 3, 2, 10, 12, 11, 15])"
   ]
  },
  {
   "cell_type": "code",
   "execution_count": 50,
   "id": "d7b64241",
   "metadata": {},
   "outputs": [
    {
     "name": "stdout",
     "output_type": "stream",
     "text": [
      "이름\n",
      "나이\n",
      "성별\n"
     ]
    }
   ],
   "source": [
    "#224 하나의 딕셔너리를 입력받아 딕셔너리의 key 값을 화면에 출력하는 print_keys 함수를 정의\n",
    "def print_keys(딕) :\n",
    "    for k in 딕.keys():\n",
    "        print(k)\n",
    "print_keys ({\"이름\":\"김말똥\", \"나이\":30, \"성별\":0})"
   ]
  },
  {
   "cell_type": "code",
   "execution_count": 74,
   "id": "86a2c58b",
   "metadata": {},
   "outputs": [
    {
     "name": "stdout",
     "output_type": "stream",
     "text": [
      "[100, 130, 100, 100]\n"
     ]
    }
   ],
   "source": [
    "#225 \n",
    "my_dict = {\"10/26\" : [100, 130, 100, 100],\n",
    "           \"10/27\" : [10, 12, 10, 11]}\n",
    "def print_value_by_key(my_dict,k):\n",
    "        print(my_dict[k])\n",
    "print_value_by_key (my_dict, \"10/26\")"
   ]
  },
  {
   "cell_type": "code",
   "execution_count": 81,
   "id": "29923606",
   "metadata": {},
   "outputs": [
    {
     "name": "stdout",
     "output_type": "stream",
     "text": [
      "dict_values([[100, 130, 100, 100], [10, 12, 10, 11]])\n"
     ]
    }
   ],
   "source": [
    "#225 왜 이건 안되지??\n",
    "def print_value_by_key(my_dict,k):\n",
    "        print(my_dict.values())\n",
    "print_value_by_key (my_dict,\"10/26\")"
   ]
  },
  {
   "cell_type": "code",
   "execution_count": 78,
   "id": "860748d3",
   "metadata": {},
   "outputs": [
    {
     "name": "stdout",
     "output_type": "stream",
     "text": [
      "[100, 130, 100, 100]\n",
      "[10, 12, 10, 11]\n"
     ]
    }
   ],
   "source": [
    "#225 왜 이것도 안되지??\n",
    "def print_value_by_key(my_dict,k):\n",
    "    for k in my_dict:\n",
    "        print(my_dict[k])\n",
    "print_value_by_key (my_dict, \"10/26\")"
   ]
  },
  {
   "cell_type": "code",
   "execution_count": 92,
   "id": "ee6eedff",
   "metadata": {},
   "outputs": [
    {
     "name": "stdout",
     "output_type": "stream",
     "text": [
      "아이엠어보\n",
      "이유알어걸\n"
     ]
    }
   ],
   "source": [
    "#226번 혜진님 피드백 참고 \n",
    "def print_5xn(string) :\n",
    "    for i in range(0,len(string),5):\n",
    "        for j in range(i,i+5):\n",
    "            print(string[j],end='')\n",
    "        print('\\n',end='')\n",
    "print_5xn(\"아이엠어보이유알어걸\")"
   ]
  },
  {
   "cell_type": "code",
   "execution_count": 97,
   "id": "06cd6096",
   "metadata": {},
   "outputs": [
    {
     "name": "stdout",
     "output_type": "stream",
     "text": [
      "아이엠어보\n",
      "이유알어걸\n"
     ]
    }
   ],
   "source": [
    "#226번 다른 방법 \n",
    "def print_5xn(string) :\n",
    "    num=int(len(string)/5)\n",
    "    for i in range(num):\n",
    "        print(string[i*5:i*5+5])\n",
    "print_5xn(\"아이엠어보이유알어걸\")"
   ]
  },
  {
   "cell_type": "code",
   "execution_count": 103,
   "id": "18f8d2eb",
   "metadata": {},
   "outputs": [
    {
     "name": "stdout",
     "output_type": "stream",
     "text": [
      "아이엠\n",
      "어보이\n",
      "유알어\n",
      "걸\n"
     ]
    }
   ],
   "source": [
    "#227 \n",
    "def printmxn(string,n) :\n",
    "    num=int(len(string)/n+1)\n",
    "    for i in range(num):\n",
    "        print(string[i*n:i*n+n])\n",
    "printmxn(\"아이엠어보이유알어걸\", 3)"
   ]
  },
  {
   "cell_type": "code",
   "execution_count": 105,
   "id": "674de13e",
   "metadata": {},
   "outputs": [
    {
     "name": "stdout",
     "output_type": "stream",
     "text": [
      "아이엠\n",
      "어보이\n",
      "유알어\n",
      "걸"
     ]
    },
    {
     "ename": "IndexError",
     "evalue": "string index out of range",
     "output_type": "error",
     "traceback": [
      "\u001b[1;31m---------------------------------------------------------------------------\u001b[0m",
      "\u001b[1;31mIndexError\u001b[0m                                Traceback (most recent call last)",
      "Cell \u001b[1;32mIn[105], line 7\u001b[0m\n\u001b[0;32m      5\u001b[0m             \u001b[38;5;28mprint\u001b[39m(string[j],end\u001b[38;5;241m=\u001b[39m\u001b[38;5;124m'\u001b[39m\u001b[38;5;124m'\u001b[39m)\n\u001b[0;32m      6\u001b[0m         \u001b[38;5;28mprint\u001b[39m(\u001b[38;5;124m'\u001b[39m\u001b[38;5;130;01m\\n\u001b[39;00m\u001b[38;5;124m'\u001b[39m,end\u001b[38;5;241m=\u001b[39m\u001b[38;5;124m'\u001b[39m\u001b[38;5;124m'\u001b[39m)\n\u001b[1;32m----> 7\u001b[0m print_5xn(\u001b[38;5;124m\"\u001b[39m\u001b[38;5;124m아이엠어보이유알어걸\u001b[39m\u001b[38;5;124m\"\u001b[39m,\u001b[38;5;241m3\u001b[39m)\n",
      "Cell \u001b[1;32mIn[105], line 5\u001b[0m, in \u001b[0;36mprint_5xn\u001b[1;34m(string, n)\u001b[0m\n\u001b[0;32m      3\u001b[0m \u001b[38;5;28;01mfor\u001b[39;00m i \u001b[38;5;129;01min\u001b[39;00m \u001b[38;5;28mrange\u001b[39m(\u001b[38;5;241m0\u001b[39m,\u001b[38;5;28mlen\u001b[39m(string),n):\n\u001b[0;32m      4\u001b[0m     \u001b[38;5;28;01mfor\u001b[39;00m j \u001b[38;5;129;01min\u001b[39;00m \u001b[38;5;28mrange\u001b[39m(i,i\u001b[38;5;241m+\u001b[39mn):\n\u001b[1;32m----> 5\u001b[0m         \u001b[38;5;28mprint\u001b[39m(string[j],end\u001b[38;5;241m=\u001b[39m\u001b[38;5;124m'\u001b[39m\u001b[38;5;124m'\u001b[39m)\n\u001b[0;32m      6\u001b[0m     \u001b[38;5;28mprint\u001b[39m(\u001b[38;5;124m'\u001b[39m\u001b[38;5;130;01m\\n\u001b[39;00m\u001b[38;5;124m'\u001b[39m,end\u001b[38;5;241m=\u001b[39m\u001b[38;5;124m'\u001b[39m\u001b[38;5;124m'\u001b[39m)\n",
      "\u001b[1;31mIndexError\u001b[0m: string index out of range"
     ]
    }
   ],
   "source": [
    "#227\n",
    "def print_5xn(string,n) :\n",
    "    for i in range(0,len(string),n):\n",
    "        for j in range(i,i+n):\n",
    "            print(string[j],end='')\n",
    "        print('\\n',end='')\n",
    "print_5xn(\"아이엠어보이유알어걸\",3)"
   ]
  },
  {
   "cell_type": "code",
   "execution_count": 111,
   "id": "813a3763",
   "metadata": {},
   "outputs": [
    {
     "name": "stdout",
     "output_type": "stream",
     "text": [
      "3666666\n"
     ]
    }
   ],
   "source": [
    "#228\n",
    "def calc_monthly_salary(annual_salary):\n",
    "    print(int(annual_salary/12))\n",
    "    \n",
    "calc_monthly_salary(44000000)"
   ]
  },
  {
   "cell_type": "code",
   "execution_count": 112,
   "id": "00c20fa7",
   "metadata": {},
   "outputs": [
    {
     "name": "stdout",
     "output_type": "stream",
     "text": [
      "왼쪽: 100\n",
      "오른쪽: 200\n"
     ]
    }
   ],
   "source": [
    "#229 왼쪽:100 오른쪽: 200\n",
    "def my_print (a, b) :\n",
    "    print(\"왼쪽:\", a)\n",
    "    print(\"오른쪽:\", b)\n",
    "\n",
    "my_print(a=100, b=200)"
   ]
  },
  {
   "cell_type": "code",
   "execution_count": 113,
   "id": "dbfa3ef1",
   "metadata": {},
   "outputs": [],
   "source": [
    "#230은 반대로 "
   ]
  },
  {
   "cell_type": "code",
   "execution_count": 114,
   "id": "5ba6ac6c",
   "metadata": {},
   "outputs": [
    {
     "ename": "NameError",
     "evalue": "name 'result' is not defined",
     "output_type": "error",
     "traceback": [
      "\u001b[1;31m---------------------------------------------------------------------------\u001b[0m",
      "\u001b[1;31mNameError\u001b[0m                                 Traceback (most recent call last)",
      "Cell \u001b[1;32mIn[114], line 5\u001b[0m\n\u001b[0;32m      2\u001b[0m     result \u001b[38;5;241m=\u001b[39m n \u001b[38;5;241m+\u001b[39m \u001b[38;5;241m1\u001b[39m\n\u001b[0;32m      4\u001b[0m n_plus_1(\u001b[38;5;241m3\u001b[39m)\n\u001b[1;32m----> 5\u001b[0m \u001b[38;5;28mprint\u001b[39m (result)\n",
      "\u001b[1;31mNameError\u001b[0m: name 'result' is not defined"
     ]
    }
   ],
   "source": [
    "#231 함수 내부에서 사용한 변수는 함수 밖에서는 접근이 불가능: return 사용 \n",
    "def n_plus_1 (n) :\n",
    "    result = n + 1\n",
    "\n",
    "n_plus_1(3)\n",
    "print (result)"
   ]
  },
  {
   "cell_type": "code",
   "execution_count": 120,
   "id": "80e674ba",
   "metadata": {},
   "outputs": [
    {
     "name": "stdout",
     "output_type": "stream",
     "text": [
      "4\n"
     ]
    }
   ],
   "source": [
    "#231 함수 내부에서 사용한 변수는 함수 밖에서는 접근이 불가능\n",
    "def n_plus_1 (n) :\n",
    "    result = n + 1\n",
    "    return result \n",
    "\n",
    "result = n_plus_1(3)\n",
    "print (result)"
   ]
  },
  {
   "cell_type": "code",
   "execution_count": 122,
   "id": "0ed791ca",
   "metadata": {},
   "outputs": [
    {
     "name": "stdout",
     "output_type": "stream",
     "text": [
      "www.naver.com\n"
     ]
    }
   ],
   "source": [
    "#232 \n",
    "def make_url(s):\n",
    "    print('www.'+s+'.com')\n",
    "make_url(\"naver\")"
   ]
  },
  {
   "cell_type": "code",
   "execution_count": 123,
   "id": "1e276ab0",
   "metadata": {},
   "outputs": [
    {
     "data": {
      "text/plain": [
       "'www.naver.com'"
      ]
     },
     "execution_count": 123,
     "metadata": {},
     "output_type": "execute_result"
    }
   ],
   "source": [
    "#232 \n",
    "def make_url(s):\n",
    "    return 'www.'+s+'.com'\n",
    "make_url(\"naver\")"
   ]
  },
  {
   "cell_type": "code",
   "execution_count": 125,
   "id": "1967120d",
   "metadata": {},
   "outputs": [
    {
     "data": {
      "text/plain": [
       "['a', 'b', 'c', 'd']"
      ]
     },
     "execution_count": 125,
     "metadata": {},
     "output_type": "execute_result"
    }
   ],
   "source": [
    "#233\n",
    "def make_list(a):\n",
    "    return list(a)\n",
    "make_list(\"abcd\")"
   ]
  },
  {
   "cell_type": "code",
   "execution_count": 127,
   "id": "8e84e068",
   "metadata": {},
   "outputs": [
    {
     "data": {
      "text/plain": [
       "['a', 'b', 'c', 'd', 'e', 'f', 'g']"
      ]
     },
     "execution_count": 127,
     "metadata": {},
     "output_type": "execute_result"
    }
   ],
   "source": [
    "#233 복잡하게 풀이 \n",
    "def make_list (string) :\n",
    "    my_list = []\n",
    "    for 변수 in string :\n",
    "        my_list.append(변수)\n",
    "    return my_list\n",
    "make_list(\"abcdefg\")"
   ]
  },
  {
   "cell_type": "code",
   "execution_count": 129,
   "id": "f7895b74",
   "metadata": {},
   "outputs": [
    {
     "data": {
      "text/plain": [
       "[4, 6, 8]"
      ]
     },
     "execution_count": 129,
     "metadata": {},
     "output_type": "execute_result"
    }
   ],
   "source": [
    "#234\n",
    "def pickup_even(a):\n",
    "    return a[1::2]\n",
    "pickup_even([3, 4, 5, 6, 7, 8])"
   ]
  },
  {
   "cell_type": "code",
   "execution_count": 136,
   "id": "d4e9382a",
   "metadata": {
    "scrolled": true
   },
   "outputs": [
    {
     "data": {
      "text/plain": [
       "1234567"
      ]
     },
     "execution_count": 136,
     "metadata": {},
     "output_type": "execute_result"
    }
   ],
   "source": [
    "#235\n",
    "def convert_int(a):\n",
    "    return int(a.replace(',',''))\n",
    "convert_int(\"1,234,567\")"
   ]
  },
  {
   "cell_type": "code",
   "execution_count": 137,
   "id": "bc061e33",
   "metadata": {},
   "outputs": [
    {
     "name": "stdout",
     "output_type": "stream",
     "text": [
      "22\n"
     ]
    }
   ],
   "source": [
    "#236\n",
    "def 함수(num) :\n",
    "    return num + 4\n",
    "\n",
    "a = 함수(10) #14\n",
    "b = 함수(a) #18\n",
    "c = 함수(b) #22\n",
    "print(c)"
   ]
  },
  {
   "cell_type": "code",
   "execution_count": 138,
   "id": "6e291f8f",
   "metadata": {},
   "outputs": [
    {
     "name": "stdout",
     "output_type": "stream",
     "text": [
      "22\n"
     ]
    }
   ],
   "source": [
    "#237 함수 중첩된 경우 안쪽 코드부터 차례로 해석 \n",
    "def 함수(num) :\n",
    "    return num + 4\n",
    "\n",
    "c = 함수(함수(함수(10)))\n",
    "print(c)"
   ]
  },
  {
   "cell_type": "code",
   "execution_count": 140,
   "id": "5a8d82f1",
   "metadata": {},
   "outputs": [
    {
     "name": "stdout",
     "output_type": "stream",
     "text": [
      "140\n"
     ]
    }
   ],
   "source": [
    "#238 \n",
    "def 함수1(num) :\n",
    "    return num + 4\n",
    "\n",
    "def 함수2(num) :\n",
    "    return num * 10\n",
    "\n",
    "a = 함수1(10) #14\n",
    "c = 함수2(a) #140\n",
    "print(c)"
   ]
  },
  {
   "cell_type": "code",
   "execution_count": 141,
   "id": "b0db8b21",
   "metadata": {},
   "outputs": [
    {
     "name": "stdout",
     "output_type": "stream",
     "text": [
      "16\n"
     ]
    }
   ],
   "source": [
    "#239\n",
    "def 함수1(num) :\n",
    "    return num + 4 #16\n",
    "\n",
    "def 함수2(num) :\n",
    "    num = num + 2 #12\n",
    "    return 함수1(num)\n",
    "\n",
    "c = 함수2(10)\n",
    "print(c)"
   ]
  },
  {
   "cell_type": "code",
   "execution_count": 142,
   "id": "9c817228",
   "metadata": {},
   "outputs": [
    {
     "name": "stdout",
     "output_type": "stream",
     "text": [
      "28\n"
     ]
    }
   ],
   "source": [
    "#240\n",
    "def 함수0(num) :\n",
    "    return num * 2 #28\n",
    "\n",
    "def 함수1(num) :\n",
    "    return 함수0(num + 2) #14\n",
    "\n",
    "def 함수2(num) :\n",
    "    num = num + 10 #12\n",
    "    return 함수1(num)\n",
    "\n",
    "c = 함수2(2)\n",
    "print(c)"
   ]
  },
  {
   "cell_type": "markdown",
   "id": "3238d241",
   "metadata": {},
   "source": [
    "# 파이썬 모듈\n",
    "* 파이썬 파일을 의미"
   ]
  },
  {
   "cell_type": "markdown",
   "id": "967385e9",
   "metadata": {},
   "source": [
    "**241~250**"
   ]
  },
  {
   "cell_type": "code",
   "execution_count": 158,
   "id": "9fd17e9c",
   "metadata": {},
   "outputs": [
    {
     "name": "stdout",
     "output_type": "stream",
     "text": [
      "2023-12-06 03:38:20.230922\n"
     ]
    }
   ],
   "source": [
    "import datetime\n",
    "print(datetime.datetime.now())"
   ]
  },
  {
   "cell_type": "code",
   "execution_count": 161,
   "id": "b8734ce6",
   "metadata": {},
   "outputs": [
    {
     "name": "stdout",
     "output_type": "stream",
     "text": [
      "<class 'datetime.datetime'>\n"
     ]
    }
   ],
   "source": [
    "import datetime\n",
    "print(type(datetime.datetime.now()))"
   ]
  },
  {
   "cell_type": "markdown",
   "id": "681f88b0",
   "metadata": {},
   "source": [
    "**이해 잘 안됨**"
   ]
  },
  {
   "cell_type": "code",
   "execution_count": 173,
   "id": "8e56c0da",
   "metadata": {},
   "outputs": [
    {
     "name": "stdout",
     "output_type": "stream",
     "text": [
      "2023-12-01 04:02:30.499027\n",
      "2023-12-02 04:02:30.499027\n",
      "2023-12-03 04:02:30.499027\n",
      "2023-12-04 04:02:30.499027\n",
      "2023-12-05 04:02:30.499027\n"
     ]
    },
    {
     "data": {
      "text/plain": [
       "datetime.datetime(2023, 12, 6, 4, 2, 30, 500027)"
      ]
     },
     "execution_count": 173,
     "metadata": {},
     "output_type": "execute_result"
    }
   ],
   "source": [
    "#243 timedelta 를 사용해서 오늘로부터 5일, 4일, 3일, 2일, 1일 전의 날짜를 화면에 출력\n",
    "import datetime\n",
    "now = datetime.datetime.now() #현재 시각\n",
    "for day in range(5,0,-1):\n",
    "    delta = datetime.timedelta(days=day)\n",
    "    date = now-delta\n",
    "    print(date)\n",
    "datetime.datetime.now()"
   ]
  },
  {
   "cell_type": "code",
   "execution_count": 182,
   "id": "dad81845",
   "metadata": {},
   "outputs": [
    {
     "name": "stdout",
     "output_type": "stream",
     "text": [
      "04:10:33\n"
     ]
    }
   ],
   "source": [
    "#244 \n",
    "import datetime\n",
    "now = datetime.datetime.now() #현재 시각\n",
    "print(now.strftime('%H:%M:%S'))"
   ]
  },
  {
   "cell_type": "code",
   "execution_count": 184,
   "id": "b1591593",
   "metadata": {},
   "outputs": [
    {
     "name": "stdout",
     "output_type": "stream",
     "text": [
      "2023-12-06 00:00:00 <class 'datetime.datetime'>\n"
     ]
    }
   ],
   "source": [
    "#245\n",
    "import datetime\n",
    "day = '2023-12-06'\n",
    "time = datetime.datetime.strptime(day, \"%Y-%m-%d\")\n",
    "print(time,type(time))"
   ]
  },
  {
   "cell_type": "code",
   "execution_count": 186,
   "id": "2f7b779a",
   "metadata": {},
   "outputs": [
    {
     "name": "stdout",
     "output_type": "stream",
     "text": [
      "2023-12-06 04:20:25.414250\n",
      "2023-12-06 04:20:26.415307\n",
      "2023-12-06 04:20:27.415766\n",
      "2023-12-06 04:20:28.416264\n",
      "2023-12-06 04:20:29.417108\n",
      "2023-12-06 04:20:30.417566\n",
      "2023-12-06 04:20:31.417810\n",
      "2023-12-06 04:20:32.418411\n",
      "2023-12-06 04:20:33.419168\n",
      "2023-12-06 04:20:34.419387\n"
     ]
    }
   ],
   "source": [
    "#246 sleep함수 / time 모듈, datetime 모듈을 사용해서 1초에 한 번 현재 시간을 출력하는 코드를 작성\n",
    "import time\n",
    "import datetime\n",
    "\n",
    "for i in range(10):\n",
    "    now = datetime.datetime.now()\n",
    "    print(now)\n",
    "    time.sleep(1)"
   ]
  },
  {
   "cell_type": "markdown",
   "id": "71444f88",
   "metadata": {},
   "source": [
    "## 모듈 임포트하는 4가지 방법\n",
    "1. import 모듈\n",
    "2. import 모듈 as 별칭(Alias)    -> 모듈 이름이 길어서 간결하게 사용해야 할 때 / 별칭.함수 로 사용하면 됨 \n",
    "3. from 모듈 import 함수명\n",
    "4. from 모듈 import *    -> 모듈 내 모든 기능을 임포트"
   ]
  },
  {
   "cell_type": "code",
   "execution_count": 4,
   "id": "4bac9473",
   "metadata": {},
   "outputs": [
    {
     "name": "stdout",
     "output_type": "stream",
     "text": [
      "C:\\workspace\\python\\WASSUP <class 'str'>\n"
     ]
    }
   ],
   "source": [
    "#248 os 모듈의 getcwd 함수를 호출하여 현재 디렉터리의 경로를 화면에 출력해보세요.\n",
    "import os\n",
    "path = os.getcwd()\n",
    "print(path,type(path))"
   ]
  },
  {
   "cell_type": "code",
   "execution_count": 12,
   "id": "23a1416c",
   "metadata": {},
   "outputs": [],
   "source": [
    "#249 바탕화면에 텍스트 파일을 하나 생성한 후 os 모듈의 rename 함수를 호출하여 해당 파일의 이름을 변경해보세요.\n",
    "import os\n",
    "os.rename('C:/Users/vivav/Desktop/rename.txt','C:/Users/vivav/Desktop/test.txt')"
   ]
  },
  {
   "cell_type": "code",
   "execution_count": 13,
   "id": "9c18f848",
   "metadata": {},
   "outputs": [
    {
     "name": "stdout",
     "output_type": "stream",
     "text": [
      "0.0\n",
      "0.1\n",
      "0.2\n",
      "0.30000000000000004\n",
      "0.4\n",
      "0.5\n",
      "0.6000000000000001\n",
      "0.7000000000000001\n",
      "0.8\n",
      "0.9\n",
      "1.0\n",
      "1.1\n",
      "1.2000000000000002\n",
      "1.3\n",
      "1.4000000000000001\n",
      "1.5\n",
      "1.6\n",
      "1.7000000000000002\n",
      "1.8\n",
      "1.9000000000000001\n",
      "2.0\n",
      "2.1\n",
      "2.2\n",
      "2.3000000000000003\n",
      "2.4000000000000004\n",
      "2.5\n",
      "2.6\n",
      "2.7\n",
      "2.8000000000000003\n",
      "2.9000000000000004\n",
      "3.0\n",
      "3.1\n",
      "3.2\n",
      "3.3000000000000003\n",
      "3.4000000000000004\n",
      "3.5\n",
      "3.6\n",
      "3.7\n",
      "3.8000000000000003\n",
      "3.9000000000000004\n",
      "4.0\n",
      "4.1000000000000005\n",
      "4.2\n",
      "4.3\n",
      "4.4\n",
      "4.5\n",
      "4.6000000000000005\n",
      "4.7\n",
      "4.800000000000001\n",
      "4.9\n"
     ]
    }
   ],
   "source": [
    "#250 numpy 모듈의 arange 함수를 사용해서 0.0 부터 5.0까지 0.1씩 증가하는 값을 화면에 출력해보세요.\n",
    "import numpy\n",
    "for i in numpy.arange(0, 5, 0.1):\n",
    "    print(i)"
   ]
  },
  {
   "cell_type": "markdown",
   "id": "43f9f019",
   "metadata": {},
   "source": [
    "# 파이썬 클래스\n",
    "\n",
    "* 파이썬 클래스는 타입을 만들어내는 도구입니다. int, float, str과 같이 여러분의 새로운 타입을 만들 수 있습니다."
   ]
  },
  {
   "cell_type": "code",
   "execution_count": 24,
   "id": "8c29aa2d",
   "metadata": {},
   "outputs": [],
   "source": [
    "#251 클래스, 객체, 인스턴스\n",
    "#클래스는 일종의 설계도로, 하나의 타입을 정의하는 방법입니다. \n",
    "#클래스에는 관련있는 데이터와 함수를 한 데 모아 정의할 수 있습니다. \n",
    "#클래스로 만들어진 결과물을 객체라고합니다."
   ]
  },
  {
   "cell_type": "code",
   "execution_count": 26,
   "id": "e34b288a",
   "metadata": {},
   "outputs": [],
   "source": [
    "#252 비어있는 사람 (Human) 클래스를 \"정의\" 해보세요.\n",
    "class Human:\n",
    "    pass"
   ]
  },
  {
   "cell_type": "code",
   "execution_count": 131,
   "id": "b5a7605c",
   "metadata": {},
   "outputs": [],
   "source": [
    "#253 사람 (Human) 클래스의 인스턴스를 \"생성\" 하고 이를 areum 변수로 바인딩해보세요.\n",
    "class Human:\n",
    "    pass\n",
    "areum = Human()"
   ]
  },
  {
   "cell_type": "code",
   "execution_count": 132,
   "id": "e6bc369b",
   "metadata": {},
   "outputs": [
    {
     "name": "stdout",
     "output_type": "stream",
     "text": [
      "응애응애\n"
     ]
    }
   ],
   "source": [
    "class Human:\n",
    "    print('응애응애')\n",
    "\n",
    "areum = Human()"
   ]
  },
  {
   "cell_type": "code",
   "execution_count": 128,
   "id": "e4fcf59a",
   "metadata": {},
   "outputs": [
    {
     "name": "stdout",
     "output_type": "stream",
     "text": [
      "응애응애\n"
     ]
    }
   ],
   "source": [
    "#254 클래스 생성자-1\n",
    "#self : 객체를 지칭 > 객체 자신을 참조함 \n",
    "#객체 생성 시 초기화 작업을 수행하고 초기화 작업 중 생성되는 인스턴스 변수들을 객체 자신에게 바인딩\n",
    "class Human:\n",
    "    def __init__(self):\n",
    "        print('응애응애')\n",
    "\n",
    "areum = Human()"
   ]
  },
  {
   "cell_type": "code",
   "execution_count": 143,
   "id": "05e4718e",
   "metadata": {},
   "outputs": [
    {
     "name": "stdout",
     "output_type": "stream",
     "text": [
      "아름\n",
      "25\n",
      "여자\n"
     ]
    }
   ],
   "source": [
    "#255 클래스 생성자-2\n",
    "class Human:\n",
    "    def __init__(self,name,age,gender):\n",
    "        self.name = name #객체의 속성으로 name 설정\n",
    "        self.age = age\n",
    "        self.gender = gender\n",
    "#human 클래스의 인스턴스 생성\n",
    "areum = Human('아름',25,'여자')\n",
    "# 인스턴스 변수에 접근하여 값을 출력\n",
    "print(areum.name)\n",
    "print(areum.age)\n",
    "print(areum.gender)"
   ]
  },
  {
   "cell_type": "code",
   "execution_count": 141,
   "id": "7a28d42e",
   "metadata": {},
   "outputs": [
    {
     "name": "stdout",
     "output_type": "stream",
     "text": [
      "이름:  조아름\n",
      "나이:  25\n",
      "성별:  여자\n"
     ]
    }
   ],
   "source": [
    "#256\n",
    "areum = Human('조아름',25,'여자')\n",
    "print('이름: ', areum.name)\n",
    "print('나이: ', areum.age)\n",
    "print('성별: ', areum.gender)"
   ]
  },
  {
   "cell_type": "code",
   "execution_count": 153,
   "id": "e9c7b0ec",
   "metadata": {
    "scrolled": true
   },
   "outputs": [
    {
     "name": "stdout",
     "output_type": "stream",
     "text": [
      "이름: 조아름, 나이: 25, 성별: 여자\n"
     ]
    }
   ],
   "source": [
    "#257 클래스 메소트-1\n",
    "class Human:\n",
    "    def __init__(self,name,age,gender):\n",
    "        self.name = name\n",
    "        self.age = age\n",
    "        self.gender = gender\n",
    "    def who(self): #who 메서드에서도 self를 통해 인스턴스 변수에 접근하여 값을 출력\n",
    "        print('이름: {}, 나이: {}, 성별: {}'.format(self.name, self.age, self.gender))\n",
    "areum = Human('조아름',25,'여자')\n",
    "areum.who() # Human.who(areum)"
   ]
  },
  {
   "cell_type": "code",
   "execution_count": 166,
   "id": "1bef006d",
   "metadata": {},
   "outputs": [
    {
     "name": "stdout",
     "output_type": "stream",
     "text": [
      "이름: 모름, 나이: 0, 성별: 모름\n",
      "이름: 조아름, 나이: 25, 성별: 여자\n"
     ]
    }
   ],
   "source": [
    "#258 클래스 메소드-2\n",
    "class Human:\n",
    "    def __init__(self,name,age,gender):\n",
    "        self.name = name\n",
    "        self.age = age\n",
    "        self.gender = gender\n",
    "    def who(self): #who 메서드에서도 self를 통해 인스턴스 변수에 접근하여 값을 출력\n",
    "        print('이름: {}, 나이: {}, 성별: {}'.format(self.name, self.age, self.gender))   \n",
    "    def setInfo(self,name,age,gender): #setInfo 메서드에서도 self를 통해 인스턴스 변수에 접근하여 값을 출력\n",
    "        self.name = name\n",
    "        self.age = age\n",
    "        self.gender = gender\n",
    "        \n",
    "areum = Human(\"모름\", 0, \"모름\")\n",
    "areum.who()\n",
    "areum.setInfo(\"조아름\", 25, \"여자\")\n",
    "areum.who()"
   ]
  },
  {
   "cell_type": "code",
   "execution_count": 169,
   "id": "555051a9",
   "metadata": {},
   "outputs": [
    {
     "name": "stdout",
     "output_type": "stream",
     "text": [
      "나의 죽음을 알리지 마라\n"
     ]
    }
   ],
   "source": [
    "#259 클래스 소멸자\n",
    "class Human:\n",
    "    def __init__(self,name,age,gender):\n",
    "        self.name = name\n",
    "        self.age = age\n",
    "        self.gender = gender\n",
    "    def who(self): \n",
    "        print('이름: {}, 나이: {}, 성별: {}'.format(self.name, self.age, self.gender))\n",
    "    def __del__(self):\n",
    "        print('나의 죽음을 알리지 마라')\n",
    "        \n",
    "areum = Human('조아름',25,'여자')\n",
    "del(areum)"
   ]
  },
  {
   "cell_type": "code",
   "execution_count": 172,
   "id": "8f41505f",
   "metadata": {},
   "outputs": [
    {
     "name": "stdout",
     "output_type": "stream",
     "text": [
      "Oh my god\n"
     ]
    }
   ],
   "source": [
    "#260 에러의 원인\n",
    "class OMG : # 클래스명.메서드’ 형태로 호출할 때는 객체 myStock를 첫 번째 매개변수 self에 꼭 전달해야 함\n",
    "    def print(self) :\n",
    "        print(\"Oh my god\")\n",
    "myStock = OMG()\n",
    "myStock.print()  # OMG.print(mystock)"
   ]
  },
  {
   "cell_type": "code",
   "execution_count": 174,
   "id": "da6d02aa",
   "metadata": {},
   "outputs": [
    {
     "name": "stdout",
     "output_type": "stream",
     "text": [
      "Oh my god\n"
     ]
    }
   ],
   "source": [
    "class OMG : \n",
    "    def print() :\n",
    "        print(\"Oh my god\")\n",
    "myStock = OMG()\n",
    "OMG.print() "
   ]
  },
  {
   "cell_type": "code",
   "execution_count": 43,
   "id": "b380c42e",
   "metadata": {},
   "outputs": [],
   "source": [
    "#261 주식 종목에 대한 정보를 저장하는 Stock 클래스를 정의해보세요. 클래스는 속성과 메서드를 갖고 있지 않습니다.\n",
    "class Stock : \n",
    "    pass"
   ]
  },
  {
   "cell_type": "code",
   "execution_count": 42,
   "id": "4ee7aa3b",
   "metadata": {},
   "outputs": [
    {
     "name": "stdout",
     "output_type": "stream",
     "text": [
      "삼성전자\n",
      "005930\n"
     ]
    }
   ],
   "source": [
    "#262 생성자 \n",
    "class Stock : \n",
    "    def __init__(self,name,code):\n",
    "        self.name = name\n",
    "        self.code = code\n",
    "삼성 = Stock(\"삼성전자\", \"005930\")\n",
    "print(삼성.name)\n",
    "print(삼성.code)"
   ]
  },
  {
   "cell_type": "code",
   "execution_count": 55,
   "id": "aecaf941",
   "metadata": {},
   "outputs": [
    {
     "name": "stdout",
     "output_type": "stream",
     "text": [
      "삼성전자\n"
     ]
    }
   ],
   "source": [
    "#263 객체에 종목명을 입력할 수 있는 set_name 메서드를 추가\n",
    "class Stock : \n",
    "    def __init__(self,name,code):\n",
    "        self.name = name\n",
    "        self.code = code\n",
    "    def set_name(self,name):\n",
    "        self.name = name\n",
    "a = Stock(None, None) # 객체 생성 \n",
    "a.set_name(\"삼성전자\") # Stock.set_name(a, \"삼성전자\") 종목명 설정 \n",
    "print(a.name)"
   ]
  },
  {
   "cell_type": "code",
   "execution_count": 58,
   "id": "15a497b0",
   "metadata": {},
   "outputs": [
    {
     "name": "stdout",
     "output_type": "stream",
     "text": [
      "005930\n"
     ]
    }
   ],
   "source": [
    "#264 객체에 종목코드를 입력할 수 있는 set_code 메서드를 추가해보세요.\n",
    "class Stock : \n",
    "    def __init__(self,name,code):\n",
    "        self.name = name\n",
    "        self.code = code\n",
    "    def set_code(self,code):\n",
    "        self.code = code\n",
    "a= Stock(None, None)\n",
    "a.set_code(\"005930\")\n",
    "print(a.code)"
   ]
  },
  {
   "cell_type": "code",
   "execution_count": 7,
   "id": "759e2f85",
   "metadata": {},
   "outputs": [
    {
     "name": "stdout",
     "output_type": "stream",
     "text": [
      "삼성전자\n",
      "005930\n"
     ]
    }
   ],
   "source": [
    "#265 종목명과 종목코드를 리턴하는 get_name, get_code 메서드를 추가하세요. 해당 메서드를 사용하여 종목명과 종목코드를 얻고 이를 출력해보세요.\n",
    "# (오답)\n",
    "class Stock : \n",
    "    def __init__(self,name,code):\n",
    "        self.name = name\n",
    "        self.code = code\n",
    "    def get_name(self,name):\n",
    "        self.name = name\n",
    "    def get_code(self,code):\n",
    "        self.code = code\n",
    "삼성 = Stock(\"삼성전자\", \"005930\")\n",
    "print(삼성.name)\n",
    "print(삼성.code)"
   ]
  },
  {
   "cell_type": "code",
   "execution_count": 12,
   "id": "ed027bcc",
   "metadata": {},
   "outputs": [
    {
     "name": "stdout",
     "output_type": "stream",
     "text": [
      "삼성전자\n",
      "005930\n",
      "삼성전자\n",
      "005930\n"
     ]
    }
   ],
   "source": [
    "#265 종목명과 종목코드를 리턴하는 get_name, get_code 메서드를 추가하세요. 해당 메서드를 사용하여 종목명과 종목코드를 얻고 이를 출력해보세요.\n",
    "class Stock : \n",
    "    def __init__(self,name,code):\n",
    "        self.name = name\n",
    "        self.code = code\n",
    "    def set_code(self,code):\n",
    "        self.code = code\n",
    "    def set_name(self,name):\n",
    "        self.name = name\n",
    "    def get_name(self):\n",
    "        return self.name\n",
    "    def get_code(self):\n",
    "        return self.code\n",
    "    \n",
    "삼성 = Stock(\"삼성전자\", \"005930\")\n",
    "print(삼성.name)\n",
    "print(삼성.code)\n",
    "print(삼성.get_name())\n",
    "print(삼성.get_code())"
   ]
  },
  {
   "cell_type": "code",
   "execution_count": 17,
   "id": "c7cb4bf1",
   "metadata": {},
   "outputs": [
    {
     "name": "stdout",
     "output_type": "stream",
     "text": [
      "005930\n",
      "15.79\n",
      "1.33\n",
      "2.83\n"
     ]
    }
   ],
   "source": [
    "#266-267. 생성자에서 종목명, 종목코드, PER, PBR, 배당수익률을 입력 받을 수 있도록 생성자를 수정하세요. PER, PBR, 배당수익률은 float 타입입니다.\n",
    "#268 객체의 속성 수정 / PER, PBR, 배당수익률은 변경될 수 있는 값입니다. 이 값을 변경할 때 사용하는 set_per, set_pbr, set_dividend 메서드를 추가하세요.\n",
    "class Stock : \n",
    "    def __init__(self,name,code,PER,PBR,div_return):\n",
    "        self.name = name\n",
    "        self.code = code\n",
    "        self.PER = PER\n",
    "        self.PBR = PBR\n",
    "        self.div_return = div_return\n",
    "    def set_name(self,name):\n",
    "        self.name = name\n",
    "    def set_code(self,code):\n",
    "        self.code = code\n",
    "    def set_PER(self,PER):\n",
    "        self.PER = PER\n",
    "    def set_PBR(self,PBR):\n",
    "        self.PBR = PBR\n",
    "삼성 = Stock(\"삼성전자\", \"005930\",15.79,1.33,2.83)\n",
    "print(삼성.code)\n",
    "print(삼성.PER)\n",
    "print(삼성.PBR)\n",
    "print(삼성.div_return)"
   ]
  },
  {
   "cell_type": "markdown",
   "id": "c314e7fb",
   "metadata": {},
   "source": [
    "**get 과 set 메서드 차이**\n",
    "\n",
    "get 메서드:\n",
    "\n",
    "주로 속성 값을 반환하는 데 사용   \n",
    "속성에 대한 읽기 전용(read-only) 접근을 제공할 때 유용   \n",
    "객체의 속성에 직접 접근하지 않고, 메서드를 통해 값을 가져오면서 추가적인 로직이나 계산을 수행\n",
    "\n",
    "set 메서드:\n",
    "\n",
    "주로 속성 값을 설정(또는 업데이트)하는 데 사용   \n",
    "속성에 대한 쓰기 전용(write-only) 접근을 제공할 때 유용   \n",
    "객체의 속성을 변경하려면 set 메서드를 통해 속성 값을 업데이트하면서 어떤 추가적인 로직이나 유효성 검사를 수행"
   ]
  },
  {
   "cell_type": "code",
   "execution_count": 23,
   "id": "159bbdff",
   "metadata": {},
   "outputs": [
    {
     "name": "stdout",
     "output_type": "stream",
     "text": [
      "12.75\n"
     ]
    }
   ],
   "source": [
    "# 269 객체의 속성 수정 : 267번에서 생성한 객체에 set_per 메서드를 호출하여 per 값을 12.75로 수정해보세요.\n",
    "\n",
    "삼성 = Stock(\"삼성전자\", \"005930\",15.79,1.33,2.83)\n",
    "삼성.set_PER(12.75)\n",
    "print(삼성.PER)"
   ]
  },
  {
   "cell_type": "code",
   "execution_count": 33,
   "id": "413e7ed7",
   "metadata": {},
   "outputs": [
    {
     "name": "stdout",
     "output_type": "stream",
     "text": [
      "005930 15.79\n",
      "005380 8.7\n",
      "066570 317.34\n"
     ]
    }
   ],
   "source": [
    "# 270 여러 종목의 객체 생성\n",
    "# 아래의 표를 참조하여 3종목에 대해 객체를 생성하고 이를 파이썬 리스트에 저장\n",
    "# 파이썬 리스트에 저장된 각 종목에 대해 for 루프를 통해 종목코드와 PER을 출력해보세요.\n",
    "\n",
    "종목 = []\n",
    "\n",
    "삼성 = Stock(\"삼성전자\", \"005930\", 15.79, 1.33, 2.83)\n",
    "현대차 = Stock(\"현대차\", \"005380\", 8.70, 0.35, 4.27)\n",
    "LG전자 = Stock(\"LG전자\", \"066570\", 317.34, 0.69, 1.37)\n",
    "\n",
    "종목.append(삼성)\n",
    "종목.append(현대차)\n",
    "종목.append(LG전자)\n",
    "\n",
    "for i in 종목 : \n",
    "    print(i.code, i.PER)"
   ]
  },
  {
   "cell_type": "code",
   "execution_count": 10,
   "id": "6f558741",
   "metadata": {
    "scrolled": true
   },
   "outputs": [
    {
     "name": "stdout",
     "output_type": "stream",
     "text": [
      "이상아\n",
      "100\n",
      "SC은행\n",
      "933-63-905480\n"
     ]
    }
   ],
   "source": [
    "#271 Account 클래스\n",
    "import random\n",
    "class Account : \n",
    "    은행 = 'SC은행' # 클래스 변수\n",
    "    def __init__(self,예금주,잔액):\n",
    "        self.예금주 = 예금주\n",
    "        self.잔액= 잔액\n",
    "        num1 = str(random.randint(100, 999))\n",
    "        num2 = str(random.randint(10, 99))\n",
    "        num3 = str(random.randint(100000, 999999))\n",
    "        self.계좌번호 = f'{num1}-{num2}-{num3}'\n",
    "\n",
    "샘플 = Account('이상아',100)\n",
    "print(샘플.예금주)\n",
    "print(샘플.잔액)\n",
    "print(샘플.은행)\n",
    "print(샘플.계좌번호)"
   ]
  },
  {
   "cell_type": "code",
   "execution_count": 56,
   "id": "14d7d343",
   "metadata": {},
   "outputs": [
    {
     "name": "stdout",
     "output_type": "stream",
     "text": [
      "이상아\n",
      "100\n",
      "SC은행\n",
      "127-88-453179\n",
      "예금주 : 이상아,  잔액 :100  , 은행: SC은행, 계좌번호: 127-88-453179\n"
     ]
    }
   ],
   "source": [
    "#271 Account 클래스\n",
    "class Account : \n",
    "    def __init__(self,예금주,잔액):\n",
    "        self.예금주 = 예금주\n",
    "        self.잔액= 잔액\n",
    "        self.은행='SC은행'\n",
    "    def generate_계좌번호():\n",
    "        num1 = str(random.randint(100, 999))\n",
    "        num2 = str(random.randint(10, 99))\n",
    "        num3 = str(random.randint(100000, 999999))\n",
    "        계좌번호 = f'{num1}-{num2}-{num3}'\n",
    "        return 계좌번호 \n",
    "    계좌번호 = generate_계좌번호()\n",
    "    \n",
    "    def __str__(self): #왜 개별 변수를 설정하면 아래 문자열대로 출력이 안되죠?! \n",
    "        return f'예금주 : {self.예금주},  잔액 :{self.잔액}  , 은행: {self.은행}, 계좌번호: {self.계좌번호}'\n",
    "# import 입력 안했는데 오류가 안뜨는 이유?? \n",
    "\n",
    "샘플 = Account('이상아',100)\n",
    "print(샘플.예금주)\n",
    "print(샘플.잔액)\n",
    "print(샘플.은행)\n",
    "print(샘플.계좌번호)\n",
    "print(샘플)"
   ]
  },
  {
   "cell_type": "code",
   "execution_count": 19,
   "id": "75933612",
   "metadata": {},
   "outputs": [
    {
     "name": "stdout",
     "output_type": "stream",
     "text": [
      "1\n",
      "2\n",
      "3\n"
     ]
    }
   ],
   "source": [
    "#272 클래스 변수를 사용해서 Account 클래스로부터 생성된 계좌 객체의 개수를 저장하세요.\n",
    "class Account : \n",
    "    계좌개수 = 0 # 클래스 변수\n",
    "    은행 = 'SC은행' # 클래스 변수\n",
    "    def __init__(self,예금주,잔액):\n",
    "        self.예금주 = 예금주\n",
    "        self.잔액= 잔액\n",
    "        num1 = str(random.randint(100, 999))\n",
    "        num2 = str(random.randint(10, 99))\n",
    "        num3 = str(random.randint(100000, 999999))\n",
    "        self.계좌번호 = f'{num1}-{num2}-{num3}'\n",
    "        Account.계좌개수 += 1\n",
    "    \n",
    "샘플1 = Account('이상아',100)\n",
    "print(Account.계좌개수)\n",
    "샘플2 = Account('이원웅',350)\n",
    "print(Account.계좌개수)\n",
    "샘플3 = Account('이상아',150)\n",
    "print(Account.계좌개수)"
   ]
  },
  {
   "cell_type": "code",
   "execution_count": 49,
   "id": "6f856646",
   "metadata": {},
   "outputs": [
    {
     "name": "stdout",
     "output_type": "stream",
     "text": [
      "3\n"
     ]
    }
   ],
   "source": [
    "#273 Account 클래스로부터 생성된 계좌의 개수를 출력하는 get_account_num() 메서드를 추가\n",
    "\n",
    "class Account : \n",
    "    계좌개수 = 0 # 클래스 변수\n",
    "    은행 = 'SC은행' # 클래스 변수\n",
    "    def __init__(self,예금주,잔액):\n",
    "        self.예금주 = 예금주\n",
    "        self.잔액= 0\n",
    "        num1 = random.randint(0, 999)\n",
    "        num2 = random.randint(0, 99)\n",
    "        num3 = random.randint(0, 999999)\n",
    "\n",
    "        num1 = str(num1).zfill(3)      # 1 -> '1' -> '001'\n",
    "        num2 = str(num2).zfill(2)      # 1 -> '1' -> '01'\n",
    "        num3 = str(num3).zfill(6)      # 1 -> '1' -> '0000001'\n",
    "        self.계좌번호 = num1 + '-' + num2 + '-' + num3  # 001-01-000001\n",
    "        Account.계좌개수 +=1\n",
    "    def get_account_num(Account):\n",
    "        print(Account.계좌개수)\n",
    "\n",
    "샘플1 = Account('이상아',100)\n",
    "샘플2 = Account('이원웅',350)\n",
    "샘플3 = Account('이상아',150)\n",
    "샘플1.get_account_num()"
   ]
  },
  {
   "cell_type": "code",
   "execution_count": 57,
   "id": "261fb87a",
   "metadata": {},
   "outputs": [
    {
     "name": "stdout",
     "output_type": "stream",
     "text": [
      "은행 : SC은행 , 계좌번호 : 436-46-323313,  예금주 :이상아  , 잔액: 1600\n"
     ]
    }
   ],
   "source": [
    "#274 입금 메서드 Account 클래스에 입금을 위한 deposit 메서드를 추가하세요. 입금은 최소 1원 이상만 가능합니다.\n",
    "\n",
    "class Account : \n",
    "    계좌개수 = 0 # 클래스 변수\n",
    "    은행 = 'SC은행' # 클래스 변수\n",
    "\n",
    "    def __init__(self,예금주,잔액):\n",
    "        self.예금주 = 예금주\n",
    "        self.잔액= 잔액\n",
    "        num1 = str(random.randint(100, 999))\n",
    "        num2 = str(random.randint(10, 99))\n",
    "        num3 = str(random.randint(100000, 999999))\n",
    "        self.계좌번호 = f'{num1}-{num2}-{num3}'\n",
    "        Account.계좌개수 +=1\n",
    "\n",
    "    def get_account_num(Account):\n",
    "        print(Account.계좌개수)\n",
    "\n",
    "    def deposit(self, money) :\n",
    "        if money >= 1:\n",
    "            self.잔액 += money\n",
    "\n",
    "    def __str__(self):\n",
    "        return f'은행 : {self.은행} , 계좌번호 : {self.계좌번호},  예금주 :{self.예금주}  , 잔액: {self.잔액}'\n",
    "            \n",
    "샘플1 = Account('이상아',100)\n",
    "샘플1.deposit(1500)\n",
    "print(샘플1)\n",
    "#return 안하면 결과 안나옴?????"
   ]
  },
  {
   "cell_type": "code",
   "execution_count": 71,
   "id": "da61c2a8",
   "metadata": {},
   "outputs": [
    {
     "name": "stdout",
     "output_type": "stream",
     "text": [
      "은행 : SC은행 , 계좌번호 : 682-79-416177,  예금주 :이상아  , 잔액: 200\n",
      "은행 : SC은행 , 계좌번호 : 682-79-416177,  예금주 :이상아  , 잔액: 900\n"
     ]
    }
   ],
   "source": [
    "#275 Account 클래스에 출금을 위한 withdraw 메서드를 추가하세요. 출금은 계좌의 잔고 이상으로 출금할 수는 없습니다.\n",
    "\n",
    "class Account : \n",
    "    계좌개수 = 0 # 클래스 변수\n",
    "    은행 = 'SC은행' # 클래스 변수\n",
    "\n",
    "    def __init__(self,예금주,잔액):\n",
    "        self.예금주 = 예금주\n",
    "        self.잔액= 잔액\n",
    "        num1 = str(random.randint(100, 999))\n",
    "        num2 = str(random.randint(10, 99))\n",
    "        num3 = str(random.randint(100000, 999999))\n",
    "        self.계좌번호 = f'{num1}-{num2}-{num3}'\n",
    "        Account.계좌개수 +=1\n",
    "\n",
    "    def get_account_num(Account):\n",
    "        print(Account.계좌개수)\n",
    "\n",
    "    def deposit(self, money) :\n",
    "        if money >= 1:\n",
    "            self.잔액 += money\n",
    " \n",
    "    def withdraw(self, money) :\n",
    "        if money < self.잔액:\n",
    "            self.잔액 -= money\n",
    "            \n",
    "    def __str__(self):\n",
    "        return f'은행 : {self.은행} , 계좌번호 : {self.계좌번호},  예금주 :{self.예금주}  , 잔액: {self.잔액}'\n",
    "\n",
    "샘플1 = Account('이상아',1600)\n",
    "샘플1.withdraw(1400)\n",
    "print(샘플1)\n",
    "\n",
    "샘플1.deposit(1400)\n",
    "샘플1.withdraw(700)\n",
    "print(샘플1)"
   ]
  },
  {
   "cell_type": "code",
   "execution_count": 83,
   "id": "8c982dc5",
   "metadata": {},
   "outputs": [
    {
     "name": "stdout",
     "output_type": "stream",
     "text": [
      "은행 : SC은행 , 계좌번호 : 475-20-331341,  예금주 :이상아, 잔액: 1,600\n"
     ]
    }
   ],
   "source": [
    "#276 정보 출력 메서드\n",
    "# Account 인스턴스에 저장된 정보를 출력하는 display_info() 메서드를 추가하세요. 잔고는 세자리마다 쉼표를 출력하세요.\n",
    "\n",
    "class Account : \n",
    "    계좌개수 = 0 # 클래스 변수\n",
    "    은행 = 'SC은행' # 클래스 변수\n",
    "\n",
    "    def __init__(self,예금주,잔액):\n",
    "        self.예금주 = 예금주\n",
    "        self.잔액= 잔액\n",
    "        num1 = str(random.randint(100, 999))\n",
    "        num2 = str(random.randint(10, 99))\n",
    "        num3 = str(random.randint(100000, 999999))\n",
    "        self.계좌번호 = f'{num1}-{num2}-{num3}'\n",
    "        Account.계좌개수 +=1\n",
    "\n",
    "    def get_account_num(Account):\n",
    "        print(Account.계좌개수)\n",
    "\n",
    "    def deposit(self, money) :\n",
    "        if money >= 1:\n",
    "            self.잔액 += money\n",
    " \n",
    "    def withdraw(self, money) :\n",
    "        if money < self.잔액:\n",
    "            self.잔액 -= money\n",
    "            \n",
    "    def display_info(self):\n",
    "        return f'은행 : {self.은행} , 계좌번호 : {self.계좌번호},  예금주 :{self.예금주}, 잔액: {self.잔액:,}'\n",
    "\n",
    "샘플 = Account('이상아',1600)\n",
    "print(샘플.display_info())"
   ]
  },
  {
   "cell_type": "code",
   "execution_count": 98,
   "id": "5c9888f6",
   "metadata": {},
   "outputs": [
    {
     "name": "stdout",
     "output_type": "stream",
     "text": [
      "52520.0\n"
     ]
    }
   ],
   "source": [
    "# 277 이자 지급하기\n",
    "# 입금 횟수가 5회가 될 때 잔고를 기준으로 1%의 이자가 잔고에 추가되도록 코드를 변경해보세요.\n",
    "\n",
    "class Account : \n",
    "    계좌개수 = 0 # 클래스 변수\n",
    "    은행 = 'SC은행' # 클래스 변수\n",
    "\n",
    "    def __init__(self,예금주,잔액):\n",
    "        self.예금주 = 예금주\n",
    "        self.잔액= 잔액\n",
    "        num1 = str(random.randint(100, 999))\n",
    "        num2 = str(random.randint(10, 99))\n",
    "        num3 = str(random.randint(100000, 999999))\n",
    "        self.계좌번호 = f'{num1}-{num2}-{num3}'\n",
    "        Account.계좌개수 +=1\n",
    "        self.입금횟수 = 0\n",
    "\n",
    "    def get_account_num(Account):\n",
    "        print(Account.계좌개수)\n",
    "\n",
    "    def deposit(self, money) :\n",
    "        if money >= 1: #1원 이상만 입금하라\n",
    "            self.잔액 += money\n",
    "        \n",
    "        self.입금횟수 += 1\n",
    "        if self.입금횟수 % 5 == 0:\n",
    "            self.잔액= self.잔액*1.01\n",
    "\n",
    "    def withdraw(self, money) :\n",
    "        if money < self.잔액:\n",
    "            self.잔액 -= money\n",
    "            \n",
    "    def display_info(self):\n",
    "        return f'은행 : {self.은행} , 계좌번호 : {self.계좌번호},  예금주 :{self.예금주}, 잔액: {self.잔액:,}'\n",
    "\n",
    "샘플 = Account('이상아',2000)\n",
    "샘플.deposit(10000)\n",
    "샘플.deposit(10000)\n",
    "샘플.deposit(10000)\n",
    "샘플.deposit(10000)\n",
    "샘플.deposit(10000)\n",
    "print(샘플.잔액)"
   ]
  },
  {
   "cell_type": "code",
   "execution_count": 110,
   "id": "9bf5c972",
   "metadata": {},
   "outputs": [
    {
     "name": "stdout",
     "output_type": "stream",
     "text": [
      "은행 : SC은행 , 계좌번호 : 712-71-875714,  예금주 :KIM, 잔액: 1,000,000\n",
      "은행 : SC은행 , 계좌번호 : 886-31-490271,  예금주 :LEE, 잔액: 1,000\n",
      "은행 : SC은행 , 계좌번호 : 320-52-513187,  예금주 :PARK, 잔액: 10,000\n"
     ]
    }
   ],
   "source": [
    "#278 여러 객체 생성\n",
    "#Account 클래스로부터 3개 이상 인스턴스를 생성하고 생성된 인스턴스를 리스트에 저장해보세요.\n",
    "\n",
    "data = []\n",
    "\n",
    "a = Account(\"KIM\", 1000000)\n",
    "b = Account(\"LEE\", 1000)\n",
    "c = Account(\"PARK\", 10000)\n",
    "\n",
    "data.append(a)\n",
    "data.append(b)\n",
    "data.append(c)\n",
    "\n",
    "for i in data : \n",
    "    i.display_info()\n",
    "#그냥 print하면 안되고 반복문을 써서 dsplay_info() 메서드를 통해 출력해야 함"
   ]
  },
  {
   "cell_type": "code",
   "execution_count": 114,
   "id": "326f6ba8",
   "metadata": {},
   "outputs": [
    {
     "name": "stdout",
     "output_type": "stream",
     "text": [
      "은행 : SC은행 , 계좌번호 : 712-71-875714,  예금주 :KIM, 잔액: 1,000,000\n"
     ]
    }
   ],
   "source": [
    "#279 객체 순회\n",
    "#반복문을 통해 리스트에 있는 객체를 순회하면서 잔고가 100만원 이상인 고객의 정보만 출력하세요.\n",
    "for i in data : \n",
    "    if i.잔액 >= 1000000 :\n",
    "        i.display_info()"
   ]
  },
  {
   "cell_type": "code",
   "execution_count": 128,
   "id": "8bef9d74",
   "metadata": {},
   "outputs": [
    {
     "name": "stdout",
     "output_type": "stream",
     "text": [
      "100\n",
      "200\n",
      "300\n",
      "200\n"
     ]
    }
   ],
   "source": [
    "# 280 입출금 내역 : 입금과 출금 내역이 기록되도록 코드를 업데이트\n",
    "# 입금 내역과 출금 내역을 출력하는 deposit_history와 withdraw_history 메서드를 추가하세요.\n",
    "class Account : \n",
    "    계좌개수 = 0 # 클래스 변수\n",
    "    은행 = 'SC은행' # 클래스 변수\n",
    "\n",
    "    def __init__(self,예금주,잔액):\n",
    "        self.예금주 = 예금주\n",
    "        self.잔액= 잔액\n",
    "        num1 = str(random.randint(100, 999))\n",
    "        num2 = str(random.randint(10, 99))\n",
    "        num3 = str(random.randint(100000, 999999))\n",
    "        self.계좌번호 = f'{num1}-{num2}-{num3}'\n",
    "        Account.계좌개수 +=1\n",
    "        \n",
    "        self.입금횟수 = 0\n",
    "        self.deposit_log = []\n",
    "        self.withdraw_log = []\n",
    "    \n",
    "    def get_account_num(Account):\n",
    "        print(Account.계좌개수)\n",
    "    \n",
    "    def deposit(self, money):\n",
    "        if money >= 1:\n",
    "            self.deposit_log.append(money)\n",
    "            self.잔액 += money\n",
    "         \n",
    "            self.입금횟수 += 1\n",
    "            if self.입금횟수 % 5 == 0:\n",
    "                self.잔액= self.잔액*1.01        \n",
    "  \n",
    "    def withdraw(self, money):\n",
    "        if money < self.잔액:\n",
    "            self.withdraw_log.append(money)\n",
    "            self.잔액 -= money\n",
    "\n",
    "    def display_info(self):\n",
    "        return f'은행 : {self.은행} , 계좌번호 : {self.계좌번호},  예금주 :{self.예금주}, 잔액: {self.잔액:,}'\n",
    "            \n",
    "    def withdraw_history(self):\n",
    "        for money in self.withdraw_log:\n",
    "            print(money)\n",
    "    def deposit_history(self):\n",
    "        for money in self.deposit_log:\n",
    "            print(money)\n",
    "\n",
    "k = Account(\"Kim\", 1000)\n",
    "k.deposit(100)\n",
    "k.deposit(200)\n",
    "k.deposit(300)\n",
    "k.deposit_history()\n",
    "\n",
    "k.withdraw(1600)\n",
    "k.withdraw(200)\n",
    "k.withdraw_history()"
   ]
  },
  {
   "cell_type": "markdown",
   "id": "175fc981",
   "metadata": {},
   "source": [
    "## 클래스 상속"
   ]
  },
  {
   "cell_type": "code",
   "execution_count": 131,
   "id": "028c7d6d",
   "metadata": {},
   "outputs": [
    {
     "name": "stdout",
     "output_type": "stream",
     "text": [
      "2 1000\n"
     ]
    }
   ],
   "source": [
    "#281 클래스 정의 - 다음 코드가 동작하도록 차 클래스를 정의하세요.\n",
    "class 차:\n",
    "    def __init__(self,바퀴,가격):\n",
    "        self.바퀴 = 바퀴\n",
    "        self.가격= 가격\n",
    "    \n",
    "car = 차(2, 1000)\n",
    "print(car.바퀴, car.가격)"
   ]
  },
  {
   "cell_type": "code",
   "execution_count": 133,
   "id": "45b64d11",
   "metadata": {},
   "outputs": [
    {
     "name": "stdout",
     "output_type": "stream",
     "text": [
      "2 1000\n"
     ]
    }
   ],
   "source": [
    "#282 클래스 상속 - 차 클래스를 상속받은 자전차 클래스를 정의하세요.\n",
    "# class 클래스_이름(상속할_클래스_이름)\n",
    "\n",
    "class 자전차(차):\n",
    "    pass\n",
    "\n",
    "car = 자전차(2, 1000)\n",
    "print(car.바퀴, car.가격)"
   ]
  },
  {
   "cell_type": "code",
   "execution_count": 136,
   "id": "52161f47",
   "metadata": {},
   "outputs": [
    {
     "name": "stdout",
     "output_type": "stream",
     "text": [
      "100\n"
     ]
    }
   ],
   "source": [
    "#283 클래스 상속\n",
    "#다음 코드가 동작하도록 자전차 클래스를 정의하세요. 단 자전차 클래스는 차 클래스를 상속받습니다.\n",
    "        \n",
    "class 자전차(차):\n",
    "    def __init__(self,바퀴,가격):\n",
    "        self.바퀴 = 바퀴\n",
    "        self.가격= 가격\n",
    "\n",
    "bicycle = 자전차(2, 100)\n",
    "print(bicycle.가격)"
   ]
  },
  {
   "cell_type": "code",
   "execution_count": 139,
   "id": "5fec7d18",
   "metadata": {},
   "outputs": [
    {
     "name": "stdout",
     "output_type": "stream",
     "text": [
      "시마노\n"
     ]
    }
   ],
   "source": [
    "#284 클래스 상속\n",
    "#다음 코드가 동작하도록 자전차 클래스를 정의하세요. 단 자전차 클래스는 차 클래스를 상속받습니다.\n",
    "\n",
    "class 자전차(차):\n",
    "    def __init__(self,바퀴,가격,구동계):\n",
    "        self.바퀴 = 바퀴\n",
    "        self.가격= 가격\n",
    "        self.구동계= 구동계\n",
    "\n",
    "bicycle = 자전차(2, 100, \"시마노\")\n",
    "print(bicycle.구동계)"
   ]
  },
  {
   "cell_type": "code",
   "execution_count": 147,
   "id": "8cbbf21a",
   "metadata": {},
   "outputs": [
    {
     "name": "stdout",
     "output_type": "stream",
     "text": [
      "시마노\n"
     ]
    }
   ],
   "source": [
    "#284 클래스 상속\n",
    "#다음 코드가 동작하도록 자전차 클래스를 정의하세요. 단 자전차 클래스는 차 클래스를 상속받습니다.\n",
    "\n",
    "class 자전차(차):\n",
    "    def __init__(self,바퀴,가격,구동계):\n",
    "        super().__init__(바퀴, 가격)\n",
    "        #차.__init__(self, 바퀴, 가격) => 다중상속할 때 부모 클래스의 초기화 메서드를 어떤 순서로 호출할 지 정해줌\n",
    "        self.구동계= 구동계\n",
    "\n",
    "bicycle = 자전차(2, 100, \"시마노\")\n",
    "print(bicycle.구동계)"
   ]
  },
  {
   "cell_type": "code",
   "execution_count": 151,
   "id": "003b87e1",
   "metadata": {},
   "outputs": [
    {
     "name": "stdout",
     "output_type": "stream",
     "text": [
      "바퀴수 : 4 , 가격 : 1000\n"
     ]
    }
   ],
   "source": [
    "#285 클래스 상속\n",
    "#다음 코드가 동작하도록 차 클래스를 상속받는 자동차 클래스를 정의하세요.\n",
    "class 자동차(차):\n",
    "    def __init__(self,바퀴,가격):\n",
    "        super().__init__(바퀴, 가격)\n",
    "    def 정보(self):\n",
    "        print(f'바퀴수 : {self.바퀴} , 가격 : {self.가격}')\n",
    "\n",
    "car = 자동차(4, 1000)  \n",
    "car.정보()"
   ]
  },
  {
   "cell_type": "code",
   "execution_count": 159,
   "id": "d5446188",
   "metadata": {},
   "outputs": [
    {
     "name": "stdout",
     "output_type": "stream",
     "text": [
      "바퀴수 : 2 , 가격 : 100\n"
     ]
    }
   ],
   "source": [
    "#286 부모 클래스 생성자 호출 : 다음 코드가 동작하도록 차 클래스를 수정하세요.\n",
    "\n",
    "class 차:\n",
    "    def __init__(self, 바퀴, 가격):\n",
    "        self.바퀴 = 바퀴\n",
    "        self.가격 = 가격\n",
    "    def 정보(self):\n",
    "        print(f'바퀴수 : {self.바퀴} , 가격 : {self.가격}')\n",
    "    \n",
    "class 자동차(차):\n",
    "    def __init__(self, 바퀴, 가격):\n",
    "        super().__init__(바퀴, 가격)\n",
    "\n",
    "class 자전차(차):\n",
    "    def __init__(self, 바퀴, 가격, 구동계):\n",
    "        super().__init__(바퀴, 가격)\n",
    "        self.구동계 = 구동계\n",
    "        \n",
    "bicycle = 자전차(2, 100, \"시마노\")\n",
    "bicycle.정보()"
   ]
  },
  {
   "cell_type": "code",
   "execution_count": 160,
   "id": "c8c187a1",
   "metadata": {},
   "outputs": [
    {
     "name": "stdout",
     "output_type": "stream",
     "text": [
      "바퀴수 : 2 , 가격 : 100\n",
      "구동계 : 시마노\n"
     ]
    }
   ],
   "source": [
    "#287 부모 클래스 메서드 호출 > 자전차의 정보() 메서드로 구동계 정보까지 출력하도록 수정\n",
    "class 자전차(차):\n",
    "    def __init__(self, 바퀴, 가격, 구동계):\n",
    "        super().__init__(바퀴, 가격)\n",
    "        self.구동계 = 구동계\n",
    "        \n",
    "    def 정보(self):\n",
    "        super().정보()\n",
    "        print(f'구동계 : {self.구동계}')\n",
    "    \n",
    "bicycle = 자전차(2, 100, \"시마노\")\n",
    "bicycle.정보()"
   ]
  },
  {
   "cell_type": "code",
   "execution_count": 167,
   "id": "5473a068",
   "metadata": {},
   "outputs": [
    {
     "name": "stdout",
     "output_type": "stream",
     "text": [
      "자식호출\n"
     ]
    }
   ],
   "source": [
    "#288 메서드 오버라이딩 - 다음 코드의 실행 결과를 예상해보세요.\n",
    "class 부모:\n",
    "    def 호출(self):\n",
    "        print(\"부모호출\")\n",
    "\n",
    "class 자식(부모):\n",
    "    def 호출(self):\n",
    "        print(\"자식호출\")\n",
    "        \n",
    "나 = 자식()\n",
    "나.호출()"
   ]
  },
  {
   "cell_type": "code",
   "execution_count": 162,
   "id": "c66b5c21",
   "metadata": {},
   "outputs": [
    {
     "name": "stdout",
     "output_type": "stream",
     "text": [
      "멍멍!\n",
      "야옹!\n"
     ]
    }
   ],
   "source": [
    "#오버라이딩 - 자식 클래스에서 부모 클래스의 메서드를 수정하거나 보완하는 용도로 사용\n",
    "#각 객체가 자신에게 맞는 방식으로 speak 메서드를 수행할 수 있음\n",
    "class Animal:\n",
    "    def speak(self):\n",
    "        print(\"동물이 소리를 낸다.\")\n",
    "\n",
    "class Dog(Animal):\n",
    "    def speak(self):\n",
    "        print(\"멍멍!\")\n",
    "\n",
    "class Cat(Animal):\n",
    "    def speak(self):\n",
    "        print(\"야옹!\")\n",
    "\n",
    "# 객체 생성\n",
    "dog = Dog()\n",
    "cat = Cat()\n",
    "\n",
    "# 오버라이딩된 speak 메서드 호출\n",
    "dog.speak()  # 출력: 멍멍!\n",
    "cat.speak()  # 출력: 야옹!"
   ]
  },
  {
   "cell_type": "code",
   "execution_count": 163,
   "id": "d306dffd",
   "metadata": {},
   "outputs": [
    {
     "name": "stdout",
     "output_type": "stream",
     "text": [
      "자식생성\n"
     ]
    }
   ],
   "source": [
    "# 289 생성자 - 다음 코드의 실행 결과를 예상해보세요.\n",
    "class 부모:\n",
    "    def __init__(self):\n",
    "        print(\"부모생성\")\n",
    "\n",
    "class 자식(부모):\n",
    "    def __init__(self):\n",
    "        print(\"자식생성\")\n",
    "        \n",
    "나 = 자식()"
   ]
  },
  {
   "cell_type": "code",
   "execution_count": 168,
   "id": "cffae97d",
   "metadata": {},
   "outputs": [
    {
     "name": "stdout",
     "output_type": "stream",
     "text": [
      "자식생성\n",
      "부모생성\n"
     ]
    }
   ],
   "source": [
    "# 290 부모클래스 생성자 호출 - 다음 코드의 실행 결과를 예상해보세요.\n",
    "class 부모:\n",
    "    def __init__(self):\n",
    "        print(\"부모생성\")\n",
    "\n",
    "class 자식(부모):\n",
    "    def __init__(self):\n",
    "        print(\"자식생성\")\n",
    "        super().__init__() #부모 클래스의 __init__ 메서드가 추가로 호출\n",
    "\n",
    "나 = 자식()"
   ]
  }
 ],
 "metadata": {
  "kernelspec": {
   "display_name": "Python 3 (ipykernel)",
   "language": "python",
   "name": "python3"
  },
  "language_info": {
   "codemirror_mode": {
    "name": "ipython",
    "version": 3
   },
   "file_extension": ".py",
   "mimetype": "text/x-python",
   "name": "python",
   "nbconvert_exporter": "python",
   "pygments_lexer": "ipython3",
   "version": "3.11.5"
  },
  "toc": {
   "base_numbering": 1,
   "nav_menu": {},
   "number_sections": true,
   "sideBar": true,
   "skip_h1_title": false,
   "title_cell": "Table of Contents",
   "title_sidebar": "Contents",
   "toc_cell": false,
   "toc_position": {},
   "toc_section_display": true,
   "toc_window_display": false
  }
 },
 "nbformat": 4,
 "nbformat_minor": 5
}
