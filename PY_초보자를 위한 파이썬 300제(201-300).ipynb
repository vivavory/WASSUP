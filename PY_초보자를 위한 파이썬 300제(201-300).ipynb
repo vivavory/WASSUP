{
 "cells": [
  {
   "cell_type": "markdown",
   "id": "bee2faea",
   "metadata": {},
   "source": [
    "# 파이썬 함수"
   ]
  },
  {
   "cell_type": "markdown",
   "id": "1f499acf",
   "metadata": {},
   "source": [
    "**201~240**"
   ]
  },
  {
   "cell_type": "code",
   "execution_count": 4,
   "id": "3796171f",
   "metadata": {
    "scrolled": true
   },
   "outputs": [
    {
     "data": {
      "text/plain": [
       "'비트코인'"
      ]
     },
     "execution_count": 4,
     "metadata": {},
     "output_type": "execute_result"
    }
   ],
   "source": [
    "#201,202번def는 함수를 만들 때 사용하는 예약어 함수 이름은 임의로 생성\n",
    "#함수 이름 뒤 괄호 안의 매개변수는 이 함수에 입력으로 전달되는 값을 받는 변수\n",
    "#def 함수_이름(매개변수): 수행할_문장1\n",
    "def print_coin():\n",
    "    return '비트코인'\n",
    "print_coin()"
   ]
  },
  {
   "cell_type": "code",
   "execution_count": 13,
   "id": "c766b34c",
   "metadata": {},
   "outputs": [
    {
     "name": "stdout",
     "output_type": "stream",
     "text": [
      "비트코인비트코인비트코인비트코인비트코인비트코인비트코인비트코인비트코인비트코인\n",
      "비트코인\n",
      "비트코인\n",
      "비트코인\n",
      "비트코인\n",
      "비트코인\n",
      "비트코인\n",
      "비트코인\n",
      "비트코인\n",
      "비트코인\n",
      "비트코인\n"
     ]
    }
   ],
   "source": [
    "print(print_coin()*10)\n",
    "\n",
    "for i in range(10):\n",
    "    print(print_coin())"
   ]
  },
  {
   "cell_type": "code",
   "execution_count": 23,
   "id": "df436127",
   "metadata": {},
   "outputs": [
    {
     "name": "stdout",
     "output_type": "stream",
     "text": [
      "비트코인\n",
      "비트코인\n",
      "비트코인\n",
      "비트코인\n",
      "비트코인\n",
      "비트코인\n",
      "비트코인\n",
      "비트코인\n",
      "비트코인\n",
      "비트코인\n"
     ]
    }
   ],
   "source": [
    "def print_coins():\n",
    "    for i in range(10):\n",
    "        print(\"비트코인\")\n",
    "print_coins()"
   ]
  },
  {
   "cell_type": "code",
   "execution_count": 34,
   "id": "4f5febf6",
   "metadata": {},
   "outputs": [
    {
     "ename": "NameError",
     "evalue": "name 'hello' is not defined",
     "output_type": "error",
     "traceback": [
      "\u001b[1;31m---------------------------------------------------------------------------\u001b[0m",
      "\u001b[1;31mNameError\u001b[0m                                 Traceback (most recent call last)",
      "Cell \u001b[1;32mIn[34], line 2\u001b[0m\n\u001b[0;32m      1\u001b[0m \u001b[38;5;66;03m#205 아래 에러가 발생하는 이유\u001b[39;00m\n\u001b[1;32m----> 2\u001b[0m hello()\n\u001b[0;32m      3\u001b[0m \u001b[38;5;28;01mdef\u001b[39;00m \u001b[38;5;21mhello\u001b[39m():\n\u001b[0;32m      4\u001b[0m     \u001b[38;5;28mprint\u001b[39m(\u001b[38;5;124m\"\u001b[39m\u001b[38;5;124mHi\u001b[39m\u001b[38;5;124m\"\u001b[39m)\n",
      "\u001b[1;31mNameError\u001b[0m: name 'hello' is not defined"
     ]
    }
   ],
   "source": [
    "#205 아래 에러가 발생하는 이유\n",
    "hello()\n",
    "def hello():\n",
    "    print(\"Hi\")\n",
    "#hello 함수가 정의되기 전에 호출됨 "
   ]
  },
  {
   "cell_type": "code",
   "execution_count": 35,
   "id": "e0da084f",
   "metadata": {},
   "outputs": [
    {
     "name": "stdout",
     "output_type": "stream",
     "text": [
      "Hi\n"
     ]
    }
   ],
   "source": [
    "#hello 함수 정의를 먼저하고 호출하면 됨 \n",
    "def hello():\n",
    "    print(\"Hi\")\n",
    "hello()"
   ]
  },
  {
   "cell_type": "code",
   "execution_count": 40,
   "id": "177590f2",
   "metadata": {},
   "outputs": [
    {
     "name": "stdout",
     "output_type": "stream",
     "text": [
      "A\n",
      "B\n",
      "C\n",
      "A\n",
      "B\n"
     ]
    }
   ],
   "source": [
    "#206 실행결과 예측 A B / C / A B\n",
    "def message() :\n",
    "    print(\"A\")\n",
    "    print(\"B\")\n",
    "\n",
    "message()\n",
    "print(\"C\")\n",
    "message()"
   ]
  },
  {
   "cell_type": "code",
   "execution_count": 43,
   "id": "1a6419ae",
   "metadata": {},
   "outputs": [
    {
     "name": "stdout",
     "output_type": "stream",
     "text": [
      "A\n",
      "C\n",
      "B\n"
     ]
    }
   ],
   "source": [
    "#207 A / C / B\n",
    "print(\"A\")\n",
    "\n",
    "def message() :\n",
    "    print(\"B\")\n",
    "\n",
    "print(\"C\")\n",
    "message()"
   ]
  },
  {
   "cell_type": "code",
   "execution_count": 1,
   "id": "50c51adf",
   "metadata": {},
   "outputs": [
    {
     "name": "stdout",
     "output_type": "stream",
     "text": [
      "A\n",
      "C\n",
      "B\n",
      "E\n",
      "D\n"
     ]
    }
   ],
   "source": [
    "#208 A/ C/ B/ E/ D\n",
    "\n",
    "print(\"A\")\n",
    "def message1() :\n",
    "    print(\"B\")\n",
    "print(\"C\")\n",
    "def message2() :\n",
    "    print(\"D\")\n",
    "message1()\n",
    "print(\"E\")\n",
    "message2()"
   ]
  },
  {
   "cell_type": "code",
   "execution_count": 4,
   "id": "04e2f605",
   "metadata": {},
   "outputs": [
    {
     "name": "stdout",
     "output_type": "stream",
     "text": [
      "B\n",
      "A\n"
     ]
    }
   ],
   "source": [
    "#209 B / A\n",
    "#message2()에 대한 출력 순서 > print(\"B\") message1() \n",
    "def message1():\n",
    "    print(\"A\")\n",
    "\n",
    "def message2():\n",
    "    print(\"B\")\n",
    "    message1()\n",
    "\n",
    "message2()"
   ]
  },
  {
   "cell_type": "code",
   "execution_count": 7,
   "id": "fa93c24d",
   "metadata": {},
   "outputs": [
    {
     "name": "stdout",
     "output_type": "stream",
     "text": [
      "B\n",
      "C\n",
      "B\n",
      "C\n",
      "B\n",
      "C\n",
      "A\n"
     ]
    }
   ],
   "source": [
    "#210 #3번 텀까지 B,C출력 / B C B C B C A\n",
    "def message1():\n",
    "    print(\"A\")\n",
    "\n",
    "def message2():\n",
    "    print(\"B\")\n",
    "\n",
    "def message3():\n",
    "    for i in range (3) :\n",
    "        message2()\n",
    "        print(\"C\")\n",
    "    message1()\n",
    "\n",
    "message3()"
   ]
  },
  {
   "cell_type": "code",
   "execution_count": 8,
   "id": "3a60bd0e",
   "metadata": {},
   "outputs": [
    {
     "name": "stdout",
     "output_type": "stream",
     "text": [
      "안녕\n",
      "Hi\n"
     ]
    }
   ],
   "source": [
    "#211 함수가 호출될때마다 매개변수 (문자열) 의 입력값이 출력\n",
    "def 함수(문자열) :\n",
    "    print(문자열)\n",
    "\n",
    "함수(\"안녕\")\n",
    "함수(\"Hi\")"
   ]
  },
  {
   "cell_type": "code",
   "execution_count": 10,
   "id": "7ea5696f",
   "metadata": {},
   "outputs": [
    {
     "name": "stdout",
     "output_type": "stream",
     "text": [
      "7\n",
      "15\n"
     ]
    }
   ],
   "source": [
    "#212 7 / 15 출력 \n",
    "def 함수(a, b) :\n",
    "    print(a + b)\n",
    "\n",
    "함수(3, 4)\n",
    "함수(7, 8)"
   ]
  },
  {
   "cell_type": "code",
   "execution_count": 12,
   "id": "bd881e05",
   "metadata": {},
   "outputs": [
    {
     "ename": "TypeError",
     "evalue": "함수() missing 1 required positional argument: '문자열'",
     "output_type": "error",
     "traceback": [
      "\u001b[1;31m---------------------------------------------------------------------------\u001b[0m",
      "\u001b[1;31mTypeError\u001b[0m                                 Traceback (most recent call last)",
      "Cell \u001b[1;32mIn[12], line 5\u001b[0m\n\u001b[0;32m      3\u001b[0m \u001b[38;5;28;01mdef\u001b[39;00m \u001b[38;5;21m함수\u001b[39m(문자열) : \n\u001b[0;32m      4\u001b[0m     \u001b[38;5;28mprint\u001b[39m(문자열)\n\u001b[1;32m----> 5\u001b[0m 함수()\n",
      "\u001b[1;31mTypeError\u001b[0m: 함수() missing 1 required positional argument: '문자열'"
     ]
    }
   ],
   "source": [
    "#213 현재 함수(문자열)로 정의하고 있기 때문에 하나의 값이라도 입력해야 함\n",
    "\n",
    "def 함수(문자열) : \n",
    "    print(문자열)\n",
    "함수()"
   ]
  },
  {
   "cell_type": "code",
   "execution_count": 34,
   "id": "4c8c1668",
   "metadata": {},
   "outputs": [
    {
     "ename": "TypeError",
     "evalue": "can only concatenate str (not \"int\") to str",
     "output_type": "error",
     "traceback": [
      "\u001b[1;31m---------------------------------------------------------------------------\u001b[0m",
      "\u001b[1;31mTypeError\u001b[0m                                 Traceback (most recent call last)",
      "Cell \u001b[1;32mIn[34], line 6\u001b[0m\n\u001b[0;32m      4\u001b[0m \u001b[38;5;28;01mdef\u001b[39;00m \u001b[38;5;21m함수\u001b[39m(a, b) :\n\u001b[0;32m      5\u001b[0m     \u001b[38;5;28mprint\u001b[39m(a \u001b[38;5;241m+\u001b[39m b)\n\u001b[1;32m----> 6\u001b[0m 함수(\u001b[38;5;124m'\u001b[39m\u001b[38;5;124m안녕\u001b[39m\u001b[38;5;124m'\u001b[39m,\u001b[38;5;241m3\u001b[39m)\n",
      "Cell \u001b[1;32mIn[34], line 5\u001b[0m, in \u001b[0;36m함수\u001b[1;34m(a, b)\u001b[0m\n\u001b[0;32m      4\u001b[0m \u001b[38;5;28;01mdef\u001b[39;00m \u001b[38;5;21m함수\u001b[39m(a, b) :\n\u001b[1;32m----> 5\u001b[0m     \u001b[38;5;28mprint\u001b[39m(a \u001b[38;5;241m+\u001b[39m b)\n",
      "\u001b[1;31mTypeError\u001b[0m: can only concatenate str (not \"int\") to str"
     ]
    }
   ],
   "source": [
    "#214\n",
    "#파이썬에서는 두 피연산자가 같은 자료형이어야 하는데, \n",
    "#서로 다른 자료형(문자열과 정수)이기 때문에 type error가 발생함\n",
    "def 함수(a, b) :\n",
    "    print(a + b)\n",
    "함수('안녕',3)"
   ]
  },
  {
   "cell_type": "code",
   "execution_count": 35,
   "id": "a52301a3",
   "metadata": {},
   "outputs": [
    {
     "name": "stdout",
     "output_type": "stream",
     "text": [
      "안녕3\n"
     ]
    }
   ],
   "source": [
    "#위 문제에서 안녕3을 출력하고 싶으면 \n",
    "def 함수(a, b) :\n",
    "    print(str(a)+str(b))\n",
    "\n",
    "함수('안녕',3)"
   ]
  },
  {
   "cell_type": "code",
   "execution_count": 37,
   "id": "ac765da9",
   "metadata": {},
   "outputs": [
    {
     "name": "stdout",
     "output_type": "stream",
     "text": [
      "안녕안녕안녕\n"
     ]
    }
   ],
   "source": [
    "#위 문제에서 문자열과 정수의 곱셈은 가능함\n",
    "def 함수(a, b) :\n",
    "    print(a * b)\n",
    "\n",
    "함수('안녕',3)"
   ]
  },
  {
   "cell_type": "code",
   "execution_count": 19,
   "id": "83826935",
   "metadata": {},
   "outputs": [
    {
     "name": "stdout",
     "output_type": "stream",
     "text": [
      "안녕:D\n",
      "혼자어때 둘이어때 여기어때:D\n"
     ]
    }
   ],
   "source": [
    "#215-216 하나의 문자를 입력받아 문자열 끝에 \":D\" 스마일 문자열을 이어 붙여 출력하는 print_with_smile 함수를 정의하라.\n",
    "def print_with_smile(a) :\n",
    "    print(a+':D')\n",
    "print_with_smile('안녕')\n",
    "print_with_smile('혼자어때 둘이어때 여기어때')"
   ]
  },
  {
   "cell_type": "code",
   "execution_count": 22,
   "id": "f7b2a582",
   "metadata": {},
   "outputs": [
    {
     "name": "stdout",
     "output_type": "stream",
     "text": [
      "84890.0\n"
     ]
    }
   ],
   "source": [
    "#217 현재 가격을 입력 받아 상한가 (30%)를 출력\n",
    "def print_upper_price(a) :\n",
    "    print(a*1.3)\n",
    "print_upper_price(65300)"
   ]
  },
  {
   "cell_type": "code",
   "execution_count": 40,
   "id": "0f175879",
   "metadata": {},
   "outputs": [
    {
     "name": "stdout",
     "output_type": "stream",
     "text": [
      "10\n"
     ]
    }
   ],
   "source": [
    "#218. 두 개의 숫자를 입력받아 두 수의 합을 출력하는 print_sum 함수를 정의하라.\n",
    "def print_sum(a, b) :\n",
    "    print(a+b)\n",
    "print_sum(2,8)"
   ]
  },
  {
   "cell_type": "code",
   "execution_count": 39,
   "id": "845cb8c9",
   "metadata": {},
   "outputs": [
    {
     "name": "stdout",
     "output_type": "stream",
     "text": [
      "10\n"
     ]
    }
   ],
   "source": [
    "#218. 다른 풀이 \n",
    "#sum() 함수를 사용하려면, 숫자를 담고 있는 iterable(리스트, 튜플)을 만들어서 sum() 함수에 전달해야 함\n",
    "def print_sum(a, b):\n",
    "    result = sum([a, b])\n",
    "    print(result)\n",
    "\n",
    "print_sum(2,8)"
   ]
  },
  {
   "cell_type": "code",
   "execution_count": 27,
   "id": "b68c6736",
   "metadata": {},
   "outputs": [
    {
     "name": "stdout",
     "output_type": "stream",
     "text": [
      "3 + 4 = 7\n",
      "3 - 4 = -1\n",
      "3 * 4 = 12\n",
      "3 / 4 = 0.75\n"
     ]
    }
   ],
   "source": [
    "#219 두 개의 숫자를 입력받아 합/차/곱/나눗셈을 출력하는 print_arithmetic_operation 함수를 작성\n",
    "def print_arithmetic_operation(a, b):\n",
    "    print('{} + {} = {}'.format(a,b,a+b))\n",
    "    print('{} - {} = {}'.format(a,b,a-b))\n",
    "    print('{} * {} = {}'.format(a,b,a*b))\n",
    "    print('{} / {} = {}'.format(a,b,a/b))\n",
    "print_arithmetic_operation(3,4)"
   ]
  },
  {
   "cell_type": "code",
   "execution_count": 32,
   "id": "556742e3",
   "metadata": {},
   "outputs": [
    {
     "name": "stdout",
     "output_type": "stream",
     "text": [
      "15\n"
     ]
    }
   ],
   "source": [
    "#220 세 개의 숫자를 입력받아 가장 큰수를 출력하는 print_max 함수를 정의하라. 단 if 문을 사용해서 수를 비교하라\n",
    "def print_max(a,b,c):\n",
    "    if a >= b and a >=c:\n",
    "        print(a)\n",
    "    elif b>=a and b>=c:\n",
    "        print(b)\n",
    "    else:\n",
    "        print(c)\n",
    "print_max(10,10,15)"
   ]
  },
  {
   "cell_type": "code",
   "execution_count": 36,
   "id": "35588284",
   "metadata": {},
   "outputs": [
    {
     "name": "stdout",
     "output_type": "stream",
     "text": [
      "7\n"
     ]
    }
   ],
   "source": [
    "# 220 좀 더 간단하게 \n",
    "def print_max(a, b, c):\n",
    "    m = 0\n",
    "    if a > m:\n",
    "        m = a\n",
    "    if b > m:\n",
    "        m = b\n",
    "    if c > m:\n",
    "        m = c\n",
    "    print(m)\n",
    "print_max(4,5,7)"
   ]
  },
  {
   "cell_type": "code",
   "execution_count": 38,
   "id": "7c7e238a",
   "metadata": {},
   "outputs": [
    {
     "name": "stdout",
     "output_type": "stream",
     "text": [
      "nohtyp\n"
     ]
    }
   ],
   "source": [
    "#221 문자열 역순 출력\n",
    "def print_reverse(a):\n",
    "    print(a[::-1])\n",
    "print_reverse(\"python\")"
   ]
  },
  {
   "cell_type": "code",
   "execution_count": 40,
   "id": "15bb7532",
   "metadata": {},
   "outputs": [
    {
     "name": "stdout",
     "output_type": "stream",
     "text": [
      "2.0\n"
     ]
    }
   ],
   "source": [
    "#222. 성적리스트를 입력받아 평균 출력\n",
    "def print_score (avg_score) :\n",
    "    print(sum(avg_score)/len(avg_score))\n",
    "print_score ([1, 2, 3])"
   ]
  },
  {
   "cell_type": "code",
   "execution_count": 51,
   "id": "18d29324",
   "metadata": {},
   "outputs": [
    {
     "name": "stdout",
     "output_type": "stream",
     "text": [
      "평균 성적: 2.0\n"
     ]
    }
   ],
   "source": [
    "#222. 성적리스트를 입력받아 평균 출력 다른 풀이 \n",
    "def print_score(scores):\n",
    "    if not scores:\n",
    "        print(\"성적 리스트가 비어 있습니다.\")\n",
    "        return\n",
    "\n",
    "    average = sum(scores) / len(scores)\n",
    "    print(f\"평균 성적: {average}\")\n",
    "\n",
    "scores = [1,2,3]\n",
    "print_score(scores)"
   ]
  },
  {
   "cell_type": "code",
   "execution_count": 48,
   "id": "54826287",
   "metadata": {},
   "outputs": [
    {
     "name": "stdout",
     "output_type": "stream",
     "text": [
      "2\n",
      "10\n",
      "12\n"
     ]
    }
   ],
   "source": [
    "#223. 하나의 리스트를 입력받아 짝수만 화면에 출력하는 print_even 함수를 정의\n",
    "def print_even (num) :\n",
    "    for i in num:\n",
    "        if i % 2 == 0:\n",
    "            print(i)\n",
    "print_even ([1, 3, 2, 10, 12, 11, 15])"
   ]
  },
  {
   "cell_type": "code",
   "execution_count": 50,
   "id": "d7b64241",
   "metadata": {},
   "outputs": [
    {
     "name": "stdout",
     "output_type": "stream",
     "text": [
      "이름\n",
      "나이\n",
      "성별\n"
     ]
    }
   ],
   "source": [
    "#224 하나의 딕셔너리를 입력받아 딕셔너리의 key 값을 화면에 출력하는 print_keys 함수를 정의\n",
    "def print_keys(딕) :\n",
    "    for k in 딕.keys():\n",
    "        print(k)\n",
    "print_keys ({\"이름\":\"김말똥\", \"나이\":30, \"성별\":0})"
   ]
  },
  {
   "cell_type": "code",
   "execution_count": 74,
   "id": "86a2c58b",
   "metadata": {},
   "outputs": [
    {
     "name": "stdout",
     "output_type": "stream",
     "text": [
      "[100, 130, 100, 100]\n"
     ]
    }
   ],
   "source": [
    "#225 \n",
    "my_dict = {\"10/26\" : [100, 130, 100, 100],\n",
    "           \"10/27\" : [10, 12, 10, 11]}\n",
    "def print_value_by_key(my_dict,k):\n",
    "        print(my_dict[k])\n",
    "print_value_by_key (my_dict, \"10/26\")"
   ]
  },
  {
   "cell_type": "code",
   "execution_count": 81,
   "id": "29923606",
   "metadata": {},
   "outputs": [
    {
     "name": "stdout",
     "output_type": "stream",
     "text": [
      "dict_values([[100, 130, 100, 100], [10, 12, 10, 11]])\n"
     ]
    }
   ],
   "source": [
    "#225 왜 이건 안되지??\n",
    "def print_value_by_key(my_dict,k):\n",
    "        print(my_dict.values())\n",
    "print_value_by_key (my_dict,\"10/26\")"
   ]
  },
  {
   "cell_type": "code",
   "execution_count": 78,
   "id": "860748d3",
   "metadata": {},
   "outputs": [
    {
     "name": "stdout",
     "output_type": "stream",
     "text": [
      "[100, 130, 100, 100]\n",
      "[10, 12, 10, 11]\n"
     ]
    }
   ],
   "source": [
    "#225 왜 이것도 안되지??\n",
    "def print_value_by_key(my_dict,k):\n",
    "    for k in my_dict:\n",
    "        print(my_dict[k])\n",
    "print_value_by_key (my_dict, \"10/26\")"
   ]
  },
  {
   "cell_type": "code",
   "execution_count": 92,
   "id": "ee6eedff",
   "metadata": {},
   "outputs": [
    {
     "name": "stdout",
     "output_type": "stream",
     "text": [
      "아이엠어보\n",
      "이유알어걸\n"
     ]
    }
   ],
   "source": [
    "#226번 혜진님 피드백 참고 \n",
    "def print_5xn(string) :\n",
    "    for i in range(0,len(string),5):\n",
    "        for j in range(i,i+5):\n",
    "            print(string[j],end='')\n",
    "        print('\\n',end='')\n",
    "print_5xn(\"아이엠어보이유알어걸\")"
   ]
  },
  {
   "cell_type": "code",
   "execution_count": 97,
   "id": "06cd6096",
   "metadata": {},
   "outputs": [
    {
     "name": "stdout",
     "output_type": "stream",
     "text": [
      "아이엠어보\n",
      "이유알어걸\n"
     ]
    }
   ],
   "source": [
    "#226번 다른 방법 \n",
    "def print_5xn(string) :\n",
    "    num=int(len(string)/5)\n",
    "    for i in range(num):\n",
    "        print(string[i*5:i*5+5])\n",
    "print_5xn(\"아이엠어보이유알어걸\")"
   ]
  },
  {
   "cell_type": "code",
   "execution_count": 103,
   "id": "18f8d2eb",
   "metadata": {},
   "outputs": [
    {
     "name": "stdout",
     "output_type": "stream",
     "text": [
      "아이엠\n",
      "어보이\n",
      "유알어\n",
      "걸\n"
     ]
    }
   ],
   "source": [
    "#227 \n",
    "def printmxn(string,n) :\n",
    "    num=int(len(string)/n+1)\n",
    "    for i in range(num):\n",
    "        print(string[i*n:i*n+n])\n",
    "printmxn(\"아이엠어보이유알어걸\", 3)"
   ]
  },
  {
   "cell_type": "code",
   "execution_count": 105,
   "id": "674de13e",
   "metadata": {},
   "outputs": [
    {
     "name": "stdout",
     "output_type": "stream",
     "text": [
      "아이엠\n",
      "어보이\n",
      "유알어\n",
      "걸"
     ]
    },
    {
     "ename": "IndexError",
     "evalue": "string index out of range",
     "output_type": "error",
     "traceback": [
      "\u001b[1;31m---------------------------------------------------------------------------\u001b[0m",
      "\u001b[1;31mIndexError\u001b[0m                                Traceback (most recent call last)",
      "Cell \u001b[1;32mIn[105], line 7\u001b[0m\n\u001b[0;32m      5\u001b[0m             \u001b[38;5;28mprint\u001b[39m(string[j],end\u001b[38;5;241m=\u001b[39m\u001b[38;5;124m'\u001b[39m\u001b[38;5;124m'\u001b[39m)\n\u001b[0;32m      6\u001b[0m         \u001b[38;5;28mprint\u001b[39m(\u001b[38;5;124m'\u001b[39m\u001b[38;5;130;01m\\n\u001b[39;00m\u001b[38;5;124m'\u001b[39m,end\u001b[38;5;241m=\u001b[39m\u001b[38;5;124m'\u001b[39m\u001b[38;5;124m'\u001b[39m)\n\u001b[1;32m----> 7\u001b[0m print_5xn(\u001b[38;5;124m\"\u001b[39m\u001b[38;5;124m아이엠어보이유알어걸\u001b[39m\u001b[38;5;124m\"\u001b[39m,\u001b[38;5;241m3\u001b[39m)\n",
      "Cell \u001b[1;32mIn[105], line 5\u001b[0m, in \u001b[0;36mprint_5xn\u001b[1;34m(string, n)\u001b[0m\n\u001b[0;32m      3\u001b[0m \u001b[38;5;28;01mfor\u001b[39;00m i \u001b[38;5;129;01min\u001b[39;00m \u001b[38;5;28mrange\u001b[39m(\u001b[38;5;241m0\u001b[39m,\u001b[38;5;28mlen\u001b[39m(string),n):\n\u001b[0;32m      4\u001b[0m     \u001b[38;5;28;01mfor\u001b[39;00m j \u001b[38;5;129;01min\u001b[39;00m \u001b[38;5;28mrange\u001b[39m(i,i\u001b[38;5;241m+\u001b[39mn):\n\u001b[1;32m----> 5\u001b[0m         \u001b[38;5;28mprint\u001b[39m(string[j],end\u001b[38;5;241m=\u001b[39m\u001b[38;5;124m'\u001b[39m\u001b[38;5;124m'\u001b[39m)\n\u001b[0;32m      6\u001b[0m     \u001b[38;5;28mprint\u001b[39m(\u001b[38;5;124m'\u001b[39m\u001b[38;5;130;01m\\n\u001b[39;00m\u001b[38;5;124m'\u001b[39m,end\u001b[38;5;241m=\u001b[39m\u001b[38;5;124m'\u001b[39m\u001b[38;5;124m'\u001b[39m)\n",
      "\u001b[1;31mIndexError\u001b[0m: string index out of range"
     ]
    }
   ],
   "source": [
    "#227\n",
    "def print_5xn(string,n) :\n",
    "    for i in range(0,len(string),n):\n",
    "        for j in range(i,i+n):\n",
    "            print(string[j],end='')\n",
    "        print('\\n',end='')\n",
    "print_5xn(\"아이엠어보이유알어걸\",3)"
   ]
  },
  {
   "cell_type": "code",
   "execution_count": 111,
   "id": "813a3763",
   "metadata": {},
   "outputs": [
    {
     "name": "stdout",
     "output_type": "stream",
     "text": [
      "3666666\n"
     ]
    }
   ],
   "source": [
    "#228\n",
    "def calc_monthly_salary(annual_salary):\n",
    "    print(int(annual_salary/12))\n",
    "    \n",
    "calc_monthly_salary(44000000)"
   ]
  },
  {
   "cell_type": "code",
   "execution_count": 112,
   "id": "00c20fa7",
   "metadata": {},
   "outputs": [
    {
     "name": "stdout",
     "output_type": "stream",
     "text": [
      "왼쪽: 100\n",
      "오른쪽: 200\n"
     ]
    }
   ],
   "source": [
    "#229 왼쪽:100 오른쪽: 200\n",
    "def my_print (a, b) :\n",
    "    print(\"왼쪽:\", a)\n",
    "    print(\"오른쪽:\", b)\n",
    "\n",
    "my_print(a=100, b=200)"
   ]
  },
  {
   "cell_type": "code",
   "execution_count": 113,
   "id": "dbfa3ef1",
   "metadata": {},
   "outputs": [],
   "source": [
    "#230은 반대로 "
   ]
  },
  {
   "cell_type": "code",
   "execution_count": 114,
   "id": "5ba6ac6c",
   "metadata": {},
   "outputs": [
    {
     "ename": "NameError",
     "evalue": "name 'result' is not defined",
     "output_type": "error",
     "traceback": [
      "\u001b[1;31m---------------------------------------------------------------------------\u001b[0m",
      "\u001b[1;31mNameError\u001b[0m                                 Traceback (most recent call last)",
      "Cell \u001b[1;32mIn[114], line 5\u001b[0m\n\u001b[0;32m      2\u001b[0m     result \u001b[38;5;241m=\u001b[39m n \u001b[38;5;241m+\u001b[39m \u001b[38;5;241m1\u001b[39m\n\u001b[0;32m      4\u001b[0m n_plus_1(\u001b[38;5;241m3\u001b[39m)\n\u001b[1;32m----> 5\u001b[0m \u001b[38;5;28mprint\u001b[39m (result)\n",
      "\u001b[1;31mNameError\u001b[0m: name 'result' is not defined"
     ]
    }
   ],
   "source": [
    "#231 함수 내부에서 사용한 변수는 함수 밖에서는 접근이 불가능: return 사용 \n",
    "def n_plus_1 (n) :\n",
    "    result = n + 1\n",
    "\n",
    "n_plus_1(3)\n",
    "print (result)"
   ]
  },
  {
   "cell_type": "code",
   "execution_count": 120,
   "id": "80e674ba",
   "metadata": {},
   "outputs": [
    {
     "name": "stdout",
     "output_type": "stream",
     "text": [
      "4\n"
     ]
    }
   ],
   "source": [
    "#231 함수 내부에서 사용한 변수는 함수 밖에서는 접근이 불가능\n",
    "def n_plus_1 (n) :\n",
    "    result = n + 1\n",
    "    return result \n",
    "\n",
    "result = n_plus_1(3)\n",
    "print (result)"
   ]
  },
  {
   "cell_type": "code",
   "execution_count": 122,
   "id": "0ed791ca",
   "metadata": {},
   "outputs": [
    {
     "name": "stdout",
     "output_type": "stream",
     "text": [
      "www.naver.com\n"
     ]
    }
   ],
   "source": [
    "#232 \n",
    "def make_url(s):\n",
    "    print('www.'+s+'.com')\n",
    "make_url(\"naver\")"
   ]
  },
  {
   "cell_type": "code",
   "execution_count": 123,
   "id": "1e276ab0",
   "metadata": {},
   "outputs": [
    {
     "data": {
      "text/plain": [
       "'www.naver.com'"
      ]
     },
     "execution_count": 123,
     "metadata": {},
     "output_type": "execute_result"
    }
   ],
   "source": [
    "#232 \n",
    "def make_url(s):\n",
    "    return 'www.'+s+'.com'\n",
    "make_url(\"naver\")"
   ]
  },
  {
   "cell_type": "code",
   "execution_count": 125,
   "id": "1967120d",
   "metadata": {},
   "outputs": [
    {
     "data": {
      "text/plain": [
       "['a', 'b', 'c', 'd']"
      ]
     },
     "execution_count": 125,
     "metadata": {},
     "output_type": "execute_result"
    }
   ],
   "source": [
    "#233\n",
    "def make_list(a):\n",
    "    return list(a)\n",
    "make_list(\"abcd\")"
   ]
  },
  {
   "cell_type": "code",
   "execution_count": 127,
   "id": "8e84e068",
   "metadata": {},
   "outputs": [
    {
     "data": {
      "text/plain": [
       "['a', 'b', 'c', 'd', 'e', 'f', 'g']"
      ]
     },
     "execution_count": 127,
     "metadata": {},
     "output_type": "execute_result"
    }
   ],
   "source": [
    "#233 복잡하게 풀이 \n",
    "def make_list (string) :\n",
    "    my_list = []\n",
    "    for 변수 in string :\n",
    "        my_list.append(변수)\n",
    "    return my_list\n",
    "make_list(\"abcdefg\")"
   ]
  },
  {
   "cell_type": "code",
   "execution_count": 129,
   "id": "f7895b74",
   "metadata": {},
   "outputs": [
    {
     "data": {
      "text/plain": [
       "[4, 6, 8]"
      ]
     },
     "execution_count": 129,
     "metadata": {},
     "output_type": "execute_result"
    }
   ],
   "source": [
    "#234\n",
    "def pickup_even(a):\n",
    "    return a[1::2]\n",
    "pickup_even([3, 4, 5, 6, 7, 8])"
   ]
  },
  {
   "cell_type": "code",
   "execution_count": 136,
   "id": "d4e9382a",
   "metadata": {
    "scrolled": true
   },
   "outputs": [
    {
     "data": {
      "text/plain": [
       "1234567"
      ]
     },
     "execution_count": 136,
     "metadata": {},
     "output_type": "execute_result"
    }
   ],
   "source": [
    "#235\n",
    "def convert_int(a):\n",
    "    return int(a.replace(',',''))\n",
    "convert_int(\"1,234,567\")"
   ]
  },
  {
   "cell_type": "code",
   "execution_count": 137,
   "id": "bc061e33",
   "metadata": {},
   "outputs": [
    {
     "name": "stdout",
     "output_type": "stream",
     "text": [
      "22\n"
     ]
    }
   ],
   "source": [
    "#236\n",
    "def 함수(num) :\n",
    "    return num + 4\n",
    "\n",
    "a = 함수(10) #14\n",
    "b = 함수(a) #18\n",
    "c = 함수(b) #22\n",
    "print(c)"
   ]
  },
  {
   "cell_type": "code",
   "execution_count": 138,
   "id": "6e291f8f",
   "metadata": {},
   "outputs": [
    {
     "name": "stdout",
     "output_type": "stream",
     "text": [
      "22\n"
     ]
    }
   ],
   "source": [
    "#237 함수 중첩된 경우 안쪽 코드부터 차례로 해석 \n",
    "def 함수(num) :\n",
    "    return num + 4\n",
    "\n",
    "c = 함수(함수(함수(10)))\n",
    "print(c)"
   ]
  },
  {
   "cell_type": "code",
   "execution_count": 140,
   "id": "5a8d82f1",
   "metadata": {},
   "outputs": [
    {
     "name": "stdout",
     "output_type": "stream",
     "text": [
      "140\n"
     ]
    }
   ],
   "source": [
    "#238 \n",
    "def 함수1(num) :\n",
    "    return num + 4\n",
    "\n",
    "def 함수2(num) :\n",
    "    return num * 10\n",
    "\n",
    "a = 함수1(10) #14\n",
    "c = 함수2(a) #140\n",
    "print(c)"
   ]
  },
  {
   "cell_type": "code",
   "execution_count": 141,
   "id": "b0db8b21",
   "metadata": {},
   "outputs": [
    {
     "name": "stdout",
     "output_type": "stream",
     "text": [
      "16\n"
     ]
    }
   ],
   "source": [
    "#239\n",
    "def 함수1(num) :\n",
    "    return num + 4 #16\n",
    "\n",
    "def 함수2(num) :\n",
    "    num = num + 2 #12\n",
    "    return 함수1(num)\n",
    "\n",
    "c = 함수2(10)\n",
    "print(c)"
   ]
  },
  {
   "cell_type": "code",
   "execution_count": 142,
   "id": "9c817228",
   "metadata": {},
   "outputs": [
    {
     "name": "stdout",
     "output_type": "stream",
     "text": [
      "28\n"
     ]
    }
   ],
   "source": [
    "#240\n",
    "def 함수0(num) :\n",
    "    return num * 2 #28\n",
    "\n",
    "def 함수1(num) :\n",
    "    return 함수0(num + 2) #14\n",
    "\n",
    "def 함수2(num) :\n",
    "    num = num + 10 #12\n",
    "    return 함수1(num)\n",
    "\n",
    "c = 함수2(2)\n",
    "print(c)"
   ]
  },
  {
   "cell_type": "markdown",
   "id": "3238d241",
   "metadata": {},
   "source": [
    "# 파이썬 모듈\n",
    "* 파이썬 파일을 의미"
   ]
  },
  {
   "cell_type": "markdown",
   "id": "967385e9",
   "metadata": {},
   "source": [
    "**241~250**"
   ]
  },
  {
   "cell_type": "code",
   "execution_count": 158,
   "id": "9fd17e9c",
   "metadata": {},
   "outputs": [
    {
     "name": "stdout",
     "output_type": "stream",
     "text": [
      "2023-12-06 03:38:20.230922\n"
     ]
    }
   ],
   "source": [
    "import datetime\n",
    "print(datetime.datetime.now())"
   ]
  },
  {
   "cell_type": "code",
   "execution_count": 161,
   "id": "b8734ce6",
   "metadata": {},
   "outputs": [
    {
     "name": "stdout",
     "output_type": "stream",
     "text": [
      "<class 'datetime.datetime'>\n"
     ]
    }
   ],
   "source": [
    "import datetime\n",
    "print(type(datetime.datetime.now()))"
   ]
  },
  {
   "cell_type": "markdown",
   "id": "681f88b0",
   "metadata": {},
   "source": [
    "**이해 잘 안됨**"
   ]
  },
  {
   "cell_type": "code",
   "execution_count": 173,
   "id": "8e56c0da",
   "metadata": {},
   "outputs": [
    {
     "name": "stdout",
     "output_type": "stream",
     "text": [
      "2023-12-01 04:02:30.499027\n",
      "2023-12-02 04:02:30.499027\n",
      "2023-12-03 04:02:30.499027\n",
      "2023-12-04 04:02:30.499027\n",
      "2023-12-05 04:02:30.499027\n"
     ]
    },
    {
     "data": {
      "text/plain": [
       "datetime.datetime(2023, 12, 6, 4, 2, 30, 500027)"
      ]
     },
     "execution_count": 173,
     "metadata": {},
     "output_type": "execute_result"
    }
   ],
   "source": [
    "#243 timedelta 를 사용해서 오늘로부터 5일, 4일, 3일, 2일, 1일 전의 날짜를 화면에 출력\n",
    "import datetime\n",
    "now = datetime.datetime.now() #현재 시각\n",
    "for day in range(5,0,-1):\n",
    "    delta = datetime.timedelta(days=day)\n",
    "    date = now-delta\n",
    "    print(date)\n",
    "datetime.datetime.now()"
   ]
  },
  {
   "cell_type": "code",
   "execution_count": 182,
   "id": "dad81845",
   "metadata": {},
   "outputs": [
    {
     "name": "stdout",
     "output_type": "stream",
     "text": [
      "04:10:33\n"
     ]
    }
   ],
   "source": [
    "#244 \n",
    "import datetime\n",
    "now = datetime.datetime.now() #현재 시각\n",
    "print(now.strftime('%H:%M:%S'))"
   ]
  },
  {
   "cell_type": "code",
   "execution_count": 184,
   "id": "b1591593",
   "metadata": {},
   "outputs": [
    {
     "name": "stdout",
     "output_type": "stream",
     "text": [
      "2023-12-06 00:00:00 <class 'datetime.datetime'>\n"
     ]
    }
   ],
   "source": [
    "#245\n",
    "import datetime\n",
    "day = '2023-12-06'\n",
    "time = datetime.datetime.strptime(day, \"%Y-%m-%d\")\n",
    "print(time,type(time))"
   ]
  },
  {
   "cell_type": "code",
   "execution_count": 186,
   "id": "2f7b779a",
   "metadata": {},
   "outputs": [
    {
     "name": "stdout",
     "output_type": "stream",
     "text": [
      "2023-12-06 04:20:25.414250\n",
      "2023-12-06 04:20:26.415307\n",
      "2023-12-06 04:20:27.415766\n",
      "2023-12-06 04:20:28.416264\n",
      "2023-12-06 04:20:29.417108\n",
      "2023-12-06 04:20:30.417566\n",
      "2023-12-06 04:20:31.417810\n",
      "2023-12-06 04:20:32.418411\n",
      "2023-12-06 04:20:33.419168\n",
      "2023-12-06 04:20:34.419387\n"
     ]
    }
   ],
   "source": [
    "#246 sleep함수 / time 모듈, datetime 모듈을 사용해서 1초에 한 번 현재 시간을 출력하는 코드를 작성\n",
    "import time\n",
    "import datetime\n",
    "\n",
    "for i in range(10):\n",
    "    now = datetime.datetime.now()\n",
    "    print(now)\n",
    "    time.sleep(1)"
   ]
  },
  {
   "cell_type": "markdown",
   "id": "71444f88",
   "metadata": {},
   "source": [
    "## 모듈 임포트하는 4가지 방법\n",
    "1. import 모듈\n",
    "2. import 모듈 as 별칭(Alias)    -> 모듈 이름이 길어서 간결하게 사용해야 할 때 / 별칭.함수 로 사용하면 됨 \n",
    "3. from 모듈 import 함수명\n",
    "4. from 모듈 import *    -> 모듈 내 모든 기능을 임포트"
   ]
  },
  {
   "cell_type": "code",
   "execution_count": null,
   "id": "4bac9473",
   "metadata": {},
   "outputs": [],
   "source": [
    "#248 os 모듈의 getcwd 함수를 호출하여 현재 디렉터리의 경로를 화면에 출력해보세요."
   ]
  },
  {
   "cell_type": "code",
   "execution_count": null,
   "id": "23a1416c",
   "metadata": {},
   "outputs": [],
   "source": [
    "#249 바탕화면에 텍스트 파일을 하나 생성한 후 os 모듈의 rename 함수를 호출하여 해당 파일의 이름을 변경해보세요."
   ]
  },
  {
   "cell_type": "code",
   "execution_count": null,
   "id": "9c18f848",
   "metadata": {},
   "outputs": [],
   "source": [
    "#250 numpy 모듈의 arange 함수를 사용해서 0.0 부터 5.0까지 0.1씩 증가하는 값을 화면에 출력해보세요."
   ]
  },
  {
   "cell_type": "markdown",
   "id": "43f9f019",
   "metadata": {},
   "source": [
    "# 파이썬 클래스\n",
    "\n",
    "* 파이썬 클래스는 타입을 만들어내는 도구입니다. int, float, str과 같이 여러분의 새로운 타입을 만들 수 있습니다."
   ]
  },
  {
   "cell_type": "code",
   "execution_count": 24,
   "id": "8c29aa2d",
   "metadata": {},
   "outputs": [],
   "source": [
    "#251 클래스, 객체, 인스턴스\n",
    "#클래스는 일종의 설계도로, 하나의 타입을 정의하는 방법입니다. \n",
    "#클래스에는 관련있는 데이터와 함수를 한 데 모아 정의할 수 있습니다. \n",
    "#클래스로 만들어진 결과물을 객체라고합니다."
   ]
  },
  {
   "cell_type": "code",
   "execution_count": 26,
   "id": "e34b288a",
   "metadata": {},
   "outputs": [],
   "source": [
    "#252 비어있는 사람 (Human) 클래스를 \"정의\" 해보세요.\n",
    "class Human:\n",
    "    pass"
   ]
  },
  {
   "cell_type": "code",
   "execution_count": 131,
   "id": "b5a7605c",
   "metadata": {},
   "outputs": [],
   "source": [
    "#253 사람 (Human) 클래스의 인스턴스를 \"생성\" 하고 이를 areum 변수로 바인딩해보세요.\n",
    "class Human:\n",
    "    pass\n",
    "areum = Human()"
   ]
  },
  {
   "cell_type": "code",
   "execution_count": 132,
   "id": "e6bc369b",
   "metadata": {},
   "outputs": [
    {
     "name": "stdout",
     "output_type": "stream",
     "text": [
      "응애응애\n"
     ]
    }
   ],
   "source": [
    "class Human:\n",
    "    print('응애응애')\n",
    "\n",
    "areum = Human()"
   ]
  },
  {
   "cell_type": "code",
   "execution_count": 128,
   "id": "e4fcf59a",
   "metadata": {},
   "outputs": [
    {
     "name": "stdout",
     "output_type": "stream",
     "text": [
      "응애응애\n"
     ]
    }
   ],
   "source": [
    "#254 클래스 생성자-1\n",
    "#self : 객체를 지칭 > 객체 자신을 참조함 \n",
    "#객체 생성 시 초기화 작업을 수행하고 초기화 작업 중 생성되는 인스턴스 변수들을 객체 자신에게 바인딩\n",
    "class Human:\n",
    "    def __init__(self):\n",
    "        print('응애응애')\n",
    "\n",
    "areum = Human()"
   ]
  },
  {
   "cell_type": "code",
   "execution_count": 143,
   "id": "05e4718e",
   "metadata": {},
   "outputs": [
    {
     "name": "stdout",
     "output_type": "stream",
     "text": [
      "아름\n",
      "25\n",
      "여자\n"
     ]
    }
   ],
   "source": [
    "#255 클래스 생성자-2\n",
    "class Human:\n",
    "    def __init__(self,name,age,gender):\n",
    "        self.name = name #객체의 속성으로 name 설정\n",
    "        self.age = age\n",
    "        self.gender = gender\n",
    "#human 클래스의 인스턴스 생성\n",
    "areum = Human('아름',25,'여자')\n",
    "# 인스턴스 변수에 접근하여 값을 출력\n",
    "print(areum.name)\n",
    "print(areum.age)\n",
    "print(areum.gender)"
   ]
  },
  {
   "cell_type": "code",
   "execution_count": 141,
   "id": "7a28d42e",
   "metadata": {},
   "outputs": [
    {
     "name": "stdout",
     "output_type": "stream",
     "text": [
      "이름:  조아름\n",
      "나이:  25\n",
      "성별:  여자\n"
     ]
    }
   ],
   "source": [
    "#256\n",
    "areum = Human('조아름',25,'여자')\n",
    "print('이름: ', areum.name)\n",
    "print('나이: ', areum.age)\n",
    "print('성별: ', areum.gender)"
   ]
  },
  {
   "cell_type": "code",
   "execution_count": 153,
   "id": "e9c7b0ec",
   "metadata": {
    "scrolled": true
   },
   "outputs": [
    {
     "name": "stdout",
     "output_type": "stream",
     "text": [
      "이름: 조아름, 나이: 25, 성별: 여자\n"
     ]
    }
   ],
   "source": [
    "#257 클래스 메소트-1\n",
    "class Human:\n",
    "    def __init__(self,name,age,gender):\n",
    "        self.name = name\n",
    "        self.age = age\n",
    "        self.gender = gender\n",
    "    def who(self): #who 메서드에서도 self를 통해 인스턴스 변수에 접근하여 값을 출력\n",
    "        print('이름: {}, 나이: {}, 성별: {}'.format(self.name, self.age, self.gender))\n",
    "areum = Human('조아름',25,'여자')\n",
    "areum.who() # Human.who(areum)"
   ]
  },
  {
   "cell_type": "code",
   "execution_count": 166,
   "id": "1bef006d",
   "metadata": {},
   "outputs": [
    {
     "name": "stdout",
     "output_type": "stream",
     "text": [
      "이름: 모름, 나이: 0, 성별: 모름\n",
      "이름: 조아름, 나이: 25, 성별: 여자\n"
     ]
    }
   ],
   "source": [
    "#258 클래스 메소드-2\n",
    "class Human:\n",
    "    def __init__(self,name,age,gender):\n",
    "        self.name = name\n",
    "        self.age = age\n",
    "        self.gender = gender\n",
    "    def who(self): #who 메서드에서도 self를 통해 인스턴스 변수에 접근하여 값을 출력\n",
    "        print('이름: {}, 나이: {}, 성별: {}'.format(self.name, self.age, self.gender))   \n",
    "    def setInfo(self,name,age,gender): #setInfo 메서드에서도 self를 통해 인스턴스 변수에 접근하여 값을 출력\n",
    "        self.name = name\n",
    "        self.age = age\n",
    "        self.gender = gender\n",
    "        \n",
    "areum = Human(\"모름\", 0, \"모름\")\n",
    "areum.who()\n",
    "areum.setInfo(\"조아름\", 25, \"여자\")\n",
    "areum.who()"
   ]
  },
  {
   "cell_type": "code",
   "execution_count": 169,
   "id": "555051a9",
   "metadata": {},
   "outputs": [
    {
     "name": "stdout",
     "output_type": "stream",
     "text": [
      "나의 죽음을 알리지 마라\n"
     ]
    }
   ],
   "source": [
    "#259 클래스 소멸자\n",
    "class Human:\n",
    "    def __init__(self,name,age,gender):\n",
    "        self.name = name\n",
    "        self.age = age\n",
    "        self.gender = gender\n",
    "    def who(self): \n",
    "        print('이름: {}, 나이: {}, 성별: {}'.format(self.name, self.age, self.gender))\n",
    "    def __del__(self):\n",
    "        print('나의 죽음을 알리지 마라')\n",
    "        \n",
    "areum = Human('조아름',25,'여자')\n",
    "del(areum)"
   ]
  },
  {
   "cell_type": "code",
   "execution_count": 172,
   "id": "8f41505f",
   "metadata": {},
   "outputs": [
    {
     "name": "stdout",
     "output_type": "stream",
     "text": [
      "Oh my god\n"
     ]
    }
   ],
   "source": [
    "#260 에러의 원인\n",
    "class OMG : # 클래스명.메서드’ 형태로 호출할 때는 객체 myStock를 첫 번째 매개변수 self에 꼭 전달해야 함\n",
    "    def print(self) :\n",
    "        print(\"Oh my god\")\n",
    "myStock = OMG()\n",
    "myStock.print()  # OMG.print(mystock)"
   ]
  },
  {
   "cell_type": "code",
   "execution_count": 174,
   "id": "da6d02aa",
   "metadata": {},
   "outputs": [
    {
     "name": "stdout",
     "output_type": "stream",
     "text": [
      "Oh my god\n"
     ]
    }
   ],
   "source": [
    "class OMG : \n",
    "    def print() :\n",
    "        print(\"Oh my god\")\n",
    "myStock = OMG()\n",
    "OMG.print() "
   ]
  },
  {
   "cell_type": "code",
   "execution_count": 187,
   "id": "b380c42e",
   "metadata": {},
   "outputs": [],
   "source": [
    "#261"
   ]
  },
  {
   "cell_type": "code",
   "execution_count": null,
   "id": "4ee7aa3b",
   "metadata": {},
   "outputs": [],
   "source": []
  },
  {
   "cell_type": "code",
   "execution_count": null,
   "id": "aecaf941",
   "metadata": {},
   "outputs": [],
   "source": []
  },
  {
   "cell_type": "code",
   "execution_count": null,
   "id": "15a497b0",
   "metadata": {},
   "outputs": [],
   "source": []
  },
  {
   "cell_type": "code",
   "execution_count": null,
   "id": "759e2f85",
   "metadata": {},
   "outputs": [],
   "source": []
  },
  {
   "cell_type": "code",
   "execution_count": null,
   "id": "ed027bcc",
   "metadata": {},
   "outputs": [],
   "source": []
  },
  {
   "cell_type": "code",
   "execution_count": null,
   "id": "c7cb4bf1",
   "metadata": {},
   "outputs": [],
   "source": []
  },
  {
   "cell_type": "code",
   "execution_count": null,
   "id": "6f856646",
   "metadata": {},
   "outputs": [],
   "source": []
  },
  {
   "cell_type": "code",
   "execution_count": null,
   "id": "261fb87a",
   "metadata": {},
   "outputs": [],
   "source": []
  },
  {
   "cell_type": "markdown",
   "id": "87604450",
   "metadata": {},
   "source": [
    "# 파이썬 내장함수\n",
    "* import 없이 바로 사용 가능"
   ]
  },
  {
   "cell_type": "code",
   "execution_count": 45,
   "id": "67d6f1fc",
   "metadata": {},
   "outputs": [
    {
     "name": "stdout",
     "output_type": "stream",
     "text": [
      "오류 발생\n"
     ]
    }
   ],
   "source": [
    "#프로그램 내부(터미널)에서만 뿌려줌 \n",
    "try:\n",
    "    4 / 0\n",
    "except :\n",
    "    print('오류 발생')"
   ]
  },
  {
   "cell_type": "code",
   "execution_count": 44,
   "id": "06384951",
   "metadata": {},
   "outputs": [
    {
     "name": "stdout",
     "output_type": "stream",
     "text": [
      "division by zero\n"
     ]
    }
   ],
   "source": [
    "#오류메시지가 사용자에게 직접 전달됨\n",
    "# try_except.py\n",
    "try:\n",
    "    4 / 0\n",
    "except ZeroDivisionError as e:\n",
    "    print(e)"
   ]
  },
  {
   "cell_type": "code",
   "execution_count": 46,
   "id": "a74f1f00",
   "metadata": {},
   "outputs": [],
   "source": [
    "# try_finally.py\n",
    "try:\n",
    "    f = open('foo.txt', 'w')\n",
    "    # 무언가를 수행한다.\n",
    "\n",
    "finally:\n",
    "    f.close()  # 중간에 오류가 발생하더라도 무조건 실행된다."
   ]
  },
  {
   "cell_type": "code",
   "execution_count": 47,
   "id": "f1a97de3",
   "metadata": {},
   "outputs": [
    {
     "name": "stdout",
     "output_type": "stream",
     "text": [
      "인덱싱 할 수 없습니다.\n"
     ]
    }
   ],
   "source": [
    "# many_error.py\n",
    "#IndexError만 뜬 이유 : 코드는 순서대로 처리.  (4/0 은 애초에 실행조차 안된 것)\n",
    "try:\n",
    "    a = [1,2]\n",
    "    print(a[3])\n",
    "    4/0\n",
    "except ZeroDivisionError:\n",
    "    print(\"0으로 나눌 수 없습니다.\")\n",
    "except IndexError:\n",
    "    print(\"인덱싱 할 수 없습니다.\")"
   ]
  },
  {
   "cell_type": "code",
   "execution_count": 52,
   "id": "969b522b",
   "metadata": {},
   "outputs": [
    {
     "name": "stdout",
     "output_type": "stream",
     "text": [
      "list index out of range\n"
     ]
    }
   ],
   "source": [
    "try:\n",
    "    a = [1,2]\n",
    "    print(a[3])\n",
    "    4/0\n",
    "except ZeroDivisionError as e:\n",
    "    print(e)\n",
    "except IndexError as e:\n",
    "    print(e)"
   ]
  },
  {
   "cell_type": "code",
   "execution_count": 49,
   "id": "9c052460",
   "metadata": {},
   "outputs": [
    {
     "name": "stdout",
     "output_type": "stream",
     "text": [
      "list index out of range\n"
     ]
    }
   ],
   "source": [
    "try:\n",
    "    a = [1,2]\n",
    "    print(a[3])\n",
    "    4/0\n",
    "except (ZeroDivisionError, IndexError) as e:\n",
    "    print(e)"
   ]
  },
  {
   "cell_type": "code",
   "execution_count": 55,
   "id": "f32d1dbb",
   "metadata": {},
   "outputs": [
    {
     "name": "stdout",
     "output_type": "stream",
     "text": [
      "나이를 입력하세요: '\n",
      "입력이 정확하지 않습니다.\n"
     ]
    }
   ],
   "source": [
    "# try_else.py\n",
    "try: #에러 체크코드\n",
    "    age=int(input('나이를 입력하세요: '))\n",
    "except: #에러 발생 시 동작 코드\n",
    "    print('입력이 정확하지 않습니다.')\n",
    "else: #정상 동작 코드\n",
    "    if age <= 18:\n",
    "        print('미성년자는 출입금지입니다.')\n",
    "    else:\n",
    "        print('환영합니다.')"
   ]
  },
  {
   "cell_type": "code",
   "execution_count": 56,
   "id": "20a95aa4",
   "metadata": {},
   "outputs": [],
   "source": [
    "# 오류 회피하는 이유 : 프로그램을 동작하는데 별로 중요하지 않은 에러라서, 일단 코드가 실행되게 하기 위해. \n",
    "# error_pass.py\n",
    "try:\n",
    "    f = open(\"나없는파일\", 'r')\n",
    "except FileNotFoundError:\n",
    "    pass"
   ]
  },
  {
   "cell_type": "code",
   "execution_count": 57,
   "id": "347d8b0d",
   "metadata": {},
   "outputs": [
    {
     "name": "stdout",
     "output_type": "stream",
     "text": [
      "[1, 2, 6]\n"
     ]
    }
   ],
   "source": [
    "#컴프리헨션 조건식\n",
    "# positive.py \n",
    "def positive(l): \n",
    "    result = [] \n",
    "    for i in l: \n",
    "        if i > 0: \n",
    "            result.append(i) \n",
    "    return result\n",
    "\n",
    "print(positive([1,-3,2,0,-5,6]))"
   ]
  },
  {
   "cell_type": "code",
   "execution_count": 58,
   "id": "75e7033b",
   "metadata": {},
   "outputs": [
    {
     "name": "stdout",
     "output_type": "stream",
     "text": [
      "[1, 2, 6]\n"
     ]
    }
   ],
   "source": [
    "# filter1.py\n",
    "def positive(x):\n",
    "    return x > 0\n",
    "\n",
    "print(list(filter(positive, [1, -3, 2, 0, -5, 6])))"
   ]
  },
  {
   "cell_type": "code",
   "execution_count": 60,
   "id": "646ac7d5",
   "metadata": {},
   "outputs": [
    {
     "name": "stdout",
     "output_type": "stream",
     "text": [
      "[1, 2, 6]\n"
     ]
    }
   ],
   "source": [
    "print(list(filter(lambda x: x > 0, [1, -3, 2, 0, -5, 6])))"
   ]
  },
  {
   "cell_type": "code",
   "execution_count": 61,
   "id": "ffeb1fab",
   "metadata": {},
   "outputs": [
    {
     "name": "stdout",
     "output_type": "stream",
     "text": [
      "[1, 2, 6]\n"
     ]
    }
   ],
   "source": [
    "def positive(l):\n",
    "    return [i for i in l if i > 0]\n",
    "\n",
    "print(positive([1, -3, 2, 0, -5, 6]))"
   ]
  },
  {
   "cell_type": "code",
   "execution_count": 62,
   "id": "2a97ef36",
   "metadata": {},
   "outputs": [
    {
     "name": "stdout",
     "output_type": "stream",
     "text": [
      "[2, 4, 6, 8]\n"
     ]
    }
   ],
   "source": [
    "# filter는 특정 기준으로 걸러내주는 거고, map은 특정 함수를 적용\n",
    "# two_times.py\n",
    "def two_times(numberList):\n",
    "    result = []\n",
    "    for number in numberList:\n",
    "        result.append(number*2)\n",
    "    return result\n",
    "\n",
    "result = two_times([1, 2, 3, 4])\n",
    "print(result)"
   ]
  },
  {
   "cell_type": "code",
   "execution_count": 69,
   "id": "a4a3fec1",
   "metadata": {},
   "outputs": [
    {
     "data": {
      "text/plain": [
       "[2, 4, 6, 8]"
      ]
     },
     "execution_count": 69,
     "metadata": {},
     "output_type": "execute_result"
    }
   ],
   "source": [
    "def two_times(x): \n",
    "    return x*2\n",
    "list(map(two_times, [1, 2, 3, 4]))"
   ]
  },
  {
   "cell_type": "code",
   "execution_count": 67,
   "id": "e8b4fda4",
   "metadata": {},
   "outputs": [
    {
     "data": {
      "text/plain": [
       "[2, 4, 6, 8]"
      ]
     },
     "execution_count": 67,
     "metadata": {},
     "output_type": "execute_result"
    }
   ],
   "source": [
    "list(map(lambda x : x*2, [1, 2, 3, 4]))"
   ]
  },
  {
   "cell_type": "code",
   "execution_count": 70,
   "id": "66159369",
   "metadata": {},
   "outputs": [
    {
     "data": {
      "text/plain": [
       "[0, 1, 2, 3, 4]"
      ]
     },
     "execution_count": 70,
     "metadata": {},
     "output_type": "execute_result"
    }
   ],
   "source": [
    "list(range(5)) #생성객체 > 추후 이터레이터, 제너레이터로 활용 가능 "
   ]
  },
  {
   "cell_type": "code",
   "execution_count": 71,
   "id": "b243528f",
   "metadata": {},
   "outputs": [
    {
     "data": {
      "text/plain": [
       "[5, 6, 7, 8, 9]"
      ]
     },
     "execution_count": 71,
     "metadata": {},
     "output_type": "execute_result"
    }
   ],
   "source": [
    "list(range(5,10))"
   ]
  },
  {
   "cell_type": "code",
   "execution_count": null,
   "id": "8424293c",
   "metadata": {},
   "outputs": [],
   "source": [
    "#sort는 원본을 바꾸고 sorted는 원본을 바꾸지 않음 "
   ]
  },
  {
   "cell_type": "code",
   "execution_count": 96,
   "id": "aa12027e",
   "metadata": {},
   "outputs": [
    {
     "data": {
      "text/plain": [
       "1"
      ]
     },
     "execution_count": 96,
     "metadata": {},
     "output_type": "execute_result"
    }
   ],
   "source": [
    "import datetime\n",
    "day = datetime.date(2023,12,5)\n",
    "day.weekday()"
   ]
  },
  {
   "cell_type": "code",
   "execution_count": 97,
   "id": "5ebcb142",
   "metadata": {},
   "outputs": [],
   "source": [
    "day.weekday?"
   ]
  },
  {
   "cell_type": "code",
   "execution_count": 98,
   "id": "517aa9dc",
   "metadata": {},
   "outputs": [
    {
     "data": {
      "text/plain": [
       "2"
      ]
     },
     "execution_count": 98,
     "metadata": {},
     "output_type": "execute_result"
    }
   ],
   "source": [
    "day.isoweekday()"
   ]
  },
  {
   "cell_type": "code",
   "execution_count": 77,
   "id": "c95c3797",
   "metadata": {},
   "outputs": [
    {
     "data": {
      "text/plain": [
       "1701757093.3430197"
      ]
     },
     "execution_count": 77,
     "metadata": {},
     "output_type": "execute_result"
    }
   ],
   "source": [
    "import time\n",
    "time.time()"
   ]
  },
  {
   "cell_type": "code",
   "execution_count": 80,
   "id": "d62e7d0f",
   "metadata": {},
   "outputs": [
    {
     "data": {
      "text/plain": [
       "time.struct_time(tm_year=2023, tm_mon=12, tm_mday=5, tm_hour=15, tm_min=19, tm_sec=5, tm_wday=1, tm_yday=339, tm_isdst=0)"
      ]
     },
     "execution_count": 80,
     "metadata": {},
     "output_type": "execute_result"
    }
   ],
   "source": [
    "time.localtime()"
   ]
  },
  {
   "cell_type": "code",
   "execution_count": 83,
   "id": "ddd7eaf1",
   "metadata": {},
   "outputs": [
    {
     "data": {
      "text/plain": [
       "15"
      ]
     },
     "execution_count": 83,
     "metadata": {},
     "output_type": "execute_result"
    }
   ],
   "source": [
    "time.localtime(time.time()).tm_hour"
   ]
  },
  {
   "cell_type": "code",
   "execution_count": 88,
   "id": "dfe9254b",
   "metadata": {},
   "outputs": [],
   "source": [
    "time.strftime?"
   ]
  },
  {
   "cell_type": "code",
   "execution_count": 85,
   "id": "e67b9111",
   "metadata": {},
   "outputs": [
    {
     "data": {
      "text/plain": [
       "'12/05/23'"
      ]
     },
     "execution_count": 85,
     "metadata": {},
     "output_type": "execute_result"
    }
   ],
   "source": [
    "import time\n",
    "time.strftime('%x',time.localtime(time.time()))"
   ]
  },
  {
   "cell_type": "code",
   "execution_count": 89,
   "id": "71f0a54f",
   "metadata": {},
   "outputs": [
    {
     "data": {
      "text/plain": [
       "'Tue Dec  5 15:24:09 2023'"
      ]
     },
     "execution_count": 89,
     "metadata": {},
     "output_type": "execute_result"
    }
   ],
   "source": [
    "time.strftime('%c',time.localtime(time.time()))"
   ]
  },
  {
   "cell_type": "code",
   "execution_count": 92,
   "id": "16a91cf6",
   "metadata": {},
   "outputs": [
    {
     "name": "stdout",
     "output_type": "stream",
     "text": [
      "0\n",
      "1\n",
      "2\n",
      "3\n",
      "4\n",
      "5\n",
      "6\n",
      "7\n",
      "8\n",
      "9\n"
     ]
    }
   ],
   "source": [
    "import time\n",
    "for i in range(10):\n",
    "    print(i)\n",
    "    time.sleep(1)"
   ]
  },
  {
   "cell_type": "code",
   "execution_count": 93,
   "id": "29dd9ca6",
   "metadata": {},
   "outputs": [
    {
     "data": {
      "text/plain": [
       "time.struct_time(tm_year=2023, tm_mon=12, tm_mday=5, tm_hour=15, tm_min=26, tm_sec=22, tm_wday=1, tm_yday=339, tm_isdst=0)"
      ]
     },
     "execution_count": 93,
     "metadata": {},
     "output_type": "execute_result"
    }
   ],
   "source": [
    "time.localtime()"
   ]
  },
  {
   "cell_type": "code",
   "execution_count": 94,
   "id": "189d222d",
   "metadata": {},
   "outputs": [
    {
     "data": {
      "text/plain": [
       "'Tue Dec  5 15:26:34 2023'"
      ]
     },
     "execution_count": 94,
     "metadata": {},
     "output_type": "execute_result"
    }
   ],
   "source": [
    "time.asctime()"
   ]
  },
  {
   "cell_type": "code",
   "execution_count": 95,
   "id": "937445df",
   "metadata": {},
   "outputs": [
    {
     "data": {
      "text/plain": [
       "'Tue Dec  5 15:26:50 2023'"
      ]
     },
     "execution_count": 95,
     "metadata": {},
     "output_type": "execute_result"
    }
   ],
   "source": [
    "time.strftime('%c')"
   ]
  },
  {
   "cell_type": "code",
   "execution_count": 99,
   "id": "351cd98a",
   "metadata": {},
   "outputs": [
    {
     "data": {
      "text/plain": [
       "0.39897021101963004"
      ]
     },
     "execution_count": 99,
     "metadata": {},
     "output_type": "execute_result"
    }
   ],
   "source": [
    "import random\n",
    "random.random()"
   ]
  },
  {
   "cell_type": "code",
   "execution_count": 100,
   "id": "2ecbc6d7",
   "metadata": {},
   "outputs": [],
   "source": [
    "random.random?"
   ]
  },
  {
   "cell_type": "code",
   "execution_count": 101,
   "id": "06235b3e",
   "metadata": {},
   "outputs": [
    {
     "data": {
      "text/plain": [
       "9"
      ]
     },
     "execution_count": 101,
     "metadata": {},
     "output_type": "execute_result"
    }
   ],
   "source": [
    "random.randint(1,10)"
   ]
  },
  {
   "cell_type": "code",
   "execution_count": 102,
   "id": "ab4efd2d",
   "metadata": {},
   "outputs": [
    {
     "data": {
      "text/plain": [
       "33"
      ]
     },
     "execution_count": 102,
     "metadata": {},
     "output_type": "execute_result"
    }
   ],
   "source": [
    "random.randint(1,55)"
   ]
  },
  {
   "cell_type": "code",
   "execution_count": 103,
   "id": "a9b8bde1",
   "metadata": {},
   "outputs": [
    {
     "name": "stdout",
     "output_type": "stream",
     "text": [
      "2\n",
      "3\n",
      "4\n",
      "1\n",
      "5\n"
     ]
    }
   ],
   "source": [
    "# ramdom 모듈을 사용해서 비복원추출 함수를 하나 만들어보자. \n",
    "# random_pop.py\n",
    "import random\n",
    "def random_pop(data):\n",
    "    number = random.randint(0, len(data)-1) #랜덤하게 뽑아줘서 복원추출임 \n",
    "    return data.pop(number) #pop은 데이터를 추출하고 삭제해주기 때문에 1개씩만 나오는 비복원추출 \n",
    "\n",
    "if __name__ == \"__main__\":\n",
    "    data = [1, 2, 3, 4, 5]\n",
    "    while data: \n",
    "        print(random_pop(data))"
   ]
  },
  {
   "cell_type": "code",
   "execution_count": 104,
   "id": "a759ba76",
   "metadata": {},
   "outputs": [],
   "source": [
    "def random_pop(data):\n",
    "    number = random.choice(data) #무작위로 선택하여 리턴함 \n",
    "    data.remove(number)\n",
    "    return number"
   ]
  },
  {
   "cell_type": "code",
   "execution_count": 105,
   "id": "af72bc4e",
   "metadata": {},
   "outputs": [
    {
     "data": {
      "text/plain": [
       "[2, 1, 5, 3, 4]"
      ]
     },
     "execution_count": 105,
     "metadata": {},
     "output_type": "execute_result"
    }
   ],
   "source": [
    "import random\n",
    "data = [1, 2, 3, 4, 5]\n",
    "random.sample(data, len(data)) #로또 추출 프로그램 만들 수 있음 "
   ]
  },
  {
   "cell_type": "code",
   "execution_count": 108,
   "id": "af37ba8b",
   "metadata": {},
   "outputs": [
    {
     "data": {
      "text/plain": [
       "['C:\\\\workspace\\\\python\\\\WASSUP\\\\##_초보자를 위한 파이썬 300제.ipynb',\n",
       " 'C:\\\\workspace\\\\python\\\\WASSUP\\\\00_마크다운_실습용.ipynb',\n",
       " 'C:\\\\workspace\\\\python\\\\WASSUP\\\\01_자료형&변수_연습문제_실습용.ipynb',\n",
       " 'C:\\\\workspace\\\\python\\\\WASSUP\\\\01_자료형과 변수.ipynb',\n",
       " 'C:\\\\workspace\\\\python\\\\WASSUP\\\\02_제어문.ipynb',\n",
       " 'C:\\\\workspace\\\\python\\\\WASSUP\\\\02_제어문_연습문제_실습용.ipynb',\n",
       " 'C:\\\\workspace\\\\python\\\\WASSUP\\\\03_입출력.ipynb',\n",
       " 'C:\\\\workspace\\\\python\\\\WASSUP\\\\03_코딩연습_전화번호프로그램_실습용.ipynb',\n",
       " 'C:\\\\workspace\\\\python\\\\WASSUP\\\\04_함수&입출력_연습문제.ipynb',\n",
       " 'C:\\\\workspace\\\\python\\\\WASSUP\\\\11.24_Practice_Pythonfstring.ipynb',\n",
       " 'C:\\\\workspace\\\\python\\\\WASSUP\\\\11.28_if_while_for.ipynb',\n",
       " 'C:\\\\workspace\\\\python\\\\WASSUP\\\\Untitled.ipynb']"
      ]
     },
     "execution_count": 108,
     "metadata": {},
     "output_type": "execute_result"
    }
   ],
   "source": [
    "import glob\n",
    "glob.glob(\"C:\\workspace\\python\\WASSUP/*.ipynb\")"
   ]
  },
  {
   "cell_type": "code",
   "execution_count": 113,
   "id": "9831f80b",
   "metadata": {},
   "outputs": [
    {
     "name": "stdout",
     "output_type": "stream",
     "text": [
      "['##_초보자를 위한 파이썬 300제.ipynb', '00_마크다운_실습용.ipynb', '01_자료형&변수_연습문제_실습용.ipynb', '01_자료형과 변수.ipynb', '02_제어문.ipynb', '02_제어문_연습문제_실습용.ipynb', '03_입출력.ipynb', '03_코딩연습_전화번호프로그램_실습용.ipynb', '04_함수&입출력_연습문제.ipynb', '11.24_Practice_Pythonfstring.ipynb', '11.28_if_while_for.ipynb', 'coffee.py', 'foo.txt', 'README.md', 'test.txt', 'Untitled.ipynb', 'WASSUP']\n",
      "['##_초보자를 위한 파이썬 300제', '00_마크다운_실습용', '01_자료형&변수_연습문제_실습용', '01_자료형과 변수', '02_제어문', '02_제어문_연습문제_실습용', '03_입출력', '03_코딩연습_전화번호프로그램_실습용', '04_함수&입출력_연습문제', '11', '11', 'coffee', 'foo', 'README', 'test', 'Untitled', 'WASSUP']\n"
     ]
    }
   ],
   "source": [
    "#파일명만 추출하기 \n",
    "file_list = glob.glob(\"*\")\n",
    "print(file_list)\n",
    "file_name = list(map(lambda x: x.split('.')[0], file_list))\n",
    "print(file_name)"
   ]
  },
  {
   "cell_type": "code",
   "execution_count": 124,
   "id": "714f2b38",
   "metadata": {},
   "outputs": [
    {
     "name": "stdout",
     "output_type": "stream",
     "text": [
      "##_초보자를 위한 파이썬 300제\n",
      "00_마크다운_실습용\n",
      "01_자료형&변수_연습문제_실습용\n",
      "01_자료형과 변수\n",
      "02_제어문\n",
      "02_제어문_연습문제_실습용\n",
      "03_입출력\n",
      "03_코딩연습_전화번호프로그램_실습용\n",
      "04_함수&입출력_연습문제\n",
      "11\n",
      "11\n",
      "Untitled\n"
     ]
    }
   ],
   "source": [
    "file_list = glob.glob(\"C:\\workspace\\python\\WASSUP/*.ipynb\")\n",
    "for file in file_list:\n",
    "    print(file.split('\\\\')[4].split('.')[0])"
   ]
  },
  {
   "cell_type": "code",
   "execution_count": null,
   "id": "ab2cad36",
   "metadata": {},
   "outputs": [],
   "source": []
  },
  {
   "cell_type": "code",
   "execution_count": null,
   "id": "bd8699ed",
   "metadata": {},
   "outputs": [],
   "source": []
  }
 ],
 "metadata": {
  "kernelspec": {
   "display_name": "Python 3 (ipykernel)",
   "language": "python",
   "name": "python3"
  },
  "language_info": {
   "codemirror_mode": {
    "name": "ipython",
    "version": 3
   },
   "file_extension": ".py",
   "mimetype": "text/x-python",
   "name": "python",
   "nbconvert_exporter": "python",
   "pygments_lexer": "ipython3",
   "version": "3.11.5"
  },
  "toc": {
   "base_numbering": 1,
   "nav_menu": {},
   "number_sections": true,
   "sideBar": true,
   "skip_h1_title": false,
   "title_cell": "Table of Contents",
   "title_sidebar": "Contents",
   "toc_cell": false,
   "toc_position": {},
   "toc_section_display": true,
   "toc_window_display": false
  }
 },
 "nbformat": 4,
 "nbformat_minor": 5
}
