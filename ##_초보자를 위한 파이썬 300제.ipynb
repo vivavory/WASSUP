{
 "cells": [
  {
   "cell_type": "markdown",
   "id": "771e5d35",
   "metadata": {},
   "source": [
    "**0~100번 문제**\n",
    "\n",
    "# 파이썬 시작하기"
   ]
  },
  {
   "cell_type": "code",
   "execution_count": 1,
   "id": "494d0f56",
   "metadata": {
    "scrolled": true
   },
   "outputs": [
    {
     "name": "stdout",
     "output_type": "stream",
     "text": [
      "hello world\n"
     ]
    }
   ],
   "source": [
    "print('hello world')"
   ]
  },
  {
   "cell_type": "code",
   "execution_count": 2,
   "id": "1d1ef20b",
   "metadata": {
    "scrolled": true
   },
   "outputs": [
    {
     "name": "stdout",
     "output_type": "stream",
     "text": [
      "Mary's cosmetics\n"
     ]
    }
   ],
   "source": [
    "print(\"Mary's cosmetics\")"
   ]
  },
  {
   "cell_type": "code",
   "execution_count": 3,
   "id": "bd1d1d9f",
   "metadata": {},
   "outputs": [
    {
     "name": "stdout",
     "output_type": "stream",
     "text": [
      "신씨가 소리질렀다. \"도둑이야\".\n"
     ]
    }
   ],
   "source": [
    "print('신씨가 소리질렀다. \"도둑이야\".')"
   ]
  },
  {
   "cell_type": "code",
   "execution_count": 4,
   "id": "d6d5995e",
   "metadata": {},
   "outputs": [
    {
     "name": "stdout",
     "output_type": "stream",
     "text": [
      "C:\\Windows\n"
     ]
    }
   ],
   "source": [
    "print('C:\\Windows')\n",
    "# 경로 설정할 때 백슬래시가 이스케이프문자로 인식되지 않게 슬래시 (/)를 써도 경로로 인식이 됨"
   ]
  },
  {
   "cell_type": "code",
   "execution_count": 5,
   "id": "ac1a2a41",
   "metadata": {},
   "outputs": [
    {
     "name": "stdout",
     "output_type": "stream",
     "text": [
      "안녕하세요.\n",
      "만나서\t\t반갑습니다.\n"
     ]
    }
   ],
   "source": [
    "print(\"안녕하세요.\\n만나서\\t\\t반갑습니다.\")\n",
    "# 줄을 바꾸는 이스케이프코드 \\n 을 활용하여 줄을 바꿈\n",
    "# 탭 \\t 로 들여쓰기 할 수 있음"
   ]
  },
  {
   "cell_type": "code",
   "execution_count": 6,
   "id": "e1b3f9d7",
   "metadata": {},
   "outputs": [
    {
     "name": "stdout",
     "output_type": "stream",
     "text": [
      "오늘은 일요일\n"
     ]
    }
   ],
   "source": [
    "print (\"오늘은\", \"일요일\")\n",
    "# 여러 값 출력 시 쉼표(,)로 구분"
   ]
  },
  {
   "cell_type": "code",
   "execution_count": 19,
   "id": "99498add",
   "metadata": {},
   "outputs": [
    {
     "data": {
      "text/plain": [
       "'naver;kakao;sk;samsung'"
      ]
     },
     "execution_count": 19,
     "metadata": {},
     "output_type": "execute_result"
    }
   ],
   "source": [
    "a = ';'\n",
    "a.join(['naver', 'kakao', 'sk', 'samsung'])\n",
    "# join 또는 sep 함수를 통해 원하는 변수 삽입 가능"
   ]
  },
  {
   "cell_type": "code",
   "execution_count": 9,
   "id": "6d5031c5",
   "metadata": {},
   "outputs": [
    {
     "name": "stdout",
     "output_type": "stream",
     "text": [
      "naver/kakao/sk/samsung\n"
     ]
    }
   ],
   "source": [
    "print(\"naver\", \"kakao\", \"sk\", \"samsung\", sep=\"/\")"
   ]
  },
  {
   "cell_type": "code",
   "execution_count": 13,
   "id": "d31a2526",
   "metadata": {},
   "outputs": [
    {
     "name": "stdout",
     "output_type": "stream",
     "text": [
      "firstsecond\n"
     ]
    }
   ],
   "source": [
    "print(\"first\", end=\"\"); print(\"second\")\n",
    "# end=\"\" 활용하여 줄바꿈 없이 출력"
   ]
  },
  {
   "cell_type": "code",
   "execution_count": 15,
   "id": "a9adb3c8",
   "metadata": {},
   "outputs": [
    {
     "name": "stdout",
     "output_type": "stream",
     "text": [
      "1.6666666666666667\n"
     ]
    }
   ],
   "source": [
    "print(5/3)"
   ]
  },
  {
   "cell_type": "markdown",
   "id": "0852d3b2",
   "metadata": {},
   "source": [
    "# 파이썬 변수"
   ]
  },
  {
   "cell_type": "code",
   "execution_count": 27,
   "id": "cc0b4e62",
   "metadata": {},
   "outputs": [
    {
     "name": "stdout",
     "output_type": "stream",
     "text": [
      "500000\n"
     ]
    }
   ],
   "source": [
    "삼성전자 = 50000\n",
    "총평가금액 = 삼성전자 * 10\n",
    "print(총평가금액)\n",
    "# 변수 지정할 때 띄어쓰기 주의하기"
   ]
  },
  {
   "cell_type": "code",
   "execution_count": 36,
   "id": "d2823d11",
   "metadata": {},
   "outputs": [
    {
     "name": "stdout",
     "output_type": "stream",
     "text": [
      "298000000000000 <class 'int'>\n",
      "50000 <class 'int'>\n",
      "15.79 <class 'float'>\n"
     ]
    }
   ],
   "source": [
    "시가총액 = 298000000000000\n",
    "현재가 = 50000\n",
    "PER = 15.79\n",
    "print(시가총액, type(시가총액))\n",
    "print(현재가, type(현재가))\n",
    "print(PER, type(PER))\n",
    "#정수 int, 실수 float 표현 "
   ]
  },
  {
   "cell_type": "code",
   "execution_count": 39,
   "id": "600a66e5",
   "metadata": {},
   "outputs": [
    {
     "name": "stdout",
     "output_type": "stream",
     "text": [
      "hello! python\n"
     ]
    }
   ],
   "source": [
    "s = \"hello\"\n",
    "t = \"python\"\n",
    "print(s+'!', t)\n",
    "# 공백 없이 문자를 붙이려면 + 활용 "
   ]
  },
  {
   "cell_type": "code",
   "execution_count": 42,
   "id": "943bcff9",
   "metadata": {},
   "outputs": [
    {
     "name": "stdout",
     "output_type": "stream",
     "text": [
      "8\n"
     ]
    }
   ],
   "source": [
    "print(2+2*3)"
   ]
  },
  {
   "cell_type": "code",
   "execution_count": 44,
   "id": "2d803c32",
   "metadata": {},
   "outputs": [
    {
     "name": "stdout",
     "output_type": "stream",
     "text": [
      "<class 'str'>\n"
     ]
    }
   ],
   "source": [
    "a = \"132\"\n",
    "print(type(a))\n",
    "# \"정수\"를 문자열 str 로 반환"
   ]
  },
  {
   "cell_type": "code",
   "execution_count": 58,
   "id": "fd63acf8",
   "metadata": {},
   "outputs": [
    {
     "name": "stdout",
     "output_type": "stream",
     "text": [
      "720\n"
     ]
    }
   ],
   "source": [
    "num_str = \"720\"\n",
    "print(int(num_str))"
   ]
  },
  {
   "cell_type": "code",
   "execution_count": 61,
   "id": "7d953316",
   "metadata": {},
   "outputs": [
    {
     "name": "stdout",
     "output_type": "stream",
     "text": [
      "720.01 <class 'float'>\n"
     ]
    }
   ],
   "source": [
    "#int 말고 float로 변환해보고 연산값을 출력하여 제대로 되었는지 확인\n",
    "num_str = \"720\"\n",
    "num_float = float(num_str)\n",
    "print(num_float+0.01, type(num_float))"
   ]
  },
  {
   "cell_type": "code",
   "execution_count": 6,
   "id": "d8ad3988",
   "metadata": {},
   "outputs": [
    {
     "name": "stdout",
     "output_type": "stream",
     "text": [
      "100\n"
     ]
    }
   ],
   "source": [
    "# \"정수\"를 문자열 str 로 반환\n",
    "num = 100\n",
    "print(str(num))"
   ]
  },
  {
   "cell_type": "code",
   "execution_count": 8,
   "id": "696244bb",
   "metadata": {},
   "outputs": [
    {
     "name": "stdout",
     "output_type": "stream",
     "text": [
      "15.79\n"
     ]
    }
   ],
   "source": [
    "#문자열을 실수(float)로 반환\n",
    "print(float('15.79'))"
   ]
  },
  {
   "cell_type": "code",
   "execution_count": 9,
   "id": "586de108",
   "metadata": {},
   "outputs": [
    {
     "name": "stdout",
     "output_type": "stream",
     "text": [
      "2021 2022 2023\n"
     ]
    }
   ],
   "source": [
    "#문자열>정수 변환 후 최근 3년의 연도 출력\n",
    "year = \"2020\"\n",
    "a = int(year)\n",
    "print(a+1,a+2,a+3)"
   ]
  },
  {
   "cell_type": "code",
   "execution_count": 10,
   "id": "7b34281b",
   "metadata": {},
   "outputs": [
    {
     "name": "stdout",
     "output_type": "stream",
     "text": [
      "1749024\n"
     ]
    }
   ],
   "source": [
    "m = 48584\n",
    "p = 36\n",
    "print(m*p)"
   ]
  },
  {
   "cell_type": "markdown",
   "id": "06463a3f",
   "metadata": {},
   "source": [
    "# 파이썬 문자열"
   ]
  },
  {
   "cell_type": "code",
   "execution_count": 15,
   "id": "c03b01b2",
   "metadata": {},
   "outputs": [
    {
     "name": "stdout",
     "output_type": "stream",
     "text": [
      "p t\n"
     ]
    }
   ],
   "source": [
    "# 1,3번째 문자열 출력 (인덱싱) > 인덱싱은 각각의 요소로 매칭\n",
    "letters = 'python'\n",
    "print(letters[0],letters[2])"
   ]
  },
  {
   "cell_type": "code",
   "execution_count": 21,
   "id": "881dcf44",
   "metadata": {},
   "outputs": [
    {
     "name": "stdout",
     "output_type": "stream",
     "text": [
      "2210\n"
     ]
    }
   ],
   "source": [
    "# 문자열 뒷자리 정수 출력 (슬라이싱:여러 글자 가져오기) \n",
    "# > 범위 [start index : endindex+1]\n",
    "license_plate = \"24가 2210\"\n",
    "print(license_plate[4:8])"
   ]
  },
  {
   "cell_type": "code",
   "execution_count": 25,
   "id": "72d829a4",
   "metadata": {},
   "outputs": [
    {
     "name": "stdout",
     "output_type": "stream",
     "text": [
      "2210\n"
     ]
    }
   ],
   "source": [
    "# 문자열 뒷자리 정수 출력 음수 표현 (뒤에서 -n번째:끝)\n",
    "print(license_plate[-4:])"
   ]
  },
  {
   "cell_type": "code",
   "execution_count": 31,
   "id": "ae0387aa",
   "metadata": {},
   "outputs": [
    {
     "name": "stdout",
     "output_type": "stream",
     "text": [
      "홀홀홀\n"
     ]
    }
   ],
   "source": [
    "#반복되는 문자 출력 (인덱싱)\n",
    "string = \"홀짝홀짝홀짝\"\n",
    "print(string[0]*3)"
   ]
  },
  {
   "cell_type": "code",
   "execution_count": 35,
   "id": "fc8adcc0",
   "metadata": {},
   "outputs": [
    {
     "name": "stdout",
     "output_type": "stream",
     "text": [
      "홀홀홀\n"
     ]
    }
   ],
   "source": [
    "#원하는 문자 출력 (시작:끝:오프셋 슬라이싱 활용 > 1칸 간격으로 출력)\n",
    "print(string[::2])"
   ]
  },
  {
   "cell_type": "code",
   "execution_count": 110,
   "id": "e63f43db",
   "metadata": {},
   "outputs": [
    {
     "name": "stdout",
     "output_type": "stream",
     "text": [
      "NOHTYP\n"
     ]
    }
   ],
   "source": [
    "#문자열 순서 거꾸로 출력 \n",
    "string = \"PYTHON\"\n",
    "print(string[5]+string[4]+string[3]+string[2]+string[1]+string[0])"
   ]
  },
  {
   "cell_type": "code",
   "execution_count": 70,
   "id": "6e1749eb",
   "metadata": {},
   "outputs": [
    {
     "name": "stdout",
     "output_type": "stream",
     "text": [
      "NOHTYP\n",
      "NOHTYP\n"
     ]
    }
   ],
   "source": [
    "#문자열 순서 거꾸로 출력 (시작:끝:오프셋 슬라이싱 활용 > 오프셋을 음수로 둠)\n",
    "string = \"PYTHON\"\n",
    "print(string[::-1])\n",
    "print(string[-1:-7:-1])"
   ]
  },
  {
   "cell_type": "code",
   "execution_count": 99,
   "id": "ba01ff84",
   "metadata": {},
   "outputs": [
    {
     "name": "stdout",
     "output_type": "stream",
     "text": [
      "010 1111 2222\n"
     ]
    }
   ],
   "source": [
    "#전화번호 하이푼 제거\n",
    "print('010','1111','2222')"
   ]
  },
  {
   "cell_type": "code",
   "execution_count": 98,
   "id": "1c5f1913",
   "metadata": {},
   "outputs": [
    {
     "name": "stdout",
     "output_type": "stream",
     "text": [
      "010 1111 2222\n"
     ]
    }
   ],
   "source": [
    "#전화번호 하이푼 제거 (replace 치환 활용) \n",
    "#변수.replace(old, new, count=-1, /) : count=-1 은 모든 사건을 치환함을 의미\n",
    "print(phone_number.replace('-',' '))"
   ]
  },
  {
   "cell_type": "code",
   "execution_count": 107,
   "id": "65222f74",
   "metadata": {},
   "outputs": [
    {
     "name": "stdout",
     "output_type": "stream",
     "text": [
      "010 1111 2222\n",
      "010 1111 2222\n"
     ]
    }
   ],
   "source": [
    "#전화번호 하이푼 제거 (split + join 활용) \n",
    "a = phone_number.split('-')\n",
    "b = ' '.join(a)\n",
    "print(b)\n",
    "print(' '.join(['010','1111','2222']))"
   ]
  },
  {
   "cell_type": "code",
   "execution_count": 118,
   "id": "d3cfc392",
   "metadata": {},
   "outputs": [
    {
     "name": "stdout",
     "output_type": "stream",
     "text": [
      "01011112222\n",
      "01011112222\n"
     ]
    }
   ],
   "source": [
    "#문자열 다루기 (공백지우기)\n",
    "print(b.replace(' ',''))\n",
    "print(''.join(a))"
   ]
  },
  {
   "cell_type": "code",
   "execution_count": 124,
   "id": "99afce91",
   "metadata": {},
   "outputs": [
    {
     "name": "stdout",
     "output_type": "stream",
     "text": [
      "kr\n"
     ]
    }
   ],
   "source": [
    "#도메인 출력 > 슬라이싱\n",
    "url = \"http://sharebook.kr\"\n",
    "print(url[-2:])"
   ]
  },
  {
   "cell_type": "code",
   "execution_count": 128,
   "id": "e672512a",
   "metadata": {},
   "outputs": [
    {
     "name": "stdout",
     "output_type": "stream",
     "text": [
      "kr\n"
     ]
    }
   ],
   "source": [
    "#도메인 출력 > split 사용\n",
    "url = \"http://sharebook.kr\"\n",
    "split = url.split('.')\n",
    "print(split[-1])"
   ]
  },
  {
   "cell_type": "code",
   "execution_count": 129,
   "id": "06a499af",
   "metadata": {},
   "outputs": [
    {
     "ename": "TypeError",
     "evalue": "'str' object does not support item assignment",
     "output_type": "error",
     "traceback": [
      "\u001b[1;31m---------------------------------------------------------------------------\u001b[0m",
      "\u001b[1;31mTypeError\u001b[0m                                 Traceback (most recent call last)",
      "Cell \u001b[1;32mIn[129], line 2\u001b[0m\n\u001b[0;32m      1\u001b[0m lang \u001b[38;5;241m=\u001b[39m \u001b[38;5;124m'\u001b[39m\u001b[38;5;124mpython\u001b[39m\u001b[38;5;124m'\u001b[39m\n\u001b[1;32m----> 2\u001b[0m lang[\u001b[38;5;241m0\u001b[39m] \u001b[38;5;241m=\u001b[39m \u001b[38;5;124m'\u001b[39m\u001b[38;5;124mP\u001b[39m\u001b[38;5;124m'\u001b[39m\n\u001b[0;32m      3\u001b[0m \u001b[38;5;28mprint\u001b[39m(lang)\n",
      "\u001b[1;31mTypeError\u001b[0m: 'str' object does not support item assignment"
     ]
    }
   ],
   "source": [
    "#문자열(str) : '', \"”(immutable object) 원본 변경 불가\n",
    "lang = 'python'\n",
    "lang[0] = 'P'\n",
    "print(lang)\n",
    "#문자열이 할당(assignment) 메서드를 지원하지 않음"
   ]
  },
  {
   "cell_type": "code",
   "execution_count": 136,
   "id": "5b978e45",
   "metadata": {},
   "outputs": [
    {
     "name": "stdout",
     "output_type": "stream",
     "text": [
      "Abcdfe2A354A32A\n"
     ]
    }
   ],
   "source": [
    "#문자열 대소문자 변경 시 replace 메서드 가능\n",
    "string = 'abcdfe2a354a32a'\n",
    "print(string.replace('a','A'))"
   ]
  },
  {
   "cell_type": "code",
   "execution_count": 137,
   "id": "211e6fda",
   "metadata": {},
   "outputs": [
    {
     "name": "stdout",
     "output_type": "stream",
     "text": [
      "abcd\n"
     ]
    }
   ],
   "source": [
    "#문자열은 변경할 수 없는 자료형이기 때문에 원본을 그대로 둔 채로 변경된 새로운 문자열 객체를 리턴\n",
    "string = 'abcd'\n",
    "string.replace('b', 'B')\n",
    "print(string)"
   ]
  },
  {
   "cell_type": "code",
   "execution_count": 138,
   "id": "ffe5997b",
   "metadata": {},
   "outputs": [
    {
     "name": "stdout",
     "output_type": "stream",
     "text": [
      "34\n"
     ]
    }
   ],
   "source": [
    "#문자열 합치기 (덧셈을 통해 문자열 연결)\n",
    "a = \"3\"\n",
    "b = \"4\"\n",
    "print(a + b)"
   ]
  },
  {
   "cell_type": "code",
   "execution_count": 139,
   "id": "54039cf9",
   "metadata": {},
   "outputs": [
    {
     "name": "stdout",
     "output_type": "stream",
     "text": [
      "HiHiHi\n"
     ]
    }
   ],
   "source": [
    "print(\"Hi\" * 3)"
   ]
  },
  {
   "cell_type": "code",
   "execution_count": 140,
   "id": "62bd9cec",
   "metadata": {},
   "outputs": [
    {
     "name": "stdout",
     "output_type": "stream",
     "text": [
      "--------------------------------------------------------------------------------\n"
     ]
    }
   ],
   "source": [
    "# '-' 80개 출력 \n",
    "print('-'*80)"
   ]
  },
  {
   "cell_type": "code",
   "execution_count": 144,
   "id": "4c6edd78",
   "metadata": {},
   "outputs": [
    {
     "name": "stdout",
     "output_type": "stream",
     "text": [
      "python java python java python java python java \n"
     ]
    }
   ],
   "source": [
    "t1 = 'python'\n",
    "t2 = 'java'\n",
    "print((t1+' '+t2+' ')*4)"
   ]
  },
  {
   "cell_type": "markdown",
   "id": "2490339c",
   "metadata": {},
   "source": [
    "## formatting"
   ]
  },
  {
   "cell_type": "code",
   "execution_count": 153,
   "id": "5594ac97",
   "metadata": {},
   "outputs": [
    {
     "name": "stdout",
     "output_type": "stream",
     "text": [
      "이름: 김민수 나이: 10\n",
      "이름: 이철희 나이: 13\n"
     ]
    }
   ],
   "source": [
    "#★★ % formatting 활용 > 2개 이상 값을 넣을 경우 %(a,b)로 변수 지정, 각각 출력 \n",
    "name1 = \"김민수\" \n",
    "age1 = 10\n",
    "name2 = \"이철희\"\n",
    "age2 = 13\n",
    "print('이름: %s 나이: %d' %(name1,age1))\n",
    "print('이름: %s 나이: %d' %(name2,age2))"
   ]
  },
  {
   "cell_type": "code",
   "execution_count": 155,
   "id": "01a74899",
   "metadata": {},
   "outputs": [
    {
     "name": "stdout",
     "output_type": "stream",
     "text": [
      "이름: 김민수 나이: 10\n",
      "이름: 이철희 나이: 13\n"
     ]
    }
   ],
   "source": [
    "# 2개 이상 값을 넣을 경우 format( ) 메서드를 사용 \n",
    "#  값출력 위치에 %대신 {}\n",
    "print('이름: {} 나이: {}'.format(name1,age1))\n",
    "print('이름: {} 나이: {}'.format(name2,age2))"
   ]
  },
  {
   "cell_type": "code",
   "execution_count": 157,
   "id": "d61b73f8",
   "metadata": {},
   "outputs": [
    {
     "name": "stdout",
     "output_type": "stream",
     "text": [
      "이름: 김민수 나이: 10\n",
      "이름: 이철희 나이: 13\n"
     ]
    }
   ],
   "source": [
    "#f-string을 사용 / 문자열 맨 앞 f를 넣고 {변수} 지정\n",
    "print(f'이름: {name1} 나이: {age1}')\n",
    "print(f'이름: {name2} 나이: {age2}')"
   ]
  },
  {
   "cell_type": "code",
   "execution_count": 164,
   "id": "6b6d939d",
   "metadata": {},
   "outputs": [
    {
     "name": "stdout",
     "output_type": "stream",
     "text": [
      "5969782550\n"
     ]
    }
   ],
   "source": [
    "상장주식수 = \"5,969,782,550\"\n",
    "print(int(상장주식수.replace(',','')))"
   ]
  },
  {
   "cell_type": "code",
   "execution_count": 167,
   "id": "3e9bff6a",
   "metadata": {},
   "outputs": [
    {
     "name": "stdout",
     "output_type": "stream",
     "text": [
      "2020/03\n"
     ]
    }
   ],
   "source": [
    "분기 = \"2020/03(E) (IFRS연결)\"\n",
    "print(분기[:7])"
   ]
  },
  {
   "cell_type": "code",
   "execution_count": 170,
   "id": "bea5233b",
   "metadata": {},
   "outputs": [
    {
     "name": "stdout",
     "output_type": "stream",
     "text": [
      "삼성전자\n"
     ]
    }
   ],
   "source": [
    "#strip 메서드로 공백제거\n",
    "data = \"   삼성전자    \"\n",
    "print(data.strip())"
   ]
  },
  {
   "cell_type": "code",
   "execution_count": 172,
   "id": "0d5b37ca",
   "metadata": {},
   "outputs": [
    {
     "name": "stdout",
     "output_type": "stream",
     "text": [
      "BTC_KRW\n"
     ]
    }
   ],
   "source": [
    "#upper 전체 대문자 변경\n",
    "ticker = \"btc_krw\"\n",
    "print(ticker.upper())"
   ]
  },
  {
   "cell_type": "code",
   "execution_count": 173,
   "id": "6891efc9",
   "metadata": {},
   "outputs": [
    {
     "name": "stdout",
     "output_type": "stream",
     "text": [
      "btc_krw\n"
     ]
    }
   ],
   "source": [
    "#lower 전체 소문자 변경\n",
    "ticker = \"BTC_KRW\"\n",
    "print(ticker.lower())"
   ]
  },
  {
   "cell_type": "code",
   "execution_count": 175,
   "id": "e15ff41f",
   "metadata": {},
   "outputs": [
    {
     "name": "stdout",
     "output_type": "stream",
     "text": [
      "Hello\n"
     ]
    }
   ],
   "source": [
    "#capitalize 맨 앞글자 대문자 변경\n",
    "string = 'hello'\n",
    "print(string.capitalize())"
   ]
  },
  {
   "cell_type": "code",
   "execution_count": 181,
   "id": "cc0e01a2",
   "metadata": {},
   "outputs": [
    {
     "data": {
      "text/plain": [
       "True"
      ]
     },
     "execution_count": 181,
     "metadata": {},
     "output_type": "execute_result"
    }
   ],
   "source": [
    "#endswith 메서드를 사용해서 문자열이 'xlsx'로 끝나는지 확인 > true , false 값으로 반환\n",
    "file_name = \"보고서.xlsx\"\n",
    "file_name.endswith('xlsx')"
   ]
  },
  {
   "cell_type": "code",
   "execution_count": 185,
   "id": "eec50ffb",
   "metadata": {},
   "outputs": [
    {
     "data": {
      "text/plain": [
       "True"
      ]
     },
     "execution_count": 185,
     "metadata": {},
     "output_type": "execute_result"
    }
   ],
   "source": [
    "file_name.endswith('xlsx'or'xls')"
   ]
  },
  {
   "cell_type": "code",
   "execution_count": 187,
   "id": "3498ab92",
   "metadata": {},
   "outputs": [
    {
     "data": {
      "text/plain": [
       "False"
      ]
     },
     "execution_count": 187,
     "metadata": {},
     "output_type": "execute_result"
    }
   ],
   "source": [
    "file_name = \"2020_보고서.xlsx\"\n",
    "file_name.startswith('2021')"
   ]
  },
  {
   "cell_type": "code",
   "execution_count": 189,
   "id": "4955263d",
   "metadata": {},
   "outputs": [
    {
     "data": {
      "text/plain": [
       "['hello', 'world']"
      ]
     },
     "execution_count": 189,
     "metadata": {},
     "output_type": "execute_result"
    }
   ],
   "source": [
    "a = \"hello world\"\n",
    "a.split()"
   ]
  },
  {
   "cell_type": "code",
   "execution_count": 190,
   "id": "07b506b4",
   "metadata": {},
   "outputs": [
    {
     "data": {
      "text/plain": [
       "['btc', 'krw']"
      ]
     },
     "execution_count": 190,
     "metadata": {},
     "output_type": "execute_result"
    }
   ],
   "source": [
    "ticker = \"btc_krw\"\n",
    "ticker.split('_')"
   ]
  },
  {
   "cell_type": "code",
   "execution_count": 191,
   "id": "304d2f1a",
   "metadata": {},
   "outputs": [
    {
     "data": {
      "text/plain": [
       "['2020', '05', '01']"
      ]
     },
     "execution_count": 191,
     "metadata": {},
     "output_type": "execute_result"
    }
   ],
   "source": [
    "date = \"2020-05-01\"\n",
    "date.split('-')"
   ]
  },
  {
   "cell_type": "code",
   "execution_count": 194,
   "id": "1962d996",
   "metadata": {},
   "outputs": [
    {
     "name": "stdout",
     "output_type": "stream",
     "text": [
      "039490\n",
      "039490\n"
     ]
    }
   ],
   "source": [
    "data = \"039490     \"\n",
    "print(data.strip())\n",
    "print(data.rstrip())"
   ]
  },
  {
   "cell_type": "markdown",
   "id": "3f5d362a",
   "metadata": {},
   "source": [
    "# 파이썬 리스트 (순서O, 수정가능한 자료구조)"
   ]
  },
  {
   "cell_type": "code",
   "execution_count": 216,
   "id": "f6f63b01",
   "metadata": {},
   "outputs": [
    {
     "name": "stdout",
     "output_type": "stream",
     "text": [
      "['닥터 스트레인지', '스플릿', '럭키'] <class 'list'>\n"
     ]
    }
   ],
   "source": [
    "movie_rank = ['닥터 스트레인지','스플릿','럭키']\n",
    "print(movie_rank, type(movie_rank))"
   ]
  },
  {
   "cell_type": "code",
   "execution_count": 212,
   "id": "49a5935e",
   "metadata": {},
   "outputs": [
    {
     "name": "stdout",
     "output_type": "stream",
     "text": [
      "['닥터 스트레인지', '스플릿', '럭키', '배트맨']\n"
     ]
    }
   ],
   "source": [
    "#리스트에 요소 추가 : a.append(추가요소)\n",
    "movie_rank.append('배트맨')\n",
    "print(movie_rank)"
   ]
  },
  {
   "cell_type": "code",
   "execution_count": 217,
   "id": "7b755611",
   "metadata": {},
   "outputs": [
    {
     "name": "stdout",
     "output_type": "stream",
     "text": [
      "['닥터 스트레인지', '스플릿', '럭키', '배트맨']\n"
     ]
    }
   ],
   "source": [
    "#리스트에 요소 추가 : a.insert(추가위치,추가요소)\n",
    "movie_rank.insert(3,'배트맨')\n",
    "print(movie_rank)"
   ]
  },
  {
   "cell_type": "code",
   "execution_count": 219,
   "id": "67f8a667",
   "metadata": {},
   "outputs": [
    {
     "name": "stdout",
     "output_type": "stream",
     "text": [
      "['닥터 스트레인지', '슈퍼맨', '스플릿', '럭키', '배트맨']\n"
     ]
    }
   ],
   "source": [
    "#리스트에 요소 추가 : a.insert(추가위치,추가요소)\n",
    "movie_rank.insert(1,'슈퍼맨')\n",
    "print(movie_rank)"
   ]
  },
  {
   "cell_type": "code",
   "execution_count": 221,
   "id": "d5dd5df6",
   "metadata": {},
   "outputs": [
    {
     "name": "stdout",
     "output_type": "stream",
     "text": [
      "['닥터 스트레인지', '슈퍼맨', '스플릿', '배트맨']\n"
     ]
    }
   ],
   "source": [
    "#리스트에서 요소 삭제 : del a[삭제하고자 하는 문자의 위치]\n",
    "del movie_rank[3]\n",
    "print(movie_rank)"
   ]
  },
  {
   "cell_type": "code",
   "execution_count": 222,
   "id": "c0504650",
   "metadata": {},
   "outputs": [
    {
     "name": "stdout",
     "output_type": "stream",
     "text": [
      "['닥터 스트레인지', '슈퍼맨']\n"
     ]
    }
   ],
   "source": [
    "#리스트에서 요소 삭제 : del a[삭제하고자 하는 문자의 위치] > 순서가 연속적이지 않으면 각각 삭제\n",
    "del movie_rank[2:]\n",
    "print(movie_rank)"
   ]
  },
  {
   "cell_type": "code",
   "execution_count": 224,
   "id": "2c1c2d4c",
   "metadata": {},
   "outputs": [
    {
     "name": "stdout",
     "output_type": "stream",
     "text": [
      "['C', 'C++', 'JAVA', 'Python', 'Go', 'C#']\n"
     ]
    }
   ],
   "source": [
    "# 두 리스트를 더하면 새로운 리스트 생성\n",
    "lang1 = [\"C\", \"C++\", \"JAVA\"]\n",
    "lang2 = [\"Python\", \"Go\", \"C#\"]\n",
    "print(lang1+lang2)"
   ]
  },
  {
   "cell_type": "code",
   "execution_count": 226,
   "id": "4b4125fb",
   "metadata": {},
   "outputs": [
    {
     "name": "stdout",
     "output_type": "stream",
     "text": [
      "max: 7\n",
      "min: 1\n"
     ]
    }
   ],
   "source": [
    "#최댓값과 최솟값을 출력. (힌트: min(), max() 함수 사용)\n",
    "nums = [1, 2, 3, 4, 5, 6, 7]\n",
    "print('max:',max(nums))\n",
    "print('min:',min(nums))"
   ]
  },
  {
   "cell_type": "code",
   "execution_count": 228,
   "id": "c4b102ee",
   "metadata": {},
   "outputs": [
    {
     "name": "stdout",
     "output_type": "stream",
     "text": [
      "15\n",
      "15\n"
     ]
    }
   ],
   "source": [
    "nums = [1, 2, 3, 4, 5]\n",
    "print(sum(nums))\n",
    "print(nums[0]+nums[1]+nums[2]+nums[3]+nums[4])"
   ]
  },
  {
   "cell_type": "code",
   "execution_count": 232,
   "id": "e7a072e9",
   "metadata": {},
   "outputs": [
    {
     "name": "stdout",
     "output_type": "stream",
     "text": [
      "12\n"
     ]
    }
   ],
   "source": [
    "#데이터 개수 = len 함수 사용\n",
    "cook = [\"피자\", \"김밥\", \"만두\", \"양념치킨\", \"족발\", \"피자\", \"김치만두\", \"쫄면\", \"소시지\", \"라면\", \"팥빙수\", \"김치전\"]\n",
    "print(len(cook))"
   ]
  },
  {
   "cell_type": "code",
   "execution_count": 235,
   "id": "7cf28d83",
   "metadata": {},
   "outputs": [
    {
     "name": "stdout",
     "output_type": "stream",
     "text": [
      "3.0\n"
     ]
    }
   ],
   "source": [
    "#리스트 평균 = average 함수는 없음 (합계/개수)\n",
    "nums = [1, 2, 3, 4, 5]\n",
    "print(sum(nums)/len(nums))"
   ]
  },
  {
   "cell_type": "code",
   "execution_count": 2,
   "id": "64c8ab3c",
   "metadata": {},
   "outputs": [
    {
     "name": "stdout",
     "output_type": "stream",
     "text": [
      "[100, 130, 140, 150, 160, 170]\n"
     ]
    }
   ],
   "source": [
    "#가격 정보만 출력, 슬라이싱\n",
    "price = ['20180728', 100, 130, 140, 150, 160, 170]\n",
    "print(price[1:])"
   ]
  },
  {
   "cell_type": "code",
   "execution_count": 3,
   "id": "761515b3",
   "metadata": {},
   "outputs": [
    {
     "name": "stdout",
     "output_type": "stream",
     "text": [
      "[1, 3, 5, 7, 9]\n"
     ]
    }
   ],
   "source": [
    "#홀수출력\n",
    "nums = [1, 2, 3, 4, 5, 6, 7, 8, 9, 10]\n",
    "print(nums[::2])"
   ]
  },
  {
   "cell_type": "code",
   "execution_count": 4,
   "id": "065176c8",
   "metadata": {},
   "outputs": [
    {
     "name": "stdout",
     "output_type": "stream",
     "text": [
      "[2, 4, 6, 8, 10]\n"
     ]
    }
   ],
   "source": [
    "#짝수출력\n",
    "print(nums[1::2])"
   ]
  },
  {
   "cell_type": "code",
   "execution_count": 18,
   "id": "605cf112",
   "metadata": {},
   "outputs": [
    {
     "name": "stdout",
     "output_type": "stream",
     "text": [
      "[5, 4, 3, 2, 1]\n",
      "[5, 4, 3, 2, 1]\n"
     ]
    }
   ],
   "source": [
    "#역방향 출력 : 오프셋 또는 리버스 사용\n",
    "nums = [1, 2, 3, 4, 5]\n",
    "print(nums[::-1])\n",
    "nums.reverse()\n",
    "print(nums)"
   ]
  },
  {
   "cell_type": "code",
   "execution_count": 13,
   "id": "290bf85f",
   "metadata": {},
   "outputs": [
    {
     "name": "stdout",
     "output_type": "stream",
     "text": [
      "삼성전자 Naver\n"
     ]
    }
   ],
   "source": [
    "interest = ['삼성전자', 'LG전자', 'Naver']\n",
    "print(interest[0],interest[2])"
   ]
  },
  {
   "cell_type": "code",
   "execution_count": 21,
   "id": "4c6716cc",
   "metadata": {},
   "outputs": [
    {
     "name": "stdout",
     "output_type": "stream",
     "text": [
      "삼성전자 LG전자 Naver SK하이닉스 미래에셋대우\n"
     ]
    }
   ],
   "source": [
    "#join 활용\n",
    "interest = ['삼성전자', 'LG전자', 'Naver', 'SK하이닉스', '미래에셋대우']\n",
    "print(' '.join(interest))"
   ]
  },
  {
   "cell_type": "code",
   "execution_count": 22,
   "id": "cd5577ab",
   "metadata": {},
   "outputs": [
    {
     "name": "stdout",
     "output_type": "stream",
     "text": [
      "삼성전자/LG전자/Naver/SK하이닉스/미래에셋대우\n"
     ]
    }
   ],
   "source": [
    "print('/'.join(interest))"
   ]
  },
  {
   "cell_type": "code",
   "execution_count": 23,
   "id": "0dd2079a",
   "metadata": {},
   "outputs": [
    {
     "name": "stdout",
     "output_type": "stream",
     "text": [
      "삼성전자\n",
      "LG전자\n",
      "Naver\n",
      "SK하이닉스\n",
      "미래에셋대우\n"
     ]
    }
   ],
   "source": [
    "print('\\n'.join(interest))"
   ]
  },
  {
   "cell_type": "code",
   "execution_count": 30,
   "id": "b70d46e8",
   "metadata": {},
   "outputs": [
    {
     "name": "stdout",
     "output_type": "stream",
     "text": [
      "['삼성전자', 'LG전자', 'Naver']\n"
     ]
    }
   ],
   "source": [
    "#문자열을 리스트로 분리 저장 (split 메서드)\n",
    "string = \"삼성전자/LG전자/Naver\"\n",
    "interest = string.split('/')\n",
    "print(interest) "
   ]
  },
  {
   "cell_type": "code",
   "execution_count": 33,
   "id": "a195ec6d",
   "metadata": {},
   "outputs": [
    {
     "name": "stdout",
     "output_type": "stream",
     "text": [
      "[1, 2, 3, 4, 5, 9, 10]\n"
     ]
    }
   ],
   "source": [
    "#오름차순 정렬\n",
    "data = [2, 4, 3, 1, 5, 10, 9]\n",
    "data.sort()\n",
    "print(data)"
   ]
  },
  {
   "cell_type": "markdown",
   "id": "c18d913b",
   "metadata": {},
   "source": [
    "# 파이썬 튜플 (순서O, 수정 불가능한 자료구조)"
   ]
  },
  {
   "cell_type": "code",
   "execution_count": 36,
   "id": "ed4613bd",
   "metadata": {},
   "outputs": [
    {
     "name": "stdout",
     "output_type": "stream",
     "text": [
      "() <class 'tuple'>\n"
     ]
    }
   ],
   "source": [
    "my_variable = ()\n",
    "print(my_variable,type(my_variable))"
   ]
  },
  {
   "cell_type": "code",
   "execution_count": 37,
   "id": "2d724f43",
   "metadata": {},
   "outputs": [
    {
     "name": "stdout",
     "output_type": "stream",
     "text": [
      "('닥터 스트레인지', '스플릿', '럭키')\n"
     ]
    }
   ],
   "source": [
    "movie_rank = ('닥터 스트레인지', '스플릿', '럭키')\n",
    "print(movie_rank)"
   ]
  },
  {
   "cell_type": "code",
   "execution_count": 39,
   "id": "1c7d8ba5",
   "metadata": {},
   "outputs": [
    {
     "name": "stdout",
     "output_type": "stream",
     "text": [
      "(1,)\n"
     ]
    }
   ],
   "source": [
    "#하나의 정수값만 저장하면 int 로 인식하므로 요소가 1개더라도 쉼표를 입력해야 함\n",
    "#마찬가지로 하나의 문자열만 저장하면 str 로 인식 \n",
    "t= (1,)\n",
    "print(t)"
   ]
  },
  {
   "cell_type": "code",
   "execution_count": 44,
   "id": "bbf42c6b",
   "metadata": {},
   "outputs": [
    {
     "ename": "TypeError",
     "evalue": "'tuple' object does not support item assignment",
     "output_type": "error",
     "traceback": [
      "\u001b[1;31m---------------------------------------------------------------------------\u001b[0m",
      "\u001b[1;31mTypeError\u001b[0m                                 Traceback (most recent call last)",
      "Cell \u001b[1;32mIn[44], line 3\u001b[0m\n\u001b[0;32m      1\u001b[0m \u001b[38;5;66;03m#리스트는 값 변환, 삭제 등의 수정(assignment)을 지원하지만 튜플은 아님\u001b[39;00m\n\u001b[0;32m      2\u001b[0m t \u001b[38;5;241m=\u001b[39m (\u001b[38;5;241m1\u001b[39m, \u001b[38;5;241m2\u001b[39m, \u001b[38;5;241m3\u001b[39m)\n\u001b[1;32m----> 3\u001b[0m t[\u001b[38;5;241m0\u001b[39m] \u001b[38;5;241m=\u001b[39m \u001b[38;5;124m'\u001b[39m\u001b[38;5;124ma\u001b[39m\u001b[38;5;124m'\u001b[39m\n\u001b[0;32m      4\u001b[0m \u001b[38;5;28mprint\u001b[39m(t)\n",
      "\u001b[1;31mTypeError\u001b[0m: 'tuple' object does not support item assignment"
     ]
    }
   ],
   "source": [
    "#리스트는 값 변경, 삭제 등의 수정(assignment)을 지원하지만 튜플은 아님\n",
    "t = (1, 2, 3)\n",
    "t[0] = 'a'\n",
    "print(t)"
   ]
  },
  {
   "cell_type": "code",
   "execution_count": 48,
   "id": "48c586fd",
   "metadata": {},
   "outputs": [
    {
     "data": {
      "text/plain": [
       "tuple"
      ]
     },
     "execution_count": 48,
     "metadata": {},
     "output_type": "execute_result"
    }
   ],
   "source": [
    "# 튜플은 괄호가 없어도 동작함\n",
    "t = 1, 2, 3, 4\n",
    "type(t)"
   ]
  },
  {
   "cell_type": "code",
   "execution_count": 53,
   "id": "3a260b7b",
   "metadata": {},
   "outputs": [
    {
     "name": "stdout",
     "output_type": "stream",
     "text": [
      "('A', 'b', 'c')\n"
     ]
    }
   ],
   "source": [
    "# 중간 값 변경이 안되므로 새로 생성\n",
    "t = ('a', 'b', 'c')\n",
    "\n",
    "t=('A','b','c')\n",
    "print(t)"
   ]
  },
  {
   "cell_type": "code",
   "execution_count": 55,
   "id": "4afedd64",
   "metadata": {},
   "outputs": [
    {
     "name": "stdout",
     "output_type": "stream",
     "text": [
      "['삼성전자', 'LG전자', 'SK Hynix']\n"
     ]
    }
   ],
   "source": [
    "# list로 변환 시 list() 입력\n",
    "interest = ('삼성전자', 'LG전자', 'SK Hynix')\n",
    "print(list(interest))"
   ]
  },
  {
   "cell_type": "code",
   "execution_count": 57,
   "id": "bb4d7daf",
   "metadata": {},
   "outputs": [
    {
     "name": "stdout",
     "output_type": "stream",
     "text": [
      "('삼성전자', 'LG전자', 'SK Hynix')\n"
     ]
    }
   ],
   "source": [
    "interest = ['삼성전자', 'LG전자', 'SK Hynix']\n",
    "print(tuple(interest))"
   ]
  },
  {
   "cell_type": "code",
   "execution_count": 58,
   "id": "170da6c7",
   "metadata": {},
   "outputs": [
    {
     "name": "stdout",
     "output_type": "stream",
     "text": [
      "apple banana cake\n"
     ]
    }
   ],
   "source": [
    "#튜플을 언팩킹하기 위해 또다른 변수명으로 튜플을 지정 \n",
    "temp = ('apple', 'banana', 'cake')\n",
    "a, b, c = temp\n",
    "print(a, b, c)"
   ]
  },
  {
   "cell_type": "code",
   "execution_count": 63,
   "id": "39f8d077",
   "metadata": {},
   "outputs": [
    {
     "name": "stdout",
     "output_type": "stream",
     "text": [
      "(2, 4, 6, 8, 10, 12, 14, 16, 18, 20, 22, 24, 26, 28, 30, 32, 34, 36, 38, 40, 42, 44, 46, 48, 50, 52, 54, 56, 58, 60, 62, 64, 66, 68, 70, 72, 74, 76, 78, 80, 82, 84, 86, 88, 90, 92, 94, 96, 98)\n"
     ]
    }
   ],
   "source": [
    "# 범위함수 range 활용\n",
    "t = tuple(range(2,100,2))\n",
    "print(t)"
   ]
  },
  {
   "cell_type": "code",
   "execution_count": 66,
   "id": "2da99921",
   "metadata": {},
   "outputs": [
    {
     "name": "stdout",
     "output_type": "stream",
     "text": [
      "(1, 3, 5, 7, 9, 11, 13, 15, 17, 19, 21, 23, 25, 27, 29, 31, 33, 35, 37, 39, 41, 43, 45, 47, 49)\n"
     ]
    }
   ],
   "source": [
    "t = tuple(range(1,50,2))\n",
    "print(t)"
   ]
  },
  {
   "cell_type": "markdown",
   "id": "e028b9c6",
   "metadata": {},
   "source": [
    "# 파이썬 딕셔너리"
   ]
  },
  {
   "cell_type": "code",
   "execution_count": 9,
   "id": "7253d520",
   "metadata": {},
   "outputs": [
    {
     "name": "stdout",
     "output_type": "stream",
     "text": [
      "[8.8, 8.9, 8.7, 9.2, 9.3, 9.7, 9.9, 9.5]\n"
     ]
    }
   ],
   "source": [
    "#star expression을 사용하면 변수의 개수가 달라도 데이터 언패킹을 할 수 있음 > 좌측 8개의 값\n",
    "scores = [8.8, 8.9, 8.7, 9.2, 9.3, 9.7, 9.9, 9.5, 7.8, 9.4]\n",
    "*valid_score,_,_= scores\n",
    "print(valid_score)"
   ]
  },
  {
   "cell_type": "code",
   "execution_count": 13,
   "id": "3fcbe4d2",
   "metadata": {},
   "outputs": [
    {
     "name": "stdout",
     "output_type": "stream",
     "text": [
      "[8.7, 9.2, 9.3, 9.7, 9.9, 9.5, 7.8, 9.4]\n"
     ]
    }
   ],
   "source": [
    "#우측 8개의 값\n",
    "a,b,*valid_score= scores\n",
    "print(valid_score)"
   ]
  },
  {
   "cell_type": "code",
   "execution_count": 16,
   "id": "2832c02b",
   "metadata": {},
   "outputs": [
    {
     "name": "stdout",
     "output_type": "stream",
     "text": [
      "[8.9, 8.7, 9.2, 9.3, 9.7, 9.9, 9.5, 7.8]\n"
     ]
    }
   ],
   "source": [
    "#가운데 8개의 값\n",
    "_,*valid_score,_= scores\n",
    "print(valid_score)"
   ]
  },
  {
   "cell_type": "code",
   "execution_count": 17,
   "id": "2ecad270",
   "metadata": {},
   "outputs": [
    {
     "name": "stdout",
     "output_type": "stream",
     "text": [
      "{}\n"
     ]
    }
   ],
   "source": [
    "#빈 딕셔너리\n",
    "temp = {}\n",
    "print(temp)"
   ]
  },
  {
   "cell_type": "code",
   "execution_count": 23,
   "id": "da153fc2",
   "metadata": {},
   "outputs": [
    {
     "name": "stdout",
     "output_type": "stream",
     "text": [
      "{'메로나': 1000, '폴라포': 1200, '빵빠레': 1800}\n"
     ]
    }
   ],
   "source": [
    "a = {'메로나': 1000, '폴라포': 1200, '빵빠레': 1800}\n",
    "print(a)"
   ]
  },
  {
   "cell_type": "code",
   "execution_count": 24,
   "id": "71f2e8ee",
   "metadata": {},
   "outputs": [
    {
     "name": "stdout",
     "output_type": "stream",
     "text": [
      "{'메로나': 1000, '폴라포': 1200, '빵빠레': 1800, '죠스바': 1200, '월드콘': 1500}\n"
     ]
    }
   ],
   "source": [
    "#딕셔너리 요소 추가 \n",
    "a['죠스바']=1200\n",
    "a['월드콘']=1500\n",
    "print(a)"
   ]
  },
  {
   "cell_type": "code",
   "execution_count": 30,
   "id": "834ac925",
   "metadata": {},
   "outputs": [
    {
     "name": "stdout",
     "output_type": "stream",
     "text": [
      "메로나 가격: 1000\n"
     ]
    }
   ],
   "source": [
    "# 어떤 Key의 Value를 얻기 위해서 '딕셔너리변수명[Key]'를 사용\n",
    "ice = {'메로나': 1000,\n",
    "       '폴로포': 1200,\n",
    "       '빵빠레': 1800,\n",
    "       '죠스바': 1200,\n",
    "       '월드콘': 1500}\n",
    "print('메로나 가격:',ice['메로나'])"
   ]
  },
  {
   "cell_type": "code",
   "execution_count": 31,
   "id": "a8a2f1c2",
   "metadata": {},
   "outputs": [
    {
     "name": "stdout",
     "output_type": "stream",
     "text": [
      "{'메로나': 1300, '폴로포': 1200, '빵빠레': 1800, '죠스바': 1200, '월드콘': 1500}\n"
     ]
    }
   ],
   "source": [
    "#요소 수정\n",
    "ice = {'메로나': 1000,\n",
    "       '폴로포': 1200,\n",
    "       '빵빠레': 1800,\n",
    "       '죠스바': 1200,\n",
    "       '월드콘': 1500}\n",
    "ice['메로나'] = 1300\n",
    "print(ice)"
   ]
  },
  {
   "cell_type": "code",
   "execution_count": 32,
   "id": "fdc44961",
   "metadata": {},
   "outputs": [
    {
     "name": "stdout",
     "output_type": "stream",
     "text": [
      "{'폴로포': 1200, '빵빠레': 1800, '죠스바': 1200, '월드콘': 1500}\n"
     ]
    }
   ],
   "source": [
    "#요소 삭제 del a[key] 입력\n",
    "del ice['메로나']\n",
    "print(ice)"
   ]
  },
  {
   "cell_type": "code",
   "execution_count": 33,
   "id": "37ed4b5b",
   "metadata": {},
   "outputs": [
    {
     "ename": "KeyError",
     "evalue": "'누가바'",
     "output_type": "error",
     "traceback": [
      "\u001b[1;31m---------------------------------------------------------------------------\u001b[0m",
      "\u001b[1;31mKeyError\u001b[0m                                  Traceback (most recent call last)",
      "Cell \u001b[1;32mIn[33], line 2\u001b[0m\n\u001b[0;32m      1\u001b[0m icecream \u001b[38;5;241m=\u001b[39m {\u001b[38;5;124m'\u001b[39m\u001b[38;5;124m폴라포\u001b[39m\u001b[38;5;124m'\u001b[39m: \u001b[38;5;241m1200\u001b[39m, \u001b[38;5;124m'\u001b[39m\u001b[38;5;124m빵빠레\u001b[39m\u001b[38;5;124m'\u001b[39m: \u001b[38;5;241m1800\u001b[39m, \u001b[38;5;124m'\u001b[39m\u001b[38;5;124m월드콘\u001b[39m\u001b[38;5;124m'\u001b[39m: \u001b[38;5;241m1500\u001b[39m, \u001b[38;5;124m'\u001b[39m\u001b[38;5;124m메로나\u001b[39m\u001b[38;5;124m'\u001b[39m: \u001b[38;5;241m1000\u001b[39m}\n\u001b[1;32m----> 2\u001b[0m icecream[\u001b[38;5;124m'\u001b[39m\u001b[38;5;124m누가바\u001b[39m\u001b[38;5;124m'\u001b[39m]\n",
      "\u001b[1;31mKeyError\u001b[0m: '누가바'"
     ]
    }
   ],
   "source": [
    "# 딕셔너리에 매칭되는 key 가 없는 경우 에러\n",
    "icecream = {'폴라포': 1200, '빵빠레': 1800, '월드콘': 1500, '메로나': 1000}\n",
    "icecream['누가바']"
   ]
  },
  {
   "cell_type": "code",
   "execution_count": 38,
   "id": "83ff9233",
   "metadata": {},
   "outputs": [
    {
     "name": "stdout",
     "output_type": "stream",
     "text": [
      "{'메로나': [300, 20], '비비빅': [400, 3], '죠스바': [250, 100]} <class 'dict'>\n"
     ]
    }
   ],
   "source": [
    "# value에는 변하는 값(list)이든, 변하지 않는 값(tuple)이든 모두 넣을 수 있음\n",
    "inventory = {'메로나': [300,20],    \n",
    "             '비비빅': [400,3],    \n",
    "             '죠스바': [250,100]}\n",
    "print(inventory, type(inventory))"
   ]
  },
  {
   "cell_type": "code",
   "execution_count": 41,
   "id": "3cceeb0c",
   "metadata": {},
   "outputs": [
    {
     "name": "stdout",
     "output_type": "stream",
     "text": [
      "300 원\n"
     ]
    }
   ],
   "source": [
    "#리스트 위치 지정 출력\n",
    "print(inventory['메로나'][0],'원')"
   ]
  },
  {
   "cell_type": "code",
   "execution_count": 42,
   "id": "9f1417ae",
   "metadata": {},
   "outputs": [
    {
     "name": "stdout",
     "output_type": "stream",
     "text": [
      "20 개\n"
     ]
    }
   ],
   "source": [
    "#리스트 위치 지정 출력\n",
    "print(inventory['메로나'][1],'개')"
   ]
  },
  {
   "cell_type": "code",
   "execution_count": 43,
   "id": "127c0f6f",
   "metadata": {},
   "outputs": [
    {
     "name": "stdout",
     "output_type": "stream",
     "text": [
      "{'메로나': [300, 20], '비비빅': [400, 3], '죠스바': [250, 100], '월드콘': [500, 7]}\n"
     ]
    }
   ],
   "source": [
    "#딕셔너리 요소 추가 \n",
    "inventory['월드콘']=[500,7]\n",
    "print(inventory)"
   ]
  },
  {
   "cell_type": "code",
   "execution_count": 46,
   "id": "4334e0fd",
   "metadata": {},
   "outputs": [
    {
     "name": "stdout",
     "output_type": "stream",
     "text": [
      "['탱크보이', '폴라포', '빵빠레', '월드콘', '메로나']\n"
     ]
    }
   ],
   "source": [
    "#key 값으로만 구성된 리스트를 생성 > list(변수.keys())\n",
    "icecream = {'탱크보이': 1200, '폴라포': 1200, '빵빠레': 1800, '월드콘': 1500, '메로나': 1000}\n",
    "print(list(icecream.keys()))"
   ]
  },
  {
   "cell_type": "code",
   "execution_count": 47,
   "id": "b7ea3796",
   "metadata": {},
   "outputs": [
    {
     "name": "stdout",
     "output_type": "stream",
     "text": [
      "[1200, 1200, 1800, 1500, 1000]\n"
     ]
    }
   ],
   "source": [
    "#value 값으로만 구성된 리스트를 생성 > list(변수.values())\n",
    "print(list(icecream.values()))"
   ]
  },
  {
   "cell_type": "code",
   "execution_count": 48,
   "id": "6c35cd52",
   "metadata": {},
   "outputs": [
    {
     "name": "stdout",
     "output_type": "stream",
     "text": [
      "6700\n"
     ]
    }
   ],
   "source": [
    "#value들의 총합\n",
    "print(sum(icecream.values()))"
   ]
  },
  {
   "cell_type": "code",
   "execution_count": 54,
   "id": "2430432e",
   "metadata": {},
   "outputs": [
    {
     "name": "stdout",
     "output_type": "stream",
     "text": [
      "{'탱크보이': 1200, '폴라포': 1200, '빵빠레': 1800, '월드콘': 1500, '메로나': 1000, '팥빙수': 2700, '아맛나': 1000}\n"
     ]
    }
   ],
   "source": [
    "#여러 개의 값을 한꺼번에 추가(update)\n",
    "icecream = {'탱크보이': 1200, '폴라포': 1200, '빵빠레': 1800, '월드콘': 1500, '메로나': 1000}\n",
    "new_product = {'팥빙수':2700, '아맛나':1000}\n",
    "icecream.update(new_product)\n",
    "print(icecream)"
   ]
  },
  {
   "cell_type": "code",
   "execution_count": 53,
   "id": "55ca0b05",
   "metadata": {},
   "outputs": [
    {
     "name": "stdout",
     "output_type": "stream",
     "text": [
      "{'탱크보이': 1200, '폴라포': 1200, '빵빠레': 1800, '월드콘': 1500, '메로나': 1000, '팥빙수': 2700, '아맛나': 1000}\n"
     ]
    }
   ],
   "source": [
    "#여러 개의 값을 한꺼번에 추가(합집합 '|’사용)\n",
    "print(icecream|new_product)"
   ]
  },
  {
   "cell_type": "code",
   "execution_count": 66,
   "id": "28bfabca",
   "metadata": {},
   "outputs": [
    {
     "name": "stdout",
     "output_type": "stream",
     "text": [
      "{'apple': 300, 'pear': 250, 'peach': 400}\n"
     ]
    }
   ],
   "source": [
    "#dict(zip(a,b)) 를 통해 2개의 튜플을 하나의 딕셔너리로 변환\n",
    "keys = (\"apple\", \"pear\", \"peach\")\n",
    "vals = (300, 250, 400)\n",
    "result = dict(zip(keys,vals))\n",
    "print(result)"
   ]
  },
  {
   "cell_type": "code",
   "execution_count": 73,
   "id": "5969fa19",
   "metadata": {},
   "outputs": [
    {
     "name": "stdout",
     "output_type": "stream",
     "text": [
      "{'09/05': 10500, '09/06': 10300, '09/07': 10100, '09/08': 10800, '09/09': 11000}\n"
     ]
    }
   ],
   "source": [
    "date = ['09/05', '09/06', '09/07', '09/08', '09/09']\n",
    "close_price = [10500, 10300, 10100, 10800, 11000]\n",
    "close_table = dict(zip(date,close_price))\n",
    "print(close_table)"
   ]
  },
  {
   "cell_type": "markdown",
   "id": "f526ffec",
   "metadata": {},
   "source": [
    "**★101~200번 문제**"
   ]
  },
  {
   "cell_type": "markdown",
   "id": "eb5ccbbe",
   "metadata": {},
   "source": [
    "# if라는 키워드를 통해 분기문 만들기"
   ]
  },
  {
   "cell_type": "code",
   "execution_count": 27,
   "id": "f0384159",
   "metadata": {},
   "outputs": [
    {
     "data": {
      "text/plain": [
       "bool"
      ]
     },
     "execution_count": 27,
     "metadata": {},
     "output_type": "execute_result"
    }
   ],
   "source": [
    "# 참과 거짓을 나타내는 자료형 타입 bool\n",
    "bool"
   ]
  },
  {
   "cell_type": "code",
   "execution_count": 4,
   "id": "1110fd3d",
   "metadata": {},
   "outputs": [
    {
     "name": "stdout",
     "output_type": "stream",
     "text": [
      "False\n"
     ]
    }
   ],
   "source": [
    "print(3 == 5)"
   ]
  },
  {
   "cell_type": "code",
   "execution_count": 5,
   "id": "efe56cde",
   "metadata": {},
   "outputs": [
    {
     "name": "stdout",
     "output_type": "stream",
     "text": [
      "True\n"
     ]
    }
   ],
   "source": [
    "print(3 < 5)"
   ]
  },
  {
   "cell_type": "code",
   "execution_count": 6,
   "id": "985a38f7",
   "metadata": {},
   "outputs": [
    {
     "name": "stdout",
     "output_type": "stream",
     "text": [
      "True\n"
     ]
    }
   ],
   "source": [
    "x = 4\n",
    "print(1 < x < 5)"
   ]
  },
  {
   "cell_type": "code",
   "execution_count": 19,
   "id": "b20dded9",
   "metadata": {},
   "outputs": [
    {
     "name": "stdout",
     "output_type": "stream",
     "text": [
      "True\n"
     ]
    }
   ],
   "source": [
    "# 3 은 3과 같고, 4는 3과 같지 않다. \n",
    "print ((3 == 3) and (4 != 3))"
   ]
  },
  {
   "cell_type": "code",
   "execution_count": 23,
   "id": "2a5b19cd",
   "metadata": {},
   "outputs": [
    {
     "name": "stdout",
     "output_type": "stream",
     "text": [
      "False\n"
     ]
    }
   ],
   "source": [
    "# => 가 아닌 >= 로 부등호를 표현할것\n",
    "print(3 >= 4)"
   ]
  },
  {
   "cell_type": "code",
   "execution_count": 25,
   "id": "a96ebe43",
   "metadata": {},
   "outputs": [],
   "source": [
    "#조건을 만족하지 않아 아무 결과도 출력되지 않음\n",
    "if 4 < 3:\n",
    "    print(\"Hello World\")"
   ]
  },
  {
   "cell_type": "code",
   "execution_count": 28,
   "id": "89a9ce2f",
   "metadata": {},
   "outputs": [
    {
     "name": "stdout",
     "output_type": "stream",
     "text": [
      "Hi, there.\n"
     ]
    }
   ],
   "source": [
    "if 4 < 3:\n",
    "    print(\"Hello World.\")\n",
    "else:\n",
    "    print(\"Hi, there.\")"
   ]
  },
  {
   "cell_type": "code",
   "execution_count": 32,
   "id": "2e99c861",
   "metadata": {},
   "outputs": [
    {
     "name": "stdout",
     "output_type": "stream",
     "text": [
      "1\n",
      "2\n",
      "4\n"
     ]
    }
   ],
   "source": [
    "#조건문이 true 이므로 항상 참이 되어 출력 + 조건에 상관없이 4도 출력\n",
    "if True :\n",
    "    print (\"1\")\n",
    "    print (\"2\")\n",
    "else :\n",
    "    print(\"3\")\n",
    "print(\"4\")"
   ]
  },
  {
   "cell_type": "code",
   "execution_count": 33,
   "id": "fef64fb0",
   "metadata": {},
   "outputs": [
    {
     "name": "stdout",
     "output_type": "stream",
     "text": [
      "3\n",
      "5\n"
     ]
    }
   ],
   "source": [
    "# 참 조건문 내 거짓 결과는 총 3개 (1,2,4) 제외하고 출력\n",
    "if True :\n",
    "    if False:\n",
    "        print(\"1\")\n",
    "        print(\"2\")\n",
    "    else:\n",
    "        print(\"3\")\n",
    "else :\n",
    "    print(\"4\")\n",
    "print(\"5\")"
   ]
  },
  {
   "cell_type": "code",
   "execution_count": 42,
   "id": "4d2621a5",
   "metadata": {},
   "outputs": [
    {
     "name": "stdout",
     "output_type": "stream",
     "text": [
      "안녕하세요안녕하세요\n"
     ]
    }
   ],
   "source": [
    "#오답...;;; 즈려밟고 지나가세용 ^^ >>>> \n",
    "안녕하세요 = True\n",
    "if 안녕하세요:\n",
    "    print('안녕하세요'*2)"
   ]
  },
  {
   "cell_type": "code",
   "execution_count": 43,
   "id": "c4e7e589",
   "metadata": {},
   "outputs": [
    {
     "name": "stdout",
     "output_type": "stream",
     "text": [
      "입력:와썹!!!\n",
      "와썹!!!와썹!!!\n"
     ]
    }
   ],
   "source": [
    "#사용자로부터 입력받은 문자열을 두 번 출력하라.\n",
    "user = input(\"입력:\")\n",
    "print(user * 2)"
   ]
  },
  {
   "cell_type": "code",
   "execution_count": 46,
   "id": "56494efe",
   "metadata": {},
   "outputs": [
    {
     "name": "stdout",
     "output_type": "stream",
     "text": [
      "숫자를 입력하세요:30\n",
      "40\n"
     ]
    }
   ],
   "source": [
    "#사용자의 숫자 입력을 받아들일 때 int(input())\n",
    "user = int(input(\"숫자를 입력하세요:\"))\n",
    "print(user + 10)"
   ]
  },
  {
   "cell_type": "code",
   "execution_count": 49,
   "id": "ebd6490d",
   "metadata": {},
   "outputs": [
    {
     "name": "stdout",
     "output_type": "stream",
     "text": [
      "짝수일까요? 홀수일까요?:25\n",
      "홀수입니다!홀롤롤롤로!\n"
     ]
    }
   ],
   "source": [
    "user = int(input(\"짝수일까요? 홀수일까요?:\"))\n",
    "if user % 2 == 0:\n",
    "    print('짝수입니다!짝짝!')\n",
    "else:\n",
    "    print('홀수입니다!홀롤롤롤로!')"
   ]
  },
  {
   "cell_type": "code",
   "execution_count": 53,
   "id": "f211db97",
   "metadata": {},
   "outputs": [
    {
     "name": "stdout",
     "output_type": "stream",
     "text": [
      "200\n",
      "220\n"
     ]
    }
   ],
   "source": [
    "# user+20 변수지정을 num으로 해주는 게 깔끔했을 듯\n",
    "user = int(input('입력값:'))\n",
    "if user + 20 <= 255:\n",
    "    print(user + 20)\n",
    "else : \n",
    "    print(255)"
   ]
  },
  {
   "cell_type": "code",
   "execution_count": 56,
   "id": "31b85011",
   "metadata": {},
   "outputs": [
    {
     "name": "stdout",
     "output_type": "stream",
     "text": [
      "입력값:280\n",
      "255\n"
     ]
    }
   ],
   "source": [
    "#조건이 3개 이상일 땐 웬만하면 elif 사용\n",
    "user = int(input('입력값:'))\n",
    "num = user - 20\n",
    "if num < 0:\n",
    "    print(0)\n",
    "elif num > 255:\n",
    "    print(255)\n",
    "else:\n",
    "    print(num)"
   ]
  },
  {
   "cell_type": "code",
   "execution_count": 63,
   "id": "a1e4df50",
   "metadata": {},
   "outputs": [
    {
     "name": "stdout",
     "output_type": "stream",
     "text": [
      "현재시간: 11:30\n",
      "정각이 아닙니다.\n"
     ]
    }
   ],
   "source": [
    "#사용자로부터 입력 받은 시간이 정각인지 판별\n",
    "# user[3:] 보다는 user[-2:]가 더 나을듯\n",
    "user = input('현재시간: ')\n",
    "if user[3:] == '00':\n",
    "    print('정각입니다.')\n",
    "else:\n",
    "    print('정각이 아닙니다.')"
   ]
  },
  {
   "cell_type": "code",
   "execution_count": 62,
   "id": "6cb19ee4",
   "metadata": {},
   "outputs": [
    {
     "name": "stdout",
     "output_type": "stream",
     "text": [
      "좋아하는 과일은?: 감귤\n",
      "오답입니다.\n"
     ]
    }
   ],
   "source": [
    "fruit = [\"사과\", \"포도\", \"홍시\"]\n",
    "user = input('좋아하는 과일은?: ')\n",
    "if user in fruit:\n",
    "    print('정답입니다.')\n",
    "else:\n",
    "    print('오답입니다.')"
   ]
  },
  {
   "cell_type": "code",
   "execution_count": 66,
   "id": "ce39f890",
   "metadata": {},
   "outputs": [
    {
     "name": "stdout",
     "output_type": "stream",
     "text": [
      "종목명: Google\n",
      "투자 경고 종목입니다.\n"
     ]
    }
   ],
   "source": [
    "warn_investment_list = [\"Microsoft\", \"Google\", \"Naver\", \"Kakao\", \"SAMSUNG\", \"LG\"]\n",
    "user = input('종목명: ')\n",
    "if user in warn_investment_list:\n",
    "    print('투자 경고 종목입니다.')\n",
    "else:\n",
    "    print('투자 경고 종목이 아닙니다.')"
   ]
  },
  {
   "cell_type": "code",
   "execution_count": 81,
   "id": "4dbde65f",
   "metadata": {},
   "outputs": [
    {
     "name": "stdout",
     "output_type": "stream",
     "text": [
      "제가 좋아하는 계절은?: 가을\n",
      "정답입니다\n"
     ]
    }
   ],
   "source": [
    "# 딕셔너리 키 일치\n",
    "fruit = {\"봄\" : \"딸기\", \"여름\" : \"토마토\", \"가을\" : \"사과\"}\n",
    "user = input('제가 좋아하는 계절은?: ')\n",
    "if user in fruit:\n",
    "    print('정답입니다')\n",
    "else:\n",
    "    print('오답입니다')"
   ]
  },
  {
   "cell_type": "code",
   "execution_count": 82,
   "id": "d3646786",
   "metadata": {},
   "outputs": [
    {
     "name": "stdout",
     "output_type": "stream",
     "text": [
      "제가 좋아하는 과일은?: 사과\n",
      "정답입니다\n"
     ]
    }
   ],
   "source": [
    "# 딕셔너리 값 일치 \n",
    "fruit = {\"봄\" : \"딸기\", \"여름\" : \"토마토\", \"가을\" : \"사과\"}\n",
    "user = input('제가 좋아하는 과일은?: ')\n",
    "if user in fruit.values():\n",
    "    print('정답입니다')\n",
    "else:\n",
    "    print('오답입니다')"
   ]
  },
  {
   "cell_type": "code",
   "execution_count": 77,
   "id": "36c79fe5",
   "metadata": {},
   "outputs": [
    {
     "name": "stdout",
     "output_type": "stream",
     "text": [
      "google\n",
      "GOOGLE\n"
     ]
    }
   ],
   "source": [
    "# 힌트 : islower() 함수는 문자의 소문자 여부를 판별합니다.\n",
    "user = input('')\n",
    "if user.islower() == True :\n",
    "    print(user.upper())\n",
    "else:\n",
    "    print(user.lower())"
   ]
  },
  {
   "cell_type": "code",
   "execution_count": 85,
   "id": "18b0bbc6",
   "metadata": {},
   "outputs": [
    {
     "name": "stdout",
     "output_type": "stream",
     "text": [
      "score:45\n",
      "grade is C\n"
     ]
    }
   ],
   "source": [
    "user = int(input('score:'))\n",
    "if 80<user<=100:\n",
    "    print('grade is A')\n",
    "elif 60<user<=80:\n",
    "    print('grade is B')\n",
    "elif 40<user<=60:\n",
    "    print('grade is C')\n",
    "elif 20<user<=40:\n",
    "    print('grade is D')\n",
    "else:\n",
    "    print('grade is E')"
   ]
  },
  {
   "cell_type": "code",
   "execution_count": 89,
   "id": "0c404e29",
   "metadata": {},
   "outputs": [
    {
     "name": "stdout",
     "output_type": "stream",
     "text": [
      "입력: 100 달러\n"
     ]
    },
    {
     "ename": "ValueError",
     "evalue": "invalid literal for int() with base 10: '100 달러'",
     "output_type": "error",
     "traceback": [
      "\u001b[1;31m---------------------------------------------------------------------------\u001b[0m",
      "\u001b[1;31mValueError\u001b[0m                                Traceback (most recent call last)",
      "Cell \u001b[1;32mIn[89], line 11\u001b[0m\n\u001b[0;32m      9\u001b[0m     \u001b[38;5;28mprint\u001b[39m(\u001b[38;5;28mint\u001b[39m(user)\u001b[38;5;241m*\u001b[39m\u001b[38;5;241m1268\u001b[39m,\u001b[38;5;124m'\u001b[39m\u001b[38;5;124m원\u001b[39m\u001b[38;5;124m'\u001b[39m)\n\u001b[0;32m     10\u001b[0m \u001b[38;5;28;01melse\u001b[39;00m:\n\u001b[1;32m---> 11\u001b[0m     \u001b[38;5;28mprint\u001b[39m(\u001b[38;5;28mint\u001b[39m(user)\u001b[38;5;241m*\u001b[39m\u001b[38;5;241m171\u001b[39m,\u001b[38;5;124m'\u001b[39m\u001b[38;5;124m원\u001b[39m\u001b[38;5;124m'\u001b[39m)\n",
      "\u001b[1;31mValueError\u001b[0m: invalid literal for int() with base 10: '100 달러'"
     ]
    }
   ],
   "source": [
    "#오답 \n",
    "환율 = {\"달러\": 1167, \"엔\": 1.096, \"유로\": 1268, \"위안\": 171}\n",
    "user = input('입력: ')\n",
    "if user == 환율['달러']: \n",
    "    print(int(user)*1167,'원')\n",
    "elif user == 환율['엔']: \n",
    "    print(int(user)*1.096,'원')\n",
    "elif user == 환율['유로']: \n",
    "    print(int(user)*1268,'원')\n",
    "else:\n",
    "    print(int(user)*171,'원')"
   ]
  },
  {
   "cell_type": "code",
   "execution_count": 93,
   "id": "b25cf3df",
   "metadata": {},
   "outputs": [
    {
     "name": "stdout",
     "output_type": "stream",
     "text": [
      "입력: 200 엔\n",
      "219.20000000000002 원\n"
     ]
    }
   ],
   "source": [
    "환율 = {\"달러\": 1167, \"엔\": 1.096, \"유로\": 1268, \"위안\": 171}\n",
    "user = input('입력: ')\n",
    "num, currency = user.split() #앞 숫자를 num, '달러'등 문구를 환율로 지정하여 split\n",
    "print(float(num) * 환율[currency], '원')"
   ]
  },
  {
   "cell_type": "code",
   "execution_count": 100,
   "id": "03c04a17",
   "metadata": {},
   "outputs": [
    {
     "name": "stdout",
     "output_type": "stream",
     "text": [
      "input number1: 31\n",
      "input number2: 31\n",
      "input number3: 20\n",
      "31\n"
     ]
    }
   ],
   "source": [
    "# 3개의 숫자를 입력하여 가장 큰 값 출력\n",
    "num1 = int(input(\"input number1: \"))\n",
    "num2 = int(input(\"input number2: \"))\n",
    "num3 = int(input(\"input number3: \"))\n",
    "\n",
    "if num1 >= num2 and num1 >= num3:\n",
    "    print(num1)\n",
    "elif num2>= num1 and num2 >= num3:\n",
    "    print(num2)\n",
    "else:\n",
    "    print(num3)"
   ]
  },
  {
   "cell_type": "code",
   "execution_count": 103,
   "id": "17c383b3",
   "metadata": {},
   "outputs": [
    {
     "name": "stdout",
     "output_type": "stream",
     "text": [
      "휴대전화 번호 입력:016-352-244\n",
      "당신은 KT 사용자입니다.\n"
     ]
    }
   ],
   "source": [
    "user = input('휴대전화 번호 입력:')\n",
    "tel = user.split('-')[0]\n",
    "if tel == '011':\n",
    "    print('당신은 SKT 사용자입니다.')\n",
    "elif tel == '016':\n",
    "    print('당신은 KT 사용자입니다.')\n",
    "elif tel == '019':\n",
    "    print('당신은 LGU 사용자입니다.') \n",
    "else:\n",
    "    print('알 수 없음')"
   ]
  },
  {
   "cell_type": "code",
   "execution_count": 106,
   "id": "142c0f28",
   "metadata": {},
   "outputs": [
    {
     "name": "stdout",
     "output_type": "stream",
     "text": [
      "휴대전화 번호 입력:010-3555-2545\n",
      "당신은 알 수 없는 사용자입니다.\n"
     ]
    }
   ],
   "source": [
    "#f 문자열로 깔끔하게 수정하기 \n",
    "user = input('휴대전화 번호 입력:')\n",
    "tel = user.split('-')[0]\n",
    "if tel == '011':\n",
    "   com = 'SKT'\n",
    "elif tel == '016':\n",
    "   com = 'KT'\n",
    "elif tel == '019':\n",
    "   com = 'LGU'\n",
    "else:\n",
    "   com = '알 수 없는'\n",
    "print(f'당신은 {com} 사용자입니다.')"
   ]
  },
  {
   "cell_type": "code",
   "execution_count": 122,
   "id": "d19f9e72",
   "metadata": {},
   "outputs": [
    {
     "name": "stdout",
     "output_type": "stream",
     "text": [
      "우편번호:01920\n",
      "노원구\n"
     ]
    }
   ],
   "source": [
    "#기존 오류 : user = int(input('우편번호')) / gu = user[2]\n",
    "#변수의 타입이 숫자형이면 인덱스 사용이 불가능 > \n",
    "#인덱스 사용이 가능하게 user 변수의 타입을 string으로 유지시키고 int를 gu에서 실행하는 것이 합리적 \n",
    "#list보다는 string 타입이 특정 음절을 떼어내기에 적절함\n",
    "user = input('우편번호:')\n",
    "gu = int(user[2])\n",
    "if gu>= 0 and gu<=2:\n",
    "    print('강북구')\n",
    "elif gu>=3 and gu<=5:\n",
    "    print('도봉구')\n",
    "else:\n",
    "    print('노원구')"
   ]
  },
  {
   "cell_type": "code",
   "execution_count": 120,
   "id": "e3fdb094",
   "metadata": {},
   "outputs": [
    {
     "name": "stdout",
     "output_type": "stream",
     "text": [
      "우편번호: 01625\n",
      "도봉구\n"
     ]
    }
   ],
   "source": [
    "우편번호 = input(\"우편번호: \")\n",
    "우편번호 = 우편번호[:3]\n",
    "if 우편번호 in [\"010\", \"011\", \"012\"]:\n",
    "    print(\"강북구\")\n",
    "elif 우편번호 in [\"014\", \"015\", \"016\"]:\n",
    "    print(\"도봉구\")\n",
    "else:\n",
    "    print(\"노원구\")"
   ]
  },
  {
   "cell_type": "code",
   "execution_count": 134,
   "id": "10b56539",
   "metadata": {},
   "outputs": [
    {
     "name": "stdout",
     "output_type": "stream",
     "text": [
      "주민등록번호: 991220-3198521\n",
      "남자\n"
     ]
    }
   ],
   "source": [
    "# gender == 1 or 3 이 아닌 gender ==1 or gender ==3 으로 따로 지정해줘야 함\n",
    "user = input(\"주민등록번호: \")\n",
    "gender = int(user.split('-')[1][0])\n",
    "if gender == 1 or gender == 3:\n",
    "    print('남자')\n",
    "elif gender == 2 or gender == 4:\n",
    "    print('여자')\n",
    "else:\n",
    "    print('유효한 성별이 아닙니다.')"
   ]
  },
  {
   "cell_type": "code",
   "execution_count": 147,
   "id": "e41143ee",
   "metadata": {},
   "outputs": [
    {
     "name": "stdout",
     "output_type": "stream",
     "text": [
      "주민등록번호: 991220-3098521\n",
      "서울이 아닙니다\n"
     ]
    }
   ],
   "source": [
    "user = input(\"주민등록번호: \")\n",
    "adr = user.split('-')[1][1:3]\n",
    "if 0<=int(adr)<=8:\n",
    "    print('서울입니다')\n",
    "else: \n",
    "    print('서울이 아닙니다')"
   ]
  },
  {
   "cell_type": "code",
   "execution_count": 143,
   "id": "09060b8f",
   "metadata": {},
   "outputs": [
    {
     "name": "stdout",
     "output_type": "stream",
     "text": [
      "주민등록번호: 991220-3088521\n",
      "서울입니다\n"
     ]
    }
   ],
   "source": [
    "user = input(\"주민등록번호: \")\n",
    "adr = user.split('-')[1][1:3]\n",
    "if adr in ['00','01','02','03','04','05','06','07','08']:\n",
    "    print('서울입니다')\n",
    "else: \n",
    "    print('서울이 아닙니다')"
   ]
  },
  {
   "cell_type": "code",
   "execution_count": 33,
   "id": "af9b3f76",
   "metadata": {},
   "outputs": [
    {
     "name": "stdout",
     "output_type": "stream",
     "text": [
      "주민등록번호: 680901-2468721\n",
      "유효하지 않은 주민등록번호입니다.\n"
     ]
    }
   ],
   "source": [
    "#129번 답안 참고\n",
    "num = input(\"주민등록번호: \")\n",
    "sum_id = int(num[0])*2 + int(num[1])*3 + int(num[2])*4 + int(num[3])*5 + int(num[4])*6 + int(num[5])*7 + int(num[7])*8 + int(num[8])*9 + int(num[9])*2 + int(num[10])*3 +int(num[11])*4 + int(num[12])*5 \n",
    "result = 11 - (sum_id%11)\n",
    "\n",
    "if num[-1] == str(result): #num[-1]은 문자열 번호이기 때문에 결과값의 타입을 맞춰줌\n",
    "    print('유효한 주민등록번호입니다.')\n",
    "else:\n",
    "    print('유효하지 않은 주민등록번호입니다.')"
   ]
  },
  {
   "cell_type": "code",
   "execution_count": 43,
   "id": "5e5a6ff1",
   "metadata": {},
   "outputs": [
    {
     "name": "stdout",
     "output_type": "stream",
     "text": [
      "주민등록번호: 931011-2178211\n"
     ]
    },
    {
     "ename": "TypeError",
     "evalue": "'int' object is not iterable",
     "output_type": "error",
     "traceback": [
      "\u001b[1;31m---------------------------------------------------------------------------\u001b[0m",
      "\u001b[1;31mTypeError\u001b[0m                                 Traceback (most recent call last)",
      "Cell \u001b[1;32mIn[43], line 4\u001b[0m\n\u001b[0;32m      2\u001b[0m     \u001b[38;5;66;03m#주민등록번호 12자리와 각 자리수별 가중치를 곱하여 더하기\u001b[39;00m\n\u001b[0;32m      3\u001b[0m \u001b[38;5;28;01mfor\u001b[39;00m i \u001b[38;5;129;01min\u001b[39;00m \u001b[38;5;28mrange\u001b[39m(\u001b[38;5;241m12\u001b[39m):\n\u001b[1;32m----> 4\u001b[0m     sum_id \u001b[38;5;241m=\u001b[39m \u001b[38;5;28msum\u001b[39m(\u001b[38;5;28mint\u001b[39m(user[i])\u001b[38;5;241m*\u001b[39m(i\u001b[38;5;241m+\u001b[39m\u001b[38;5;241m2\u001b[39m))\n\u001b[0;32m      5\u001b[0m result\u001b[38;5;241m=\u001b[39m\u001b[38;5;241m11\u001b[39m\u001b[38;5;241m-\u001b[39m(sum_id\u001b[38;5;241m%\u001b[39m\u001b[38;5;241m11\u001b[39m)\n\u001b[0;32m      6\u001b[0m \u001b[38;5;28;01mif\u001b[39;00m result \u001b[38;5;241m==\u001b[39m \u001b[38;5;28mint\u001b[39m(user[\u001b[38;5;241m-\u001b[39m\u001b[38;5;241m1\u001b[39m]):\n",
      "\u001b[1;31mTypeError\u001b[0m: 'int' object is not iterable"
     ]
    }
   ],
   "source": [
    "#129번 혼자 해보기\n",
    "user = input(\"주민등록번호: \")\n",
    "    #주민등록번호 12자리와 각 자리수별 가중치를 곱하여 더하기\n",
    "for i in range(12):\n",
    "    sum_id = sum(int(user[i])*(i+2))\n",
    "result=11-(sum_id%11)\n",
    "if result == int(user[-1]):\n",
    "    print('유효한 주민등록번호입니다')\n",
    "else:\n",
    "    print('유효하지 않은 주민등록번호입니다')"
   ]
  },
  {
   "cell_type": "code",
   "execution_count": 53,
   "id": "4685355e",
   "metadata": {},
   "outputs": [
    {
     "name": "stdout",
     "output_type": "stream",
     "text": [
      "상승장\n"
     ]
    }
   ],
   "source": [
    "#비트코인의 가격 정보를 딕셔너리로 가져오는 코드\n",
    "import requests\n",
    "btc = requests.get(\"https://api.bithumb.com/public/ticker/\").json()['data']\n",
    "\n",
    "변동폭 = float(btc['max_price'])-float(btc['min_price'])\n",
    "결과 = float(btc['opening_price']) + 변동폭\n",
    "\n",
    "if 결과  > float(btc['max_price']) : \n",
    "    print('상승장')\n",
    "else : \n",
    "    print('하락장')"
   ]
  },
  {
   "cell_type": "markdown",
   "id": "0fef9103",
   "metadata": {},
   "source": [
    "# 파이썬 반복문 (for, while)"
   ]
  },
  {
   "cell_type": "code",
   "execution_count": 54,
   "id": "a85f80a6",
   "metadata": {},
   "outputs": [
    {
     "name": "stdout",
     "output_type": "stream",
     "text": [
      "사과\n",
      "귤\n",
      "수박\n"
     ]
    }
   ],
   "source": [
    "과일 = [\"사과\", \"귤\", \"수박\"]\n",
    "for 변수 in 과일:\n",
    "    print(변수)\n",
    "# 사과 , 귤 , 수박 출력"
   ]
  },
  {
   "cell_type": "code",
   "execution_count": 55,
   "id": "7350abb2",
   "metadata": {},
   "outputs": [
    {
     "name": "stdout",
     "output_type": "stream",
     "text": [
      "#####\n",
      "#####\n",
      "#####\n"
     ]
    }
   ],
   "source": [
    "과일 = [\"사과\", \"귤\", \"수박\"]\n",
    "for 변수 in 과일:\n",
    "    print(\"#####\")\n",
    "#과일 리스트에 있는 각 항목에 대해 반복문 실행 > 항목당 ##### 출력 "
   ]
  },
  {
   "cell_type": "code",
   "execution_count": 60,
   "id": "07602f01",
   "metadata": {},
   "outputs": [
    {
     "name": "stdout",
     "output_type": "stream",
     "text": [
      "A\n",
      "B\n",
      "C\n",
      "A\n",
      "B\n",
      "C\n"
     ]
    }
   ],
   "source": [
    "for 변수 in [\"A\", \"B\", \"C\"]:\n",
    "    print(변수)\n",
    "        \n",
    "변수 = \"A\"\n",
    "print(변수)\n",
    "변수 = \"B\"\n",
    "print(변수)\n",
    "변수 = \"C\"\n",
    "print(변수)"
   ]
  },
  {
   "cell_type": "code",
   "execution_count": 75,
   "id": "87ceabc3",
   "metadata": {},
   "outputs": [
    {
     "name": "stdout",
     "output_type": "stream",
     "text": [
      "출력: A\n",
      "출력: B\n",
      "출력: C\n",
      "==================================================\n",
      "출력: A\n",
      "출력: B\n",
      "출력: C\n"
     ]
    }
   ],
   "source": [
    "for 변수 in [\"A\", \"B\", \"C\"]:\n",
    "    print(\"출력:\", 변수)\n",
    "    \n",
    "print('='*50)\n",
    "\n",
    "code = [\"A\", \"B\", \"C\"]\n",
    "i = 0\n",
    "while i < len(code):\n",
    "    print('출력:',code[i])\n",
    "    i += 1"
   ]
  },
  {
   "cell_type": "code",
   "execution_count": 78,
   "id": "1a901721",
   "metadata": {},
   "outputs": [
    {
     "name": "stdout",
     "output_type": "stream",
     "text": [
      "변환: a\n",
      "변환: b\n",
      "변환: c\n",
      "==================================================\n",
      "변환: a\n",
      "변환: b\n",
      "변환: c\n",
      "==================================================\n",
      "변환: a\n",
      "변환: b\n",
      "변환: c\n"
     ]
    }
   ],
   "source": [
    "# 리스트에서는 .lower() 메서드를 직접 사용할 수 없으며, .lower()는 문자열에만 사용 가능 \n",
    "# 따라서 for 문에서 변수를 한 번 정의(문자열)하고 나서 소문자 변환 후 각 요소를 출력해야 함 \n",
    "for 변수 in [\"A\", \"B\", \"C\"]:\n",
    "    b = 변수.lower()\n",
    "    print(\"변환:\", b)\n",
    "    \n",
    "print('='*50)\n",
    "\n",
    "변수 = [\"A\", \"B\", \"C\"]\n",
    "i = 0\n",
    "while i < len(변수):\n",
    "    소문자 = 변수[i].lower()\n",
    "    print('변환:',소문자)\n",
    "    i += 1\n",
    "    \n",
    "print('='*50)\n",
    "\n",
    "def 소문자출력(리스트):\n",
    "    for 변수 in 리스트:\n",
    "        소문자 = 변수.lower()\n",
    "        print('변환:',소문자)\n",
    "변수 = [\"A\", \"B\", \"C\"]\n",
    "소문자출력(변수)"
   ]
  },
  {
   "cell_type": "code",
   "execution_count": 86,
   "id": "949f57b3",
   "metadata": {},
   "outputs": [
    {
     "name": "stdout",
     "output_type": "stream",
     "text": [
      "10\n",
      "20\n",
      "30\n",
      "==================================================\n",
      "10\n",
      "20\n",
      "30\n"
     ]
    }
   ],
   "source": [
    "변수 = 10\n",
    "print(변수)\n",
    "변수 = 20\n",
    "print(변수)\n",
    "변수 = 30\n",
    "print(변수)\n",
    "print('='*50)\n",
    "\n",
    "for 변수 in [10,20,30]:\n",
    "    print(변수)"
   ]
  },
  {
   "cell_type": "code",
   "execution_count": 87,
   "id": "ffe37e16",
   "metadata": {},
   "outputs": [
    {
     "name": "stdout",
     "output_type": "stream",
     "text": [
      "10\n",
      "20\n",
      "30\n",
      "10\n",
      "20\n",
      "30\n"
     ]
    }
   ],
   "source": [
    "print(10)\n",
    "print(20)\n",
    "print(30)\n",
    "\n",
    "리스트 = [10,20,30]\n",
    "for 변수 in 리스트:\n",
    "    print(변수)"
   ]
  },
  {
   "cell_type": "code",
   "execution_count": 91,
   "id": "1a17602c",
   "metadata": {},
   "outputs": [
    {
     "name": "stdout",
     "output_type": "stream",
     "text": [
      "10\n",
      "-------\n",
      "20\n",
      "-------\n",
      "30\n",
      "-------\n",
      "10 \n",
      "-------\n",
      "20 \n",
      "-------\n",
      "30 \n",
      "-------\n"
     ]
    }
   ],
   "source": [
    "print(10)\n",
    "print(\"-------\")\n",
    "print(20)\n",
    "print(\"-------\")\n",
    "print(30)\n",
    "print(\"-------\")\n",
    "\n",
    "for 변수 in [10,20,30]:\n",
    "    print(변수,'\\n-------')"
   ]
  },
  {
   "cell_type": "code",
   "execution_count": 93,
   "id": "2a727b28",
   "metadata": {},
   "outputs": [
    {
     "name": "stdout",
     "output_type": "stream",
     "text": [
      "++++\n",
      "10\n",
      "20\n",
      "30\n",
      "++++\n",
      "10\n",
      "20\n",
      "30\n"
     ]
    }
   ],
   "source": [
    "#for문은 반복되는 코드에만 사용\n",
    "print(\"++++\")\n",
    "print(10)\n",
    "print(20)\n",
    "print(30)\n",
    "\n",
    "print(\"++++\")\n",
    "for 변수 in [10,20,30]:\n",
    "    print(변수)"
   ]
  },
  {
   "cell_type": "code",
   "execution_count": 103,
   "id": "1e388a87",
   "metadata": {},
   "outputs": [
    {
     "name": "stdout",
     "output_type": "stream",
     "text": [
      "-------\n",
      "-------\n",
      "-------\n",
      "-------\n",
      "-------\n",
      "-------\n",
      "-------\n",
      "-------\n",
      "-------\n",
      "-------\n",
      "-------\n",
      "-------\n"
     ]
    }
   ],
   "source": [
    "print(\"-------\")\n",
    "print(\"-------\")\n",
    "print(\"-------\")\n",
    "print(\"-------\")\n",
    "\n",
    "for 변수 in ['a','b','c','d']:\n",
    "    print(\"-------\")\n",
    "    \n",
    "for 변수 in [1, 2, 3, 4]:\n",
    "    print(\"-------\")"
   ]
  },
  {
   "cell_type": "code",
   "execution_count": 108,
   "id": "25fbfb8b",
   "metadata": {},
   "outputs": [
    {
     "name": "stdout",
     "output_type": "stream",
     "text": [
      "110\n",
      "210\n",
      "310\n"
     ]
    }
   ],
   "source": [
    "리스트 = [100, 200, 300]\n",
    "for 부가세 in 리스트:\n",
    "    print(부가세+10)"
   ]
  },
  {
   "cell_type": "code",
   "execution_count": 114,
   "id": "fc6f360b",
   "metadata": {},
   "outputs": [
    {
     "name": "stdout",
     "output_type": "stream",
     "text": [
      "오늘의 메뉴: 김밥\n",
      "오늘의 메뉴: 라면\n",
      "오늘의 메뉴: 튀김\n",
      "오늘의 메뉴: 김밥\n",
      "오늘의 메뉴: 라면\n",
      "오늘의 메뉴: 튀김\n"
     ]
    }
   ],
   "source": [
    "리스트 = [\"김밥\", \"라면\", \"튀김\"]\n",
    "for 메뉴 in 리스트:\n",
    "    print('오늘의 메뉴:',메뉴)\n",
    "    \n",
    "for 메뉴 in 리스트:\n",
    "    print('오늘의 메뉴: '+메뉴)"
   ]
  },
  {
   "cell_type": "code",
   "execution_count": 117,
   "id": "16f688bd",
   "metadata": {},
   "outputs": [
    {
     "name": "stdout",
     "output_type": "stream",
     "text": [
      "6\n",
      "4\n",
      "4\n"
     ]
    }
   ],
   "source": [
    "리스트 = [\"SK하이닉스\", \"삼성전자\", \"LG전자\"]\n",
    "for 길이 in 리스트 :\n",
    "    print(len(길이))"
   ]
  },
  {
   "cell_type": "code",
   "execution_count": 119,
   "id": "33faed7a",
   "metadata": {},
   "outputs": [
    {
     "name": "stdout",
     "output_type": "stream",
     "text": [
      "dog 3\n",
      "cat 3\n",
      "parrot 6\n"
     ]
    }
   ],
   "source": [
    "리스트 = ['dog', 'cat', 'parrot']\n",
    "for 동물 in 리스트:\n",
    "    print(동물,len(동물))"
   ]
  },
  {
   "cell_type": "code",
   "execution_count": 121,
   "id": "ec7b8b7d",
   "metadata": {},
   "outputs": [
    {
     "name": "stdout",
     "output_type": "stream",
     "text": [
      "d\n",
      "c\n",
      "p\n"
     ]
    }
   ],
   "source": [
    "# 첫 글자만 추출\n",
    "리스트 = ['dog', 'cat', 'parrot']\n",
    "for 동물 in 리스트:\n",
    "    print(동물[0])"
   ]
  },
  {
   "cell_type": "code",
   "execution_count": 124,
   "id": "bf6b178f",
   "metadata": {},
   "outputs": [
    {
     "name": "stdout",
     "output_type": "stream",
     "text": [
      "3 x 1\n",
      "3 x 2\n",
      "3 x 3\n"
     ]
    }
   ],
   "source": [
    "리스트 = [1, 2, 3]\n",
    "for i in 리스트:\n",
    "    print('3 x',i)"
   ]
  },
  {
   "cell_type": "code",
   "execution_count": 131,
   "id": "02c2e46a",
   "metadata": {},
   "outputs": [
    {
     "name": "stdout",
     "output_type": "stream",
     "text": [
      "3 x 1 = 3\n",
      "3 x 2 = 6\n",
      "3 x 3 = 9\n",
      "3 x 1 = 3\n",
      "3 x 2 = 6\n",
      "3 x 3 = 9\n"
     ]
    }
   ],
   "source": [
    "리스트 = [1, 2, 3]\n",
    "for i in 리스트: \n",
    "    print('3 x',i,'=',3*i)\n",
    "#문자열 함수로 변환 후 출력 \n",
    "for i in 리스트:    \n",
    "    print('3 x {} = {}'.format(i,3*i))"
   ]
  },
  {
   "cell_type": "code",
   "execution_count": 137,
   "id": "3b58c363",
   "metadata": {},
   "outputs": [
    {
     "name": "stdout",
     "output_type": "stream",
     "text": [
      "나\n",
      "다\n",
      "라\n"
     ]
    }
   ],
   "source": [
    "# for문 자료구조 자리에 리스트 슬라이싱 코드도 작성 가능 \n",
    "리스트 = [\"가\", \"나\", \"다\", \"라\"]\n",
    "for 나다라 in 리스트[1:]:\n",
    "    print(나다라)"
   ]
  },
  {
   "cell_type": "code",
   "execution_count": 143,
   "id": "bb9933b5",
   "metadata": {},
   "outputs": [
    {
     "name": "stdout",
     "output_type": "stream",
     "text": [
      "가\n",
      "다\n",
      "가\n",
      "다\n"
     ]
    }
   ],
   "source": [
    "리스트 = [\"가\", \"나\", \"다\", \"라\"]\n",
    "for 가다 in 리스트[::2]:\n",
    "    print(가다)\n",
    "    \n",
    "리스트 = [\"가\", \"나\", \"다\", \"라\"]\n",
    "for 가다 in 리스트[0],리스트[2]:\n",
    "    print(가다)"
   ]
  },
  {
   "cell_type": "code",
   "execution_count": 160,
   "id": "daf432e3",
   "metadata": {},
   "outputs": [
    {
     "name": "stdout",
     "output_type": "stream",
     "text": [
      "라\n",
      "다\n",
      "나\n",
      "가\n",
      "라\n",
      "다\n",
      "나\n",
      "가\n"
     ]
    }
   ],
   "source": [
    "리스트 = [\"가\", \"나\", \"다\", \"라\"]\n",
    "리스트.reverse()\n",
    "for 거꾸로 in 리스트:\n",
    "    print(거꾸로)\n",
    "    \n",
    "리스트 = [\"가\", \"나\", \"다\", \"라\"]\n",
    "for 거꾸로 in 리스트[::-1]:\n",
    "    print(거꾸로)"
   ]
  },
  {
   "cell_type": "code",
   "execution_count": 162,
   "id": "0ab96a3f",
   "metadata": {},
   "outputs": [
    {
     "name": "stdout",
     "output_type": "stream",
     "text": [
      "-20\n",
      "-3\n"
     ]
    }
   ],
   "source": [
    "#리스트 음수 출력 \n",
    "리스트 = [3, -20, -3, 44]\n",
    "for 음수 in 리스트:\n",
    "    if 음수 < 0 :\n",
    "        print(음수)\n",
    "    else:\n",
    "        pass"
   ]
  },
  {
   "cell_type": "code",
   "execution_count": 168,
   "id": "a187dc43",
   "metadata": {},
   "outputs": [
    {
     "name": "stdout",
     "output_type": "stream",
     "text": [
      "3\n"
     ]
    }
   ],
   "source": [
    "리스트 = [3, 100, 23, 44]\n",
    "for 삼배수 in 리스트:\n",
    "    if 삼배수 % 3 ==0: print(삼배수)\n",
    "    else: pass\n",
    "    \n",
    "#else: pass 는 생략해도 됨"
   ]
  },
  {
   "cell_type": "code",
   "execution_count": 170,
   "id": "e99b9ae5",
   "metadata": {},
   "outputs": [
    {
     "name": "stdout",
     "output_type": "stream",
     "text": [
      "12\n",
      "18\n"
     ]
    }
   ],
   "source": [
    "리스트 = [13, 21, 12, 14, 30, 18]\n",
    "for 삼배수 in 리스트:\n",
    "    if 삼배수 %3==0 and 삼배수 <20:\n",
    "        print(삼배수)"
   ]
  },
  {
   "cell_type": "code",
   "execution_count": 175,
   "id": "3d198e3f",
   "metadata": {},
   "outputs": [
    {
     "name": "stdout",
     "output_type": "stream",
     "text": [
      "study\n",
      "python\n",
      "language\n"
     ]
    }
   ],
   "source": [
    "#3글자 이상인 문자열만 출력\n",
    "리스트 = [\"I\", \"study\", \"python\", \"language\", \"!\"]\n",
    "for 문자 in 리스트: \n",
    "    if len(문자) >= 3 : print(문자)"
   ]
  },
  {
   "cell_type": "code",
   "execution_count": 180,
   "id": "840d5cf2",
   "metadata": {},
   "outputs": [
    {
     "name": "stdout",
     "output_type": "stream",
     "text": [
      "A\n",
      "D\n",
      "A\n",
      "D\n",
      "A\n",
      "D\n"
     ]
    }
   ],
   "source": [
    "리스트 = [\"A\", \"b\", \"c\", \"D\"]\n",
    "for 대문자 in 리스트:\n",
    "    if 대문자 == 대문자.upper():\n",
    "        print(대문자)\n",
    "        \n",
    "리스트 = [\"A\", \"b\", \"c\", \"D\"]\n",
    "for 대문자 in 리스트:\n",
    "    if 대문자.isupper() == True:\n",
    "        print(대문자)\n",
    "        \n",
    "리스트 = [\"A\", \"b\", \"c\", \"D\"]\n",
    "for 대문자 in 리스트:\n",
    "    if 대문자.isupper() :\n",
    "        print(대문자)"
   ]
  },
  {
   "cell_type": "code",
   "execution_count": 186,
   "id": "f76533e0",
   "metadata": {},
   "outputs": [
    {
     "name": "stdout",
     "output_type": "stream",
     "text": [
      "b\n",
      "c\n",
      "b\n",
      "c\n",
      "b\n",
      "c\n",
      "b\n",
      "c\n"
     ]
    }
   ],
   "source": [
    "리스트 = [\"A\", \"b\", \"c\", \"D\"]\n",
    "for 소문자 in 리스트:\n",
    "    if 소문자.islower() :print(소문자)\n",
    "        \n",
    "for 소문자 in 리스트:\n",
    "    if 소문자.isupper() == False: print(소문자)\n",
    "        \n",
    "for 소문자 in 리스트:\n",
    "    if 소문자.isupper() != True: print(소문자)\n",
    "        \n",
    "for 소문자 in 리스트:\n",
    "    if not 소문자.isupper() : print(소문자)"
   ]
  },
  {
   "cell_type": "code",
   "execution_count": 189,
   "id": "0a8472bb",
   "metadata": {},
   "outputs": [
    {
     "name": "stdout",
     "output_type": "stream",
     "text": [
      "Dog\n",
      "Cat\n",
      "Parrot\n"
     ]
    }
   ],
   "source": [
    "리스트 = ['dog', 'cat', 'parrot']\n",
    "for 대문자 in 리스트:\n",
    "    print(대문자[0].upper()+대문자[1:])"
   ]
  },
  {
   "cell_type": "code",
   "execution_count": 193,
   "id": "7e871baa",
   "metadata": {},
   "outputs": [
    {
     "name": "stdout",
     "output_type": "stream",
     "text": [
      "hello\n",
      "ex01\n",
      "intro\n"
     ]
    }
   ],
   "source": [
    "리스트 = ['hello.py', 'ex01.py', 'intro.hwp']\n",
    "for 파일 in 리스트:\n",
    "    print(파일.split('.')[0])"
   ]
  },
  {
   "cell_type": "code",
   "execution_count": 195,
   "id": "66d56fc4",
   "metadata": {},
   "outputs": [
    {
     "name": "stdout",
     "output_type": "stream",
     "text": [
      "intra.h\n",
      "define.h\n"
     ]
    }
   ],
   "source": [
    "리스트 = ['intra.h', 'intra.c', 'define.h', 'run.py']\n",
    "for 확장자 in 리스트:\n",
    "    if 확장자.split('.')[1] == 'h':\n",
    "        print(확장자)"
   ]
  },
  {
   "cell_type": "code",
   "execution_count": 197,
   "id": "ea113c96",
   "metadata": {},
   "outputs": [
    {
     "name": "stdout",
     "output_type": "stream",
     "text": [
      "intra.h\n",
      "intra.c\n",
      "define.h\n"
     ]
    }
   ],
   "source": [
    "리스트 = ['intra.h', 'intra.c', 'define.h', 'run.py']\n",
    "for 변수 in 리스트:\n",
    "    확장자 = 변수.split('.')[1]\n",
    "    if 확장자 == 'h' or 확장자 == 'c':\n",
    "        print(변수)"
   ]
  },
  {
   "cell_type": "code",
   "execution_count": 209,
   "id": "1749b69a",
   "metadata": {},
   "outputs": [
    {
     "name": "stdout",
     "output_type": "stream",
     "text": [
      "0   1   2   3   4   5   6   7   8   9   10   11   12   13   14   15   16   17   18   19   20   21   22   23   24   25   26   27   28   29   30   31   32   33   34   35   36   37   38   39   40   41   42   43   44   45   46   47   48   49   50   51   52   53   54   55   56   57   58   59   60   61   62   63   64   65   66   67   68   69   70   71   72   73   74   75   76   77   78   79   80   81   82   83   84   85   86   87   88   89   90   91   92   93   94   95   96   97   98   99   "
     ]
    }
   ],
   "source": [
    "#for문과 range 구문을 사용해서 0~99까지 한 라인에 하나씩 순차적으로 출력하는 프로그램을 작성하라.\n",
    "for 변수 in range(0,100):\n",
    "    print(변수, end='   ')"
   ]
  },
  {
   "cell_type": "code",
   "execution_count": 213,
   "id": "93a35e26",
   "metadata": {},
   "outputs": [
    {
     "name": "stdout",
     "output_type": "stream",
     "text": [
      "2002\n",
      "2006\n",
      "2010\n",
      "2014\n",
      "2018\n",
      "2022\n",
      "2026\n",
      "2030\n",
      "2034\n",
      "2038\n",
      "2042\n",
      "2046\n",
      "2050\n"
     ]
    }
   ],
   "source": [
    "#range()를 사용하여 2002~2050년까지 중 월드컵이 개최되는 연도를 출력\n",
    "#range의 세번 째 파라미터는 증감폭을 결정\n",
    "for 월드컵 in range(2002,2051,4):\n",
    "    print(월드컵)"
   ]
  },
  {
   "cell_type": "code",
   "execution_count": 218,
   "id": "e5a9b033",
   "metadata": {},
   "outputs": [
    {
     "name": "stdout",
     "output_type": "stream",
     "text": [
      "3\n",
      "6\n",
      "9\n",
      "12\n",
      "15\n",
      "18\n",
      "21\n",
      "24\n",
      "27\n",
      "30\n",
      "3\n",
      "6\n",
      "9\n",
      "12\n",
      "15\n",
      "18\n",
      "21\n",
      "24\n",
      "27\n",
      "30\n"
     ]
    }
   ],
   "source": [
    "#1부터 30까지의 숫자 중 3의 배수를 출력하라.\n",
    "for 삼배수 in range(1,31):\n",
    "    if 삼배수 % 3 == 0:\n",
    "        print(삼배수)\n",
    "        \n",
    "for 삼배수 in range(3,31,3):\n",
    "    print(삼배수)"
   ]
  },
  {
   "cell_type": "code",
   "execution_count": 223,
   "id": "2c2a6aca",
   "metadata": {},
   "outputs": [
    {
     "name": "stdout",
     "output_type": "stream",
     "text": [
      "99  98  97  96  95  94  93  92  91  90  89  88  87  86  85  84  83  82  81  80  79  78  77  76  75  74  73  72  71  70  69  68  67  66  65  64  63  62  61  60  59  58  57  56  55  54  53  52  51  50  49  48  47  46  45  44  43  42  41  40  39  38  37  36  35  34  33  32  31  30  29  28  27  26  25  24  23  22  21  20  19  18  17  16  15  14  13  12  11  10  9  8  7  6  5  4  3  2  1  0  "
     ]
    }
   ],
   "source": [
    "#99부터 0까지 1씩 감소하는 숫자들을, 한 라인에 하나씩 출력하라.\n",
    "for i in range(100):\n",
    "    print(99-i,end = '  ')"
   ]
  },
  {
   "cell_type": "code",
   "execution_count": 6,
   "id": "39834be1",
   "metadata": {},
   "outputs": [
    {
     "name": "stdout",
     "output_type": "stream",
     "text": [
      "0.0\n",
      "0.1\n",
      "0.2\n",
      "0.3\n",
      "0.4\n",
      "0.5\n",
      "0.6\n",
      "0.7\n",
      "0.8\n",
      "0.9\n"
     ]
    }
   ],
   "source": [
    "for i in range(10):\n",
    "    print(float(i/10))"
   ]
  },
  {
   "cell_type": "code",
   "execution_count": 9,
   "id": "59f0187c",
   "metadata": {},
   "outputs": [
    {
     "name": "stdout",
     "output_type": "stream",
     "text": [
      "3 x 1 = 3\n",
      "3 x 2 = 6\n",
      "3 x 3 = 9\n",
      "3 x 4 = 12\n",
      "3 x 5 = 15\n",
      "3 x 6 = 18\n",
      "3 x 7 = 21\n",
      "3 x 8 = 24\n",
      "3 x 9 = 27\n"
     ]
    }
   ],
   "source": [
    "for i in range(1,10):\n",
    "    print('3 x {} = {}'.format(i,3*i))"
   ]
  },
  {
   "cell_type": "code",
   "execution_count": 11,
   "id": "a723aede",
   "metadata": {},
   "outputs": [
    {
     "name": "stdout",
     "output_type": "stream",
     "text": [
      "3 x 1 = 3\n",
      "3 x 3 = 9\n",
      "3 x 5 = 15\n",
      "3 x 7 = 21\n",
      "3 x 9 = 27\n",
      "3 x 1 = 3\n",
      "3 x 3 = 9\n",
      "3 x 5 = 15\n",
      "3 x 7 = 21\n",
      "3 x 9 = 27\n"
     ]
    }
   ],
   "source": [
    "for i in range(1,10,2):\n",
    "    print('3 x {} = {}'.format(i,3*i))\n",
    "    \n",
    "for i in range(1,10):\n",
    "    if i % 2 ==1 : \n",
    "        print('3 x {} = {}'.format(i,3*i))"
   ]
  },
  {
   "cell_type": "code",
   "execution_count": 23,
   "id": "6e8ea1eb",
   "metadata": {},
   "outputs": [
    {
     "name": "stdout",
     "output_type": "stream",
     "text": [
      "합 :  55\n"
     ]
    }
   ],
   "source": [
    "합 =0\n",
    "for i in range(1,11):\n",
    "    합 += i # i 를 더한 값들을 누적시키고 최종 값만 출력\n",
    "print('합 : ',합)"
   ]
  },
  {
   "cell_type": "code",
   "execution_count": 27,
   "id": "280a25b9",
   "metadata": {},
   "outputs": [
    {
     "name": "stdout",
     "output_type": "stream",
     "text": [
      "합 :  25\n",
      "합 :  25\n"
     ]
    }
   ],
   "source": [
    "합 =0\n",
    "for i in range(1,11,2):\n",
    "    합 += i # i 를 더한 값들을 누적시키고 최종 값만 출력\n",
    "print('합 : ',합)\n",
    "\n",
    "합 =0\n",
    "for i in range(1,10):\n",
    "    if i % 2 ==1 : \n",
    "        합 += i\n",
    "print('합 : ',합)"
   ]
  },
  {
   "cell_type": "code",
   "execution_count": 39,
   "id": "b7a29145",
   "metadata": {},
   "outputs": [
    {
     "name": "stdout",
     "output_type": "stream",
     "text": [
      "곱 :  3628800\n"
     ]
    }
   ],
   "source": [
    "곱 = 1\n",
    "for i in range(1,11):\n",
    "    곱 *= i\n",
    "print('곱 : ',곱)"
   ]
  },
  {
   "cell_type": "code",
   "execution_count": 43,
   "id": "3e699d7d",
   "metadata": {},
   "outputs": [
    {
     "name": "stdout",
     "output_type": "stream",
     "text": [
      "32100\n",
      "32150\n",
      "32000\n",
      "32500\n"
     ]
    }
   ],
   "source": [
    "#인덱스를 range 함수에서 반복해도 됨 / 다만 리스트의 크기가 변하면 수정해야 함 \n",
    "price_list = [32100, 32150, 32000, 32500]\n",
    "for i in range(4):\n",
    "    print(price_list[i])"
   ]
  },
  {
   "cell_type": "code",
   "execution_count": 44,
   "id": "c3ad2928",
   "metadata": {},
   "outputs": [
    {
     "name": "stdout",
     "output_type": "stream",
     "text": [
      "0 32100\n",
      "1 32150\n",
      "2 32000\n",
      "3 32500\n"
     ]
    }
   ],
   "source": [
    "for i in range(4):\n",
    "    print(i,price_list[i])"
   ]
  },
  {
   "cell_type": "code",
   "execution_count": 47,
   "id": "53c73026",
   "metadata": {},
   "outputs": [
    {
     "name": "stdout",
     "output_type": "stream",
     "text": [
      "3 32100\n",
      "2 32150\n",
      "1 32000\n",
      "0 32500\n",
      "3 32100\n",
      "2 32150\n",
      "1 32000\n",
      "0 32500\n"
     ]
    }
   ],
   "source": [
    "for i in range(4):\n",
    "    print(3-i,price_list[i])\n",
    "    \n",
    "for i in range(len(price_list)):\n",
    "    print(len(price_list)-1-i,price_list[i])"
   ]
  },
  {
   "cell_type": "code",
   "execution_count": 52,
   "id": "505bdb50",
   "metadata": {},
   "outputs": [
    {
     "name": "stdout",
     "output_type": "stream",
     "text": [
      "[32150, 32000, 32500]\n",
      "[32150, 32000, 32500]\n",
      "[32150, 32000, 32500]\n",
      "[32150, 32000, 32500]\n"
     ]
    }
   ],
   "source": [
    "price_list = [32100, 32150, 32000, 32500]\n",
    "for i in range(4):\n",
    "    print(price_list[1:])"
   ]
  },
  {
   "cell_type": "code",
   "execution_count": 58,
   "id": "082a2577",
   "metadata": {},
   "outputs": [
    {
     "name": "stdout",
     "output_type": "stream",
     "text": [
      "100 32150\n",
      "110 32000\n",
      "120 32500\n"
     ]
    }
   ],
   "source": [
    "price_list = [32100, 32150, 32000, 32500]\n",
    "for i in range(4):\n",
    "    if i != 0 :\n",
    "        print(100+(i*10)-10, price_list[i])"
   ]
  },
  {
   "cell_type": "code",
   "execution_count": 62,
   "id": "fda31023",
   "metadata": {},
   "outputs": [
    {
     "name": "stdout",
     "output_type": "stream",
     "text": [
      "100 32150\n",
      "110 32000\n",
      "120 32500\n"
     ]
    }
   ],
   "source": [
    "price_list = [32100, 32150, 32000, 32500]\n",
    "for i in range(1,4):\n",
    "    print(90+i*10 , price_list[i])"
   ]
  },
  {
   "cell_type": "code",
   "execution_count": 69,
   "id": "26df665d",
   "metadata": {},
   "outputs": [
    {
     "name": "stdout",
     "output_type": "stream",
     "text": [
      "가 나\n",
      "나 다\n",
      "다 라\n",
      "가 나\n",
      "나 다\n",
      "다 라\n"
     ]
    }
   ],
   "source": [
    "my_list = [\"가\", \"나\", \"다\", \"라\"]\n",
    "for i in range(3):\n",
    "    print(my_list[i],my_list[i+1])\n",
    "    \n",
    "for i in range( 1, len(my_list) ) :\n",
    "    print(my_list[i-1], my_list[i])"
   ]
  },
  {
   "cell_type": "code",
   "execution_count": 74,
   "id": "aacbd671",
   "metadata": {},
   "outputs": [
    {
     "name": "stdout",
     "output_type": "stream",
     "text": [
      "가 나 다\n",
      "나 다 라\n",
      "다 라 마\n",
      "가 나 다\n",
      "나 다 라\n",
      "다 라 마\n"
     ]
    }
   ],
   "source": [
    "my_list = [\"가\", \"나\", \"다\", \"라\", \"마\"]\n",
    "for i in range(len(my_list)-2):\n",
    "    print(my_list[i],my_list[i+1],my_list[i+2])\n",
    "    \n",
    "for i in [0, 1, 2]:\n",
    "    print(my_list[i], my_list[i+1], my_list[i+2])"
   ]
  },
  {
   "cell_type": "code",
   "execution_count": 94,
   "id": "6fd532d5",
   "metadata": {},
   "outputs": [
    {
     "name": "stdout",
     "output_type": "stream",
     "text": [
      "라 다\n",
      "다 나\n",
      "나 가\n",
      "라 다\n",
      "다 나\n",
      "나 가\n"
     ]
    }
   ],
   "source": [
    "my_list = [\"가\", \"나\", \"다\", \"라\"]\n",
    "print(my_list[3], my_list[2])\n",
    "print(my_list[2], my_list[1])\n",
    "print(my_list[1], my_list[0])\n",
    "\n",
    "\n",
    "for i in range(3):\n",
    "    print(my_list[3-i],my_list[2-i])\n",
    "    \n",
    "for i in range(len(my_list) - 1, 0, -1):\n",
    "    print(my_list[i], my_list[i-1])"
   ]
  },
  {
   "cell_type": "code",
   "execution_count": 101,
   "id": "2604837e",
   "metadata": {},
   "outputs": [
    {
     "name": "stdout",
     "output_type": "stream",
     "text": [
      "100\n",
      "200\n",
      "400\n"
     ]
    }
   ],
   "source": [
    "my_list = [100, 200, 400, 800]\n",
    "for i in range(len(my_list)-1):\n",
    "    print(my_list[i+1]-my_list[i])"
   ]
  },
  {
   "cell_type": "code",
   "execution_count": 107,
   "id": "27bcf9ca",
   "metadata": {},
   "outputs": [
    {
     "name": "stdout",
     "output_type": "stream",
     "text": [
      "233.33333333333334\n",
      "466.6666666666667\n",
      "733.3333333333334\n",
      "1033.3333333333333\n"
     ]
    }
   ],
   "source": [
    "my_list = [100, 200, 400, 800, 1000, 1300]\n",
    "for i in range(len(my_list)-2):\n",
    "    print((my_list[i]+my_list[i+1]+my_list[i+2])/3)"
   ]
  },
  {
   "cell_type": "code",
   "execution_count": 116,
   "id": "f4b4ab87",
   "metadata": {},
   "outputs": [
    {
     "name": "stdout",
     "output_type": "stream",
     "text": [
      "[50, 100, 30, 80, 0]\n"
     ]
    }
   ],
   "source": [
    "low_prices  = [100, 200, 400, 800, 1000]\n",
    "high_prices = [150, 300, 430, 880, 1000]\n",
    "volatility=[] #변동폭을 저장할 리스트 초기화\n",
    "for low, high in zip(low_prices,high_prices):\n",
    "    volatility.append(high-low)\n",
    "print(volatility)"
   ]
  },
  {
   "cell_type": "code",
   "execution_count": 117,
   "id": "6eb3aa31",
   "metadata": {},
   "outputs": [
    {
     "name": "stdout",
     "output_type": "stream",
     "text": [
      "[['101호', '102호'], ['201호', '202호'], ['301호', '302호']]\n"
     ]
    }
   ],
   "source": [
    "#하나의 행을 하나의 리스트로, 총 3개의 리스트를 갖는 이차원 리스트\n",
    "apart = [['101호','102호'],['201호', '202호'],['301호', '302호']]\n",
    "print(apart)"
   ]
  },
  {
   "cell_type": "code",
   "execution_count": 123,
   "id": "6952b3fc",
   "metadata": {},
   "outputs": [
    {
     "name": "stdout",
     "output_type": "stream",
     "text": [
      "100\n"
     ]
    }
   ],
   "source": [
    "#열을 하나의 리스트로, 총 2개의 리스트를 갖는 이차원 리스트\n",
    "stock = [['시가',100,200,300],['종가',80,210,330]]\n",
    "print(stock[0][1])"
   ]
  },
  {
   "cell_type": "code",
   "execution_count": 128,
   "id": "f8a632b8",
   "metadata": {},
   "outputs": [
    {
     "name": "stdout",
     "output_type": "stream",
     "text": [
      "{'시가': [100, 200, 300], '종가': [80, 210, 330]}\n"
     ]
    }
   ],
   "source": [
    "stock = {'시가':[100,200,300],'종가':[80,210,330]}\n",
    "print(stock)"
   ]
  },
  {
   "cell_type": "code",
   "execution_count": 130,
   "id": "f184ef0e",
   "metadata": {},
   "outputs": [
    {
     "name": "stdout",
     "output_type": "stream",
     "text": [
      "{'10/10': [80, 110, 70, 90], '10/11': [210, 230, 190, 200]}\n"
     ]
    }
   ],
   "source": [
    "stock = {'10/10':[80,110,70,90],'10/11':[210,230,190,200]}\n",
    "print(stock)"
   ]
  },
  {
   "cell_type": "code",
   "execution_count": 135,
   "id": "ea891694",
   "metadata": {},
   "outputs": [
    {
     "name": "stdout",
     "output_type": "stream",
     "text": [
      "101 호\n",
      "102 호\n",
      "201 호\n",
      "202 호\n",
      "301 호\n",
      "302 호\n"
     ]
    }
   ],
   "source": [
    "apart = [ [101, 102], [201, 202], [301, 302] ]\n",
    "for i in apart:\n",
    "    for j in i:\n",
    "        print(j, '호')"
   ]
  },
  {
   "cell_type": "code",
   "execution_count": 139,
   "id": "62969287",
   "metadata": {},
   "outputs": [
    {
     "name": "stdout",
     "output_type": "stream",
     "text": [
      "301 호\n",
      "302 호\n",
      "201 호\n",
      "202 호\n",
      "101 호\n",
      "102 호\n"
     ]
    }
   ],
   "source": [
    "apart = [ [101, 102], [201, 202], [301, 302] ]\n",
    "for i in apart[::-1]:\n",
    "    for j in i:\n",
    "        print(j, '호')"
   ]
  },
  {
   "cell_type": "code",
   "execution_count": 140,
   "id": "02dc60c5",
   "metadata": {},
   "outputs": [
    {
     "name": "stdout",
     "output_type": "stream",
     "text": [
      "302 호\n",
      "301 호\n",
      "202 호\n",
      "201 호\n",
      "102 호\n",
      "101 호\n"
     ]
    }
   ],
   "source": [
    "apart = [ [101, 102], [201, 202], [301, 302] ]\n",
    "for i in apart[::-1]:\n",
    "    for j in i[::-1]:\n",
    "        print(j, '호')"
   ]
  },
  {
   "cell_type": "code",
   "execution_count": 144,
   "id": "67de94c5",
   "metadata": {},
   "outputs": [
    {
     "name": "stdout",
     "output_type": "stream",
     "text": [
      "101 호\n",
      "-----\n",
      "102 호\n",
      "-----\n",
      "201 호\n",
      "-----\n",
      "202 호\n",
      "-----\n",
      "301 호\n",
      "-----\n",
      "302 호\n",
      "-----\n"
     ]
    }
   ],
   "source": [
    "apart = [ [101, 102], [201, 202], [301, 302] ]\n",
    "for i in apart:\n",
    "    for j in i:\n",
    "        print(j, '호\\n-----')"
   ]
  },
  {
   "cell_type": "code",
   "execution_count": 147,
   "id": "04090382",
   "metadata": {},
   "outputs": [
    {
     "name": "stdout",
     "output_type": "stream",
     "text": [
      "101 호\n",
      "102 호\n",
      "-----\n",
      "201 호\n",
      "202 호\n",
      "-----\n",
      "301 호\n",
      "302 호\n",
      "-----\n"
     ]
    }
   ],
   "source": [
    "apart = [ [101, 102], [201, 202], [301, 302] ]\n",
    "for i in apart:\n",
    "    for j in i:\n",
    "        print(j, '호')\n",
    "    print('-'*5)"
   ]
  },
  {
   "cell_type": "code",
   "execution_count": 148,
   "id": "4892bde4",
   "metadata": {},
   "outputs": [
    {
     "name": "stdout",
     "output_type": "stream",
     "text": [
      "101 호\n",
      "102 호\n",
      "201 호\n",
      "202 호\n",
      "301 호\n",
      "302 호\n",
      "-----\n"
     ]
    }
   ],
   "source": [
    "apart = [ [101, 102], [201, 202], [301, 302] ]\n",
    "for i in apart:\n",
    "    for j in i:\n",
    "        print(j, '호')\n",
    "print('-'*5)"
   ]
  },
  {
   "cell_type": "code",
   "execution_count": 152,
   "id": "19214515",
   "metadata": {},
   "outputs": [
    {
     "name": "stdout",
     "output_type": "stream",
     "text": [
      "2000.28\n",
      "3050.427\n",
      "2050.2870000000003\n",
      "1980.2772\n",
      "7501.05\n",
      "2050.2870000000003\n",
      "2050.2870000000003\n",
      "1980.2772\n",
      "15452.163\n",
      "15052.107\n",
      "15552.177\n",
      "14902.086000000001\n"
     ]
    }
   ],
   "source": [
    "data = [\n",
    "    [ 2000,  3050,  2050,  1980],\n",
    "    [ 7500,  2050,  2050,  1980],\n",
    "    [15450, 15050, 15550, 14900]\n",
    "]\n",
    "\n",
    "for i in data:\n",
    "    for j in i:\n",
    "        print(j*1.00014)"
   ]
  },
  {
   "cell_type": "code",
   "execution_count": 154,
   "id": "7c7180fc",
   "metadata": {},
   "outputs": [
    {
     "name": "stdout",
     "output_type": "stream",
     "text": [
      "2000.28\n",
      "3050.427\n",
      "2050.2870000000003\n",
      "1980.2772\n",
      "----\n",
      "7501.05\n",
      "2050.2870000000003\n",
      "2050.2870000000003\n",
      "1980.2772\n",
      "----\n",
      "15452.163\n",
      "15052.107\n",
      "15552.177\n",
      "14902.086000000001\n",
      "----\n"
     ]
    }
   ],
   "source": [
    "for i in data:\n",
    "    for j in i:\n",
    "        print(j*1.00014)\n",
    "    print('-'*4)"
   ]
  },
  {
   "cell_type": "code",
   "execution_count": 157,
   "id": "32765f5a",
   "metadata": {},
   "outputs": [
    {
     "name": "stdout",
     "output_type": "stream",
     "text": [
      "[2000.28, 3050.427, 2050.2870000000003, 1980.2772, 7501.05, 2050.2870000000003, 2050.2870000000003, 1980.2772, 15452.163, 15052.107, 15552.177, 14902.086000000001]\n"
     ]
    }
   ],
   "source": [
    "result=[]\n",
    "for i in data:\n",
    "    for j in i:\n",
    "        result.append(j*1.00014)\n",
    "print(result)"
   ]
  },
  {
   "cell_type": "code",
   "execution_count": 172,
   "id": "ea16ee08",
   "metadata": {},
   "outputs": [
    {
     "name": "stdout",
     "output_type": "stream",
     "text": [
      "[[2000.28, 3050.427, 2050.2870000000003, 1980.2772], [7501.05, 2050.2870000000003, 2050.2870000000003, 1980.2772], [15452.163, 15052.107, 15552.177, 14902.086000000001]]\n"
     ]
    }
   ],
   "source": [
    "result=[]\n",
    "for i in data:\n",
    "    sub=[]\n",
    "    for j in i:\n",
    "        sub.append(j*1.00014)\n",
    "    result.append(sub)\n",
    "print(result)"
   ]
  },
  {
   "cell_type": "code",
   "execution_count": 175,
   "id": "17cd3df7",
   "metadata": {},
   "outputs": [
    {
     "name": "stdout",
     "output_type": "stream",
     "text": [
      "[2000.28, 3050.427, 2050.2870000000003, 1980.2772]\n",
      "[7501.05, 2050.2870000000003, 2050.2870000000003, 1980.2772]\n",
      "[15452.163, 15052.107, 15552.177, 14902.086000000001]\n"
     ]
    }
   ],
   "source": [
    "for row in result:\n",
    "    print(row)"
   ]
  },
  {
   "cell_type": "code",
   "execution_count": 183,
   "id": "5dd67c91",
   "metadata": {},
   "outputs": [
    {
     "name": "stdout",
     "output_type": "stream",
     "text": [
      "100\n",
      "190\n",
      "310\n"
     ]
    }
   ],
   "source": [
    "ohlc = [[\"open\", \"high\", \"low\", \"close\"],\n",
    "        [100, 110, 70, 100],\n",
    "        [200, 210, 180, 190],\n",
    "        [300, 310, 300, 310]]\n",
    "for close in ohlc[1:]:\n",
    "    print(close[3])"
   ]
  },
  {
   "cell_type": "code",
   "execution_count": 186,
   "id": "7ad809bf",
   "metadata": {},
   "outputs": [
    {
     "name": "stdout",
     "output_type": "stream",
     "text": [
      "190\n",
      "310\n"
     ]
    }
   ],
   "source": [
    "#종가가 150원보다 큰경우에만 종가를 출력\n",
    "for close in ohlc[1:]:\n",
    "    if close[3] > 150:\n",
    "        print(close[3])"
   ]
  },
  {
   "cell_type": "code",
   "execution_count": 188,
   "id": "083c5cf2",
   "metadata": {},
   "outputs": [
    {
     "name": "stdout",
     "output_type": "stream",
     "text": [
      "100\n",
      "310\n"
     ]
    }
   ],
   "source": [
    "for price in ohlc[1:]:\n",
    "    if price[3] >= price[0]:\n",
    "        print(price[3])"
   ]
  },
  {
   "cell_type": "code",
   "execution_count": 190,
   "id": "92a3fc10",
   "metadata": {},
   "outputs": [
    {
     "name": "stdout",
     "output_type": "stream",
     "text": [
      "[40, 30, 10]\n"
     ]
    }
   ],
   "source": [
    "volatility = []\n",
    "for price in ohlc[1:]:\n",
    "    volatility.append(price[1] - price[2])\n",
    "print(volatility)"
   ]
  },
  {
   "cell_type": "code",
   "execution_count": 191,
   "id": "bdc9343d",
   "metadata": {},
   "outputs": [
    {
     "name": "stdout",
     "output_type": "stream",
     "text": [
      "[40, 30, 10]\n"
     ]
    }
   ],
   "source": [
    "volatility = []\n",
    "for i in range(1,len(ohlc)):\n",
    "    volatility.append(ohlc[i][1] - ohlc[i][2])\n",
    "print(volatility)"
   ]
  },
  {
   "cell_type": "code",
   "execution_count": 192,
   "id": "f9075b68",
   "metadata": {},
   "outputs": [
    {
     "name": "stdout",
     "output_type": "stream",
     "text": [
      "10\n"
     ]
    }
   ],
   "source": [
    "#종가가 시가보다 높은 날의 변동성 (고가 - 저가) 출력\n",
    "for price in ohlc[1:]:\n",
    "    if price[3] > price[0]:\n",
    "        print(price[1]-price[2])"
   ]
  },
  {
   "cell_type": "code",
   "execution_count": 199,
   "id": "66ed1766",
   "metadata": {},
   "outputs": [
    {
     "name": "stdout",
     "output_type": "stream",
     "text": [
      "0\n"
     ]
    }
   ],
   "source": [
    "#시가 매수/종가 매도 수익금\n",
    "for price in ohlc[1:]:\n",
    "    profit += price[3]-price[0]\n",
    "print(profit)"
   ]
  },
  {
   "cell_type": "markdown",
   "id": "abf7b12d",
   "metadata": {},
   "source": [
    "# 파이썬 함수"
   ]
  },
  {
   "cell_type": "markdown",
   "id": "1f499acf",
   "metadata": {},
   "source": [
    "**201~240**"
   ]
  },
  {
   "cell_type": "code",
   "execution_count": 15,
   "id": "3796171f",
   "metadata": {
    "scrolled": true
   },
   "outputs": [
    {
     "name": "stdout",
     "output_type": "stream",
     "text": [
      "비트코인\n"
     ]
    }
   ],
   "source": [
    "#201번def는 함수를 만들 때 사용하는 예약어 함수 이름은 임의로 생성\n",
    "#함수 이름 뒤 괄호 안의 매개변수는 이 함수에 입력으로 전달되는 값을 받는 변수\n",
    "#def 함수_이름(매개변수): 수행할_문장1\n",
    "def print_coin():\n",
    "    return '비트코인'\n",
    "print(print_coin())"
   ]
  },
  {
   "cell_type": "code",
   "execution_count": 17,
   "id": "df436127",
   "metadata": {},
   "outputs": [],
   "source": [
    "def print_coin():\n",
    "    print(\"비트코인\")"
   ]
  },
  {
   "cell_type": "code",
   "execution_count": 27,
   "id": "bd881e05",
   "metadata": {},
   "outputs": [],
   "source": [
    "#213 \n",
    "\n",
    "def 함수(문자열) : \n",
    "    print(문자열)"
   ]
  },
  {
   "cell_type": "code",
   "execution_count": 34,
   "id": "4c8c1668",
   "metadata": {},
   "outputs": [
    {
     "ename": "TypeError",
     "evalue": "can only concatenate str (not \"int\") to str",
     "output_type": "error",
     "traceback": [
      "\u001b[1;31m---------------------------------------------------------------------------\u001b[0m",
      "\u001b[1;31mTypeError\u001b[0m                                 Traceback (most recent call last)",
      "Cell \u001b[1;32mIn[34], line 6\u001b[0m\n\u001b[0;32m      4\u001b[0m \u001b[38;5;28;01mdef\u001b[39;00m \u001b[38;5;21m함수\u001b[39m(a, b) :\n\u001b[0;32m      5\u001b[0m     \u001b[38;5;28mprint\u001b[39m(a \u001b[38;5;241m+\u001b[39m b)\n\u001b[1;32m----> 6\u001b[0m 함수(\u001b[38;5;124m'\u001b[39m\u001b[38;5;124m안녕\u001b[39m\u001b[38;5;124m'\u001b[39m,\u001b[38;5;241m3\u001b[39m)\n",
      "Cell \u001b[1;32mIn[34], line 5\u001b[0m, in \u001b[0;36m함수\u001b[1;34m(a, b)\u001b[0m\n\u001b[0;32m      4\u001b[0m \u001b[38;5;28;01mdef\u001b[39;00m \u001b[38;5;21m함수\u001b[39m(a, b) :\n\u001b[1;32m----> 5\u001b[0m     \u001b[38;5;28mprint\u001b[39m(a \u001b[38;5;241m+\u001b[39m b)\n",
      "\u001b[1;31mTypeError\u001b[0m: can only concatenate str (not \"int\") to str"
     ]
    }
   ],
   "source": [
    "#214\n",
    "#파이썬에서는 두 피연산자가 같은 자료형이어야 하는데, \n",
    "#서로 다른 자료형(문자열과 정수)이기 때문에 type error가 발생함\n",
    "def 함수(a, b) :\n",
    "    print(a + b)\n",
    "함수('안녕',3)"
   ]
  },
  {
   "cell_type": "code",
   "execution_count": 35,
   "id": "a52301a3",
   "metadata": {},
   "outputs": [
    {
     "name": "stdout",
     "output_type": "stream",
     "text": [
      "안녕3\n"
     ]
    }
   ],
   "source": [
    "#위 문제에서 안녕3을 출력하고 싶으면 \n",
    "def 함수(a, b) :\n",
    "    print(str(a)+str(b))\n",
    "\n",
    "함수('안녕',3)"
   ]
  },
  {
   "cell_type": "code",
   "execution_count": 37,
   "id": "ac765da9",
   "metadata": {},
   "outputs": [
    {
     "name": "stdout",
     "output_type": "stream",
     "text": [
      "안녕안녕안녕\n"
     ]
    }
   ],
   "source": [
    "#위 문제에서 문자열과 정수의 곱셈은 가능함\n",
    "def 함수(a, b) :\n",
    "    print(a * b)\n",
    "\n",
    "함수('안녕',3)"
   ]
  },
  {
   "cell_type": "code",
   "execution_count": 40,
   "id": "0f175879",
   "metadata": {},
   "outputs": [
    {
     "name": "stdout",
     "output_type": "stream",
     "text": [
      "10\n"
     ]
    }
   ],
   "source": [
    "#218. 두 개의 숫자를 입력받아 두 수의 합을 출력하는 print_sum 함수를 정의하라.\n",
    "def print_sum(a, b) :\n",
    "    print(a+b)\n",
    "print_sum(2,8)"
   ]
  },
  {
   "cell_type": "code",
   "execution_count": 44,
   "id": "24bb6832",
   "metadata": {},
   "outputs": [
    {
     "name": "stdout",
     "output_type": "stream",
     "text": [
      "10\n"
     ]
    }
   ],
   "source": [
    "#sum() 함수를 사용하려면, 숫자를 담고 있는 iterable(리스트, 튜플)을 만들어서 sum() 함수에 전달해야 함\n",
    "def print_sum(a, b):\n",
    "    result = sum([a, b])\n",
    "    print(result)\n",
    "\n",
    "print_sum(2,8)"
   ]
  },
  {
   "cell_type": "code",
   "execution_count": 46,
   "id": "15bb7532",
   "metadata": {},
   "outputs": [
    {
     "name": "stdout",
     "output_type": "stream",
     "text": [
      "2.0\n"
     ]
    }
   ],
   "source": [
    "def print_score (avg_score) :\n",
    "    print(sum(avg_score)/len(avg_score))\n",
    "print_score ([1, 2, 3])"
   ]
  },
  {
   "cell_type": "code",
   "execution_count": 47,
   "id": "cc2e3012",
   "metadata": {},
   "outputs": [
    {
     "name": "stdout",
     "output_type": "stream",
     "text": [
      "평균 성적: 2.0\n"
     ]
    }
   ],
   "source": [
    "def print_score(scores):\n",
    "    if not scores:\n",
    "        print(\"성적 리스트가 비어 있습니다.\")\n",
    "        return\n",
    "\n",
    "    average = sum(scores) / len(scores)\n",
    "    print(f\"평균 성적: {average}\")\n",
    "\n",
    "scores = [1,2,3]\n",
    "print_score(scores)"
   ]
  },
  {
   "cell_type": "code",
   "execution_count": 49,
   "id": "ee6eedff",
   "metadata": {},
   "outputs": [
    {
     "ename": "IndentationError",
     "evalue": "expected an indented block after function definition on line 2 (2285650904.py, line 3)",
     "output_type": "error",
     "traceback": [
      "\u001b[1;36m  Cell \u001b[1;32mIn[49], line 3\u001b[1;36m\u001b[0m\n\u001b[1;33m    print(len(string))\u001b[0m\n\u001b[1;37m    ^\u001b[0m\n\u001b[1;31mIndentationError\u001b[0m\u001b[1;31m:\u001b[0m expected an indented block after function definition on line 2\n"
     ]
    }
   ],
   "source": [
    "#226번 \n",
    "def print_5xn(string) :\n",
    "    for i in range(len(string),5)\n",
    "    print(i=i+5)\n"
   ]
  },
  {
   "cell_type": "code",
   "execution_count": null,
   "id": "dbabbf6f",
   "metadata": {},
   "outputs": [],
   "source": []
  }
 ],
 "metadata": {
  "kernelspec": {
   "display_name": "Python 3 (ipykernel)",
   "language": "python",
   "name": "python3"
  },
  "language_info": {
   "codemirror_mode": {
    "name": "ipython",
    "version": 3
   },
   "file_extension": ".py",
   "mimetype": "text/x-python",
   "name": "python",
   "nbconvert_exporter": "python",
   "pygments_lexer": "ipython3",
   "version": "3.11.5"
  },
  "toc": {
   "base_numbering": 1,
   "nav_menu": {},
   "number_sections": true,
   "sideBar": true,
   "skip_h1_title": false,
   "title_cell": "Table of Contents",
   "title_sidebar": "Contents",
   "toc_cell": false,
   "toc_position": {},
   "toc_section_display": true,
   "toc_window_display": false
  }
 },
 "nbformat": 4,
 "nbformat_minor": 5
}
