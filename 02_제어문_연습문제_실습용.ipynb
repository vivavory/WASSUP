{
 "cells": [
  {
   "cell_type": "markdown",
   "id": "7463e6f8",
   "metadata": {},
   "source": [
    "# Q1 다음 코드의 결괏값은 무엇일까?\n",
    "```\n",
    "a = 'Life is too short, you need python'\n",
    "if 'wife' in a: print('wife')\n",
    "elif 'python' in a and 'you' not in a : print('python')\n",
    "elif 'shirt' not in a : print('shirt')\n",
    "elif 'need' in a: print('need')\n",
    "else: print('none')\n",
    "```"
   ]
  },
  {
   "cell_type": "code",
   "execution_count": 2,
   "id": "876ead4f",
   "metadata": {},
   "outputs": [
    {
     "name": "stdout",
     "output_type": "stream",
     "text": [
      "shirt\n"
     ]
    }
   ],
   "source": [
    "# shirt 가 출력됨 \n",
    "a = 'Life is too short, you need python'\n",
    "if 'wife' in a: print('wife')\n",
    "elif 'python' in a and 'you' not in a : print('python')\n",
    "elif 'shirt' not in a : print('shirt')\n",
    "elif 'need' in a: print('need')\n",
    "else: print('none')"
   ]
  },
  {
   "cell_type": "markdown",
   "id": "5748095d",
   "metadata": {},
   "source": [
    "# Q2 while문을 사용해 1부터 1000까지의 자연수 중 3의 배수의 합을 구해 보자.\n",
    "```\n",
    "result = 0\n",
    "i = 1\n",
    "while i <= 1000:\n",
    "    if ?????  # 3으로 나누어 떨어지는 수는 3의 배수\n",
    "        result += i\n",
    "    i += 1\n",
    "print(result) # 166833 출력\n",
    "```"
   ]
  },
  {
   "cell_type": "code",
   "execution_count": 3,
   "id": "e465d2d1",
   "metadata": {},
   "outputs": [
    {
     "name": "stdout",
     "output_type": "stream",
     "text": [
      "166833\n"
     ]
    }
   ],
   "source": [
    "# 조건식에 따른 증감연산자, break 꼭 추가해야함 \n",
    "result = 0\n",
    "i = 1\n",
    "\n",
    "while i <= 1000:\n",
    "    if i%3==0:  # 3으로 나누어 떨어지는 수는 3의 배수\n",
    "        result += i\n",
    "    i += 1\n",
    "print(result) # 166833 출력"
   ]
  },
  {
   "cell_type": "markdown",
   "id": "7f8a865a",
   "metadata": {},
   "source": [
    "# Q3 while문을 사용하여 다음과 같이 별(*)을 표시하는 프로그램을 작성해 보자.\n",
    "```\n",
    "*\n",
    "**\n",
    "***\n",
    "****\n",
    "*****\n",
    "```"
   ]
  },
  {
   "cell_type": "code",
   "execution_count": 21,
   "id": "a10b8c46",
   "metadata": {},
   "outputs": [
    {
     "name": "stdout",
     "output_type": "stream",
     "text": [
      "*\n",
      "**\n",
      "***\n",
      "****\n",
      "*****\n"
     ]
    }
   ],
   "source": [
    "i = 1\n",
    "while i < 6:\n",
    "    print('*'*i)\n",
    "    i +=1"
   ]
  },
  {
   "cell_type": "code",
   "execution_count": 26,
   "id": "79e0d12e",
   "metadata": {},
   "outputs": [
    {
     "name": "stdout",
     "output_type": "stream",
     "text": [
      "*\n",
      "**\n",
      "***\n",
      "****\n",
      "*****\n"
     ]
    }
   ],
   "source": [
    "i = 0\n",
    "while True:\n",
    "    i += 1\n",
    "    if i>5: break\n",
    "    print('*'*i)"
   ]
  },
  {
   "cell_type": "markdown",
   "id": "2cd6d851",
   "metadata": {},
   "source": [
    "# Q4 for문을 사용해 1부터 100까지의 숫자를 출력해보자\n",
    "```\n",
    "for i in ???\n",
    "    print(i)\n",
    "```"
   ]
  },
  {
   "cell_type": "code",
   "execution_count": 15,
   "id": "386de29b",
   "metadata": {},
   "outputs": [
    {
     "name": "stdout",
     "output_type": "stream",
     "text": [
      "1 2 3 4 5 6 7 8 9 10 11 12 13 14 15 16 17 18 19 20 21 22 23 24 25 26 27 28 29 30 31 32 33 34 35 36 37 38 39 40 41 42 43 44 45 46 47 48 49 50 51 52 53 54 55 56 57 58 59 60 61 62 63 64 65 66 67 68 69 70 71 72 73 74 75 76 77 78 79 80 81 82 83 84 85 86 87 88 89 90 91 92 93 94 95 96 97 98 99 100 "
     ]
    }
   ],
   "source": [
    "for i in range(1,101):\n",
    "    print(i,end=' ')"
   ]
  },
  {
   "cell_type": "markdown",
   "id": "aad386c0",
   "metadata": {},
   "source": [
    "# Q5 A학급에 총 10명의 학생이 있다. 이 학생들의 중간고사 점수는 다음과 같다.\n",
    "for문을 사용하여 A 학급의 평균 점수를 구해보자.\n",
    "```\n",
    "A = [70, 60, 55, 75, 95, 90, 80, 80, 85, 100]\n",
    "total = 0\n",
    "for score in A:\n",
    "    total += ???? # A학급의 점수를 모두 더한다.\n",
    "average = ???? # 평균을 구하기 위해 총 점수를 총 학생수로 나눈다.\n",
    "print(average)\n",
    "```"
   ]
  },
  {
   "cell_type": "code",
   "execution_count": 24,
   "id": "6c3fdeb4",
   "metadata": {},
   "outputs": [
    {
     "name": "stdout",
     "output_type": "stream",
     "text": [
      "79.0\n"
     ]
    }
   ],
   "source": [
    "A = [70, 60, 55, 75, 95, 90, 80, 80, 85, 100]\n",
    "total = 0\n",
    "for score in A:\n",
    "    total += score # A학급의 점수를 모두 더한다.\n",
    "average = total/len(A) # 평균을 구하기 위해 총 점수를 총 학생수로 나눈다.\n",
    "print(average)"
   ]
  },
  {
   "cell_type": "markdown",
   "id": "a84c0728",
   "metadata": {},
   "source": [
    "# Q6 리스트 중에서 홀수에만 2를 곱하여 저장하는 다음 코드가 있다.\n",
    "```\n",
    "numbers = [1, 2, 3, 4, 5]\n",
    "result = []\n",
    "for n in numbers:\n",
    "if n % 2 == 1:\n",
    "    result.append(n*2)\n",
    "```\n",
    "위 코드를 리스트 내포(list comprehension)을 사용하여 표현해보자.\n",
    "```\n",
    "numbers = [1, 2, 3, 4, 5]\n",
    "result = ?????\n",
    "print(result)\n",
    "```"
   ]
  },
  {
   "cell_type": "code",
   "execution_count": 27,
   "id": "cf9aee67",
   "metadata": {},
   "outputs": [
    {
     "name": "stdout",
     "output_type": "stream",
     "text": [
      "[2, 6, 10]\n"
     ]
    }
   ],
   "source": [
    "numbers = [1, 2, 3, 4, 5]\n",
    "result = []\n",
    "for n in numbers:\n",
    "    if n % 2 == 1:\n",
    "        result.append(n*2)\n",
    "    \n",
    "numbers = [1, 2, 3, 4, 5]\n",
    "result = [n*2 for n in numbers if n%2 ==1]\n",
    "print(result)"
   ]
  },
  {
   "cell_type": "markdown",
   "id": "d6b526fc",
   "metadata": {},
   "source": [
    "```\n",
    "\"뭔가 하게 되면 나는 어떤 식으로든 성장한다.\"\n",
    "- 소설가 김연수\n",
    "```"
   ]
  }
 ],
 "metadata": {
  "kernelspec": {
   "display_name": "Python 3 (ipykernel)",
   "language": "python",
   "name": "python3"
  },
  "language_info": {
   "codemirror_mode": {
    "name": "ipython",
    "version": 3
   },
   "file_extension": ".py",
   "mimetype": "text/x-python",
   "name": "python",
   "nbconvert_exporter": "python",
   "pygments_lexer": "ipython3",
   "version": "3.11.5"
  },
  "toc": {
   "base_numbering": 1,
   "nav_menu": {},
   "number_sections": true,
   "sideBar": true,
   "skip_h1_title": false,
   "title_cell": "Table of Contents",
   "title_sidebar": "Contents",
   "toc_cell": false,
   "toc_position": {},
   "toc_section_display": true,
   "toc_window_display": false
  },
  "varInspector": {
   "cols": {
    "lenName": 16,
    "lenType": 16,
    "lenVar": 40
   },
   "kernels_config": {
    "python": {
     "delete_cmd_postfix": "",
     "delete_cmd_prefix": "del ",
     "library": "var_list.py",
     "varRefreshCmd": "print(var_dic_list())"
    },
    "r": {
     "delete_cmd_postfix": ") ",
     "delete_cmd_prefix": "rm(",
     "library": "var_list.r",
     "varRefreshCmd": "cat(var_dic_list()) "
    }
   },
   "types_to_exclude": [
    "module",
    "function",
    "builtin_function_or_method",
    "instance",
    "_Feature"
   ],
   "window_display": false
  }
 },
 "nbformat": 4,
 "nbformat_minor": 5
}
